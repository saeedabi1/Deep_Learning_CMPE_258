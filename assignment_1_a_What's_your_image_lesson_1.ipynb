{
  "nbformat": 4,
  "nbformat_minor": 0,
  "metadata": {
    "colab": {
      "name": "assignment_1_a_What's your image_lesson 1.ipynb",
      "provenance": [],
      "collapsed_sections": [],
      "authorship_tag": "ABX9TyMJyudaxSTV7v/4ovZb95UP",
      "include_colab_link": true
    },
    "kernelspec": {
      "name": "python3",
      "display_name": "Python 3"
    },
    "widgets": {
      "application/vnd.jupyter.widget-state+json": {
        "3678ecb12c184536884529a06ad76b75": {
          "model_module": "@jupyter-widgets/controls",
          "model_name": "HBoxModel",
          "state": {
            "_view_name": "HBoxView",
            "_dom_classes": [],
            "_model_name": "HBoxModel",
            "_view_module": "@jupyter-widgets/controls",
            "_model_module_version": "1.5.0",
            "_view_count": null,
            "_view_module_version": "1.5.0",
            "box_style": "",
            "layout": "IPY_MODEL_a3f93aa3dc694dcc999f2a0452a2d2d6",
            "_model_module": "@jupyter-widgets/controls",
            "children": [
              "IPY_MODEL_a65769835d98407aabb6e4733c3b84f5",
              "IPY_MODEL_2e1c00bd9e754318959a4642b47e08a4"
            ]
          }
        },
        "a3f93aa3dc694dcc999f2a0452a2d2d6": {
          "model_module": "@jupyter-widgets/base",
          "model_name": "LayoutModel",
          "state": {
            "_view_name": "LayoutView",
            "grid_template_rows": null,
            "right": null,
            "justify_content": null,
            "_view_module": "@jupyter-widgets/base",
            "overflow": null,
            "_model_module_version": "1.2.0",
            "_view_count": null,
            "flex_flow": null,
            "width": null,
            "min_width": null,
            "border": null,
            "align_items": null,
            "bottom": null,
            "_model_module": "@jupyter-widgets/base",
            "top": null,
            "grid_column": null,
            "overflow_y": null,
            "overflow_x": null,
            "grid_auto_flow": null,
            "grid_area": null,
            "grid_template_columns": null,
            "flex": null,
            "_model_name": "LayoutModel",
            "justify_items": null,
            "grid_row": null,
            "max_height": null,
            "align_content": null,
            "visibility": null,
            "align_self": null,
            "height": null,
            "min_height": null,
            "padding": null,
            "grid_auto_rows": null,
            "grid_gap": null,
            "max_width": null,
            "order": null,
            "_view_module_version": "1.2.0",
            "grid_template_areas": null,
            "object_position": null,
            "object_fit": null,
            "grid_auto_columns": null,
            "margin": null,
            "display": null,
            "left": null
          }
        },
        "a65769835d98407aabb6e4733c3b84f5": {
          "model_module": "@jupyter-widgets/controls",
          "model_name": "IntProgressModel",
          "state": {
            "_view_name": "ProgressView",
            "style": "IPY_MODEL_11f6900f39784bd0b6cd6467f9948bd6",
            "_dom_classes": [],
            "description": "",
            "_model_name": "IntProgressModel",
            "bar_style": "success",
            "max": 87306240,
            "_view_module": "@jupyter-widgets/controls",
            "_model_module_version": "1.5.0",
            "value": 87306240,
            "_view_count": null,
            "_view_module_version": "1.5.0",
            "orientation": "horizontal",
            "min": 0,
            "description_tooltip": null,
            "_model_module": "@jupyter-widgets/controls",
            "layout": "IPY_MODEL_a7f1468dcb5f4128bfecdfc30b2c5301"
          }
        },
        "2e1c00bd9e754318959a4642b47e08a4": {
          "model_module": "@jupyter-widgets/controls",
          "model_name": "HTMLModel",
          "state": {
            "_view_name": "HTMLView",
            "style": "IPY_MODEL_c000363506f24e9f9aaa8573c5d1adb5",
            "_dom_classes": [],
            "description": "",
            "_model_name": "HTMLModel",
            "placeholder": "​",
            "_view_module": "@jupyter-widgets/controls",
            "_model_module_version": "1.5.0",
            "value": "100% 83.3M/83.3M [00:00&lt;00:00, 95.5MB/s]",
            "_view_count": null,
            "_view_module_version": "1.5.0",
            "description_tooltip": null,
            "_model_module": "@jupyter-widgets/controls",
            "layout": "IPY_MODEL_f6f4d9ba3dca42789d1a865d58f3ae60"
          }
        },
        "11f6900f39784bd0b6cd6467f9948bd6": {
          "model_module": "@jupyter-widgets/controls",
          "model_name": "ProgressStyleModel",
          "state": {
            "_view_name": "StyleView",
            "_model_name": "ProgressStyleModel",
            "description_width": "",
            "_view_module": "@jupyter-widgets/base",
            "_model_module_version": "1.5.0",
            "_view_count": null,
            "_view_module_version": "1.2.0",
            "bar_color": null,
            "_model_module": "@jupyter-widgets/controls"
          }
        },
        "a7f1468dcb5f4128bfecdfc30b2c5301": {
          "model_module": "@jupyter-widgets/base",
          "model_name": "LayoutModel",
          "state": {
            "_view_name": "LayoutView",
            "grid_template_rows": null,
            "right": null,
            "justify_content": null,
            "_view_module": "@jupyter-widgets/base",
            "overflow": null,
            "_model_module_version": "1.2.0",
            "_view_count": null,
            "flex_flow": null,
            "width": null,
            "min_width": null,
            "border": null,
            "align_items": null,
            "bottom": null,
            "_model_module": "@jupyter-widgets/base",
            "top": null,
            "grid_column": null,
            "overflow_y": null,
            "overflow_x": null,
            "grid_auto_flow": null,
            "grid_area": null,
            "grid_template_columns": null,
            "flex": null,
            "_model_name": "LayoutModel",
            "justify_items": null,
            "grid_row": null,
            "max_height": null,
            "align_content": null,
            "visibility": null,
            "align_self": null,
            "height": null,
            "min_height": null,
            "padding": null,
            "grid_auto_rows": null,
            "grid_gap": null,
            "max_width": null,
            "order": null,
            "_view_module_version": "1.2.0",
            "grid_template_areas": null,
            "object_position": null,
            "object_fit": null,
            "grid_auto_columns": null,
            "margin": null,
            "display": null,
            "left": null
          }
        },
        "c000363506f24e9f9aaa8573c5d1adb5": {
          "model_module": "@jupyter-widgets/controls",
          "model_name": "DescriptionStyleModel",
          "state": {
            "_view_name": "StyleView",
            "_model_name": "DescriptionStyleModel",
            "description_width": "",
            "_view_module": "@jupyter-widgets/base",
            "_model_module_version": "1.5.0",
            "_view_count": null,
            "_view_module_version": "1.2.0",
            "_model_module": "@jupyter-widgets/controls"
          }
        },
        "f6f4d9ba3dca42789d1a865d58f3ae60": {
          "model_module": "@jupyter-widgets/base",
          "model_name": "LayoutModel",
          "state": {
            "_view_name": "LayoutView",
            "grid_template_rows": null,
            "right": null,
            "justify_content": null,
            "_view_module": "@jupyter-widgets/base",
            "overflow": null,
            "_model_module_version": "1.2.0",
            "_view_count": null,
            "flex_flow": null,
            "width": null,
            "min_width": null,
            "border": null,
            "align_items": null,
            "bottom": null,
            "_model_module": "@jupyter-widgets/base",
            "top": null,
            "grid_column": null,
            "overflow_y": null,
            "overflow_x": null,
            "grid_auto_flow": null,
            "grid_area": null,
            "grid_template_columns": null,
            "flex": null,
            "_model_name": "LayoutModel",
            "justify_items": null,
            "grid_row": null,
            "max_height": null,
            "align_content": null,
            "visibility": null,
            "align_self": null,
            "height": null,
            "min_height": null,
            "padding": null,
            "grid_auto_rows": null,
            "grid_gap": null,
            "max_width": null,
            "order": null,
            "_view_module_version": "1.2.0",
            "grid_template_areas": null,
            "object_position": null,
            "object_fit": null,
            "grid_auto_columns": null,
            "margin": null,
            "display": null,
            "left": null
          }
        },
        "71c87469bb4c4980a73f9fece7c3b010": {
          "model_module": "@jupyter-widgets/controls",
          "model_name": "HBoxModel",
          "state": {
            "_view_name": "HBoxView",
            "_dom_classes": [],
            "_model_name": "HBoxModel",
            "_view_module": "@jupyter-widgets/controls",
            "_model_module_version": "1.5.0",
            "_view_count": null,
            "_view_module_version": "1.5.0",
            "box_style": "",
            "layout": "IPY_MODEL_fba911260fe842efb1a237305211c095",
            "_model_module": "@jupyter-widgets/controls",
            "children": [
              "IPY_MODEL_d12f39a53c6a42f39cbf4f69c972927e",
              "IPY_MODEL_1af62cc5115b420691d42b61483fc01a"
            ]
          }
        },
        "fba911260fe842efb1a237305211c095": {
          "model_module": "@jupyter-widgets/base",
          "model_name": "LayoutModel",
          "state": {
            "_view_name": "LayoutView",
            "grid_template_rows": null,
            "right": null,
            "justify_content": null,
            "_view_module": "@jupyter-widgets/base",
            "overflow": null,
            "_model_module_version": "1.2.0",
            "_view_count": null,
            "flex_flow": null,
            "width": null,
            "min_width": null,
            "border": null,
            "align_items": null,
            "bottom": null,
            "_model_module": "@jupyter-widgets/base",
            "top": null,
            "grid_column": null,
            "overflow_y": null,
            "overflow_x": null,
            "grid_auto_flow": null,
            "grid_area": null,
            "grid_template_columns": null,
            "flex": null,
            "_model_name": "LayoutModel",
            "justify_items": null,
            "grid_row": null,
            "max_height": null,
            "align_content": null,
            "visibility": null,
            "align_self": null,
            "height": null,
            "min_height": null,
            "padding": null,
            "grid_auto_rows": null,
            "grid_gap": null,
            "max_width": null,
            "order": null,
            "_view_module_version": "1.2.0",
            "grid_template_areas": null,
            "object_position": null,
            "object_fit": null,
            "grid_auto_columns": null,
            "margin": null,
            "display": null,
            "left": null
          }
        },
        "d12f39a53c6a42f39cbf4f69c972927e": {
          "model_module": "@jupyter-widgets/controls",
          "model_name": "IntProgressModel",
          "state": {
            "_view_name": "ProgressView",
            "style": "IPY_MODEL_458cf4da52f34f598aa5eaef7bd83495",
            "_dom_classes": [],
            "description": "",
            "_model_name": "IntProgressModel",
            "bar_style": "success",
            "max": 102502400,
            "_view_module": "@jupyter-widgets/controls",
            "_model_module_version": "1.5.0",
            "value": 102502400,
            "_view_count": null,
            "_view_module_version": "1.5.0",
            "orientation": "horizontal",
            "min": 0,
            "description_tooltip": null,
            "_model_module": "@jupyter-widgets/controls",
            "layout": "IPY_MODEL_15495929fc2246e5807e0a7aa7056603"
          }
        },
        "1af62cc5115b420691d42b61483fc01a": {
          "model_module": "@jupyter-widgets/controls",
          "model_name": "HTMLModel",
          "state": {
            "_view_name": "HTMLView",
            "style": "IPY_MODEL_008f3d854f3648d4aa493db84b4e04d1",
            "_dom_classes": [],
            "description": "",
            "_model_name": "HTMLModel",
            "placeholder": "​",
            "_view_module": "@jupyter-widgets/controls",
            "_model_module_version": "1.5.0",
            "value": "100% 97.8M/97.8M [00:00&lt;00:00, 104MB/s]",
            "_view_count": null,
            "_view_module_version": "1.5.0",
            "description_tooltip": null,
            "_model_module": "@jupyter-widgets/controls",
            "layout": "IPY_MODEL_fd07a9cbc3924213b5085fe639ef3ebe"
          }
        },
        "458cf4da52f34f598aa5eaef7bd83495": {
          "model_module": "@jupyter-widgets/controls",
          "model_name": "ProgressStyleModel",
          "state": {
            "_view_name": "StyleView",
            "_model_name": "ProgressStyleModel",
            "description_width": "",
            "_view_module": "@jupyter-widgets/base",
            "_model_module_version": "1.5.0",
            "_view_count": null,
            "_view_module_version": "1.2.0",
            "bar_color": null,
            "_model_module": "@jupyter-widgets/controls"
          }
        },
        "15495929fc2246e5807e0a7aa7056603": {
          "model_module": "@jupyter-widgets/base",
          "model_name": "LayoutModel",
          "state": {
            "_view_name": "LayoutView",
            "grid_template_rows": null,
            "right": null,
            "justify_content": null,
            "_view_module": "@jupyter-widgets/base",
            "overflow": null,
            "_model_module_version": "1.2.0",
            "_view_count": null,
            "flex_flow": null,
            "width": null,
            "min_width": null,
            "border": null,
            "align_items": null,
            "bottom": null,
            "_model_module": "@jupyter-widgets/base",
            "top": null,
            "grid_column": null,
            "overflow_y": null,
            "overflow_x": null,
            "grid_auto_flow": null,
            "grid_area": null,
            "grid_template_columns": null,
            "flex": null,
            "_model_name": "LayoutModel",
            "justify_items": null,
            "grid_row": null,
            "max_height": null,
            "align_content": null,
            "visibility": null,
            "align_self": null,
            "height": null,
            "min_height": null,
            "padding": null,
            "grid_auto_rows": null,
            "grid_gap": null,
            "max_width": null,
            "order": null,
            "_view_module_version": "1.2.0",
            "grid_template_areas": null,
            "object_position": null,
            "object_fit": null,
            "grid_auto_columns": null,
            "margin": null,
            "display": null,
            "left": null
          }
        },
        "008f3d854f3648d4aa493db84b4e04d1": {
          "model_module": "@jupyter-widgets/controls",
          "model_name": "DescriptionStyleModel",
          "state": {
            "_view_name": "StyleView",
            "_model_name": "DescriptionStyleModel",
            "description_width": "",
            "_view_module": "@jupyter-widgets/base",
            "_model_module_version": "1.5.0",
            "_view_count": null,
            "_view_module_version": "1.2.0",
            "_model_module": "@jupyter-widgets/controls"
          }
        },
        "fd07a9cbc3924213b5085fe639ef3ebe": {
          "model_module": "@jupyter-widgets/base",
          "model_name": "LayoutModel",
          "state": {
            "_view_name": "LayoutView",
            "grid_template_rows": null,
            "right": null,
            "justify_content": null,
            "_view_module": "@jupyter-widgets/base",
            "overflow": null,
            "_model_module_version": "1.2.0",
            "_view_count": null,
            "flex_flow": null,
            "width": null,
            "min_width": null,
            "border": null,
            "align_items": null,
            "bottom": null,
            "_model_module": "@jupyter-widgets/base",
            "top": null,
            "grid_column": null,
            "overflow_y": null,
            "overflow_x": null,
            "grid_auto_flow": null,
            "grid_area": null,
            "grid_template_columns": null,
            "flex": null,
            "_model_name": "LayoutModel",
            "justify_items": null,
            "grid_row": null,
            "max_height": null,
            "align_content": null,
            "visibility": null,
            "align_self": null,
            "height": null,
            "min_height": null,
            "padding": null,
            "grid_auto_rows": null,
            "grid_gap": null,
            "max_width": null,
            "order": null,
            "_view_module_version": "1.2.0",
            "grid_template_areas": null,
            "object_position": null,
            "object_fit": null,
            "grid_auto_columns": null,
            "margin": null,
            "display": null,
            "left": null
          }
        }
      }
    },
    "accelerator": "GPU"
  },
  "cells": [
    {
      "cell_type": "markdown",
      "metadata": {
        "id": "view-in-github",
        "colab_type": "text"
      },
      "source": [
        "<a href=\"https://colab.research.google.com/github/saeedabi1/Deep_Learning_CMPE_258/blob/master/assignment_1_a_What's_your_image_lesson_1.ipynb\" target=\"_parent\"><img src=\"https://colab.research.google.com/assets/colab-badge.svg\" alt=\"Open In Colab\"/></a>"
      ]
    },
    {
      "cell_type": "code",
      "metadata": {
        "id": "_exnSQQfABNm",
        "colab_type": "code",
        "colab": {}
      },
      "source": [
        "%reload_ext autoreload\n",
        "%autoreload 2\n",
        "%matplotlib inline"
      ],
      "execution_count": 0,
      "outputs": []
    },
    {
      "cell_type": "code",
      "metadata": {
        "id": "7nqjGIByAFNm",
        "colab_type": "code",
        "colab": {}
      },
      "source": [
        "from fastai.vision import *\n",
        "from fastai.metrics import error_rate"
      ],
      "execution_count": 0,
      "outputs": []
    },
    {
      "cell_type": "code",
      "metadata": {
        "id": "UYF4-NLSAFQn",
        "colab_type": "code",
        "colab": {}
      },
      "source": [
        "bs = 64"
      ],
      "execution_count": 0,
      "outputs": []
    },
    {
      "cell_type": "code",
      "metadata": {
        "id": "tYaQlw-6AFTh",
        "colab_type": "code",
        "outputId": "406c69b9-c7e8-4646-adfa-614635d984a2",
        "colab": {
          "base_uri": "https://localhost:8080/",
          "height": 1000
        }
      },
      "source": [
        "help(URLs)"
      ],
      "execution_count": 4,
      "outputs": [
        {
          "output_type": "stream",
          "text": [
            "Help on class URLs in module fastai.datasets:\n",
            "\n",
            "class URLs(builtins.object)\n",
            " |  Global constants for dataset and model URLs.\n",
            " |  \n",
            " |  Data descriptors defined here:\n",
            " |  \n",
            " |  __dict__\n",
            " |      dictionary for instance variables (if defined)\n",
            " |  \n",
            " |  __weakref__\n",
            " |      list of weak references to the object (if defined)\n",
            " |  \n",
            " |  ----------------------------------------------------------------------\n",
            " |  Data and other attributes defined here:\n",
            " |  \n",
            " |  ADULT_SAMPLE = 'http://files.fast.ai/data/examples/adult_sample'\n",
            " |  \n",
            " |  AG_NEWS = 'https://s3.amazonaws.com/fast-ai-nlp/ag_news_csv'\n",
            " |  \n",
            " |  AMAZON_REVIEWS = 'https://s3.amazonaws.com/fast-ai-nlp/amazon_review_f...\n",
            " |  \n",
            " |  AMAZON_REVIEWS_POLARITY = 'https://s3.amazonaws.com/fast-ai-nlp/amazon...\n",
            " |  \n",
            " |  BIWI_HEAD_POSE = 'https://s3.amazonaws.com/fast-ai-imagelocal/biwi_hea...\n",
            " |  \n",
            " |  BIWI_SAMPLE = 'http://files.fast.ai/data/examples/biwi_sample'\n",
            " |  \n",
            " |  CALTECH_101 = 'https://s3.amazonaws.com/fast-ai-imageclas/caltech_101'\n",
            " |  \n",
            " |  CAMVID = 'https://s3.amazonaws.com/fast-ai-imagelocal/camvid'\n",
            " |  \n",
            " |  CAMVID_TINY = 'http://files.fast.ai/data/examples/camvid_tiny'\n",
            " |  \n",
            " |  CARS = 'https://s3.amazonaws.com/fast-ai-imageclas/stanford-cars'\n",
            " |  \n",
            " |  CIFAR = 'http://files.fast.ai/data/examples/cifar10'\n",
            " |  \n",
            " |  CIFAR_100 = 'https://s3.amazonaws.com/fast-ai-imageclas/cifar100'\n",
            " |  \n",
            " |  COCO_SAMPLE = 'https://s3.amazonaws.com/fast-ai-coco/coco_sample'\n",
            " |  \n",
            " |  COCO_TINY = 'http://files.fast.ai/data/examples/coco_tiny'\n",
            " |  \n",
            " |  CUB_200_2011 = 'https://s3.amazonaws.com/fast-ai-imageclas/CUB_200_201...\n",
            " |  \n",
            " |  DBPEDIA = 'https://s3.amazonaws.com/fast-ai-nlp/dbpedia_csv'\n",
            " |  \n",
            " |  DOGS = 'http://files.fast.ai/data/examples/dogscats'\n",
            " |  \n",
            " |  FLOWERS = 'https://s3.amazonaws.com/fast-ai-imageclas/oxford-102-flowe...\n",
            " |  \n",
            " |  FOOD = 'https://s3.amazonaws.com/fast-ai-imageclas/food-101'\n",
            " |  \n",
            " |  HUMAN_NUMBERS = 'http://files.fast.ai/data/examples/human_numbers'\n",
            " |  \n",
            " |  IMAGENETTE = 'https://s3.amazonaws.com/fast-ai-imageclas/imagenette2'\n",
            " |  \n",
            " |  IMAGENETTE_160 = 'https://s3.amazonaws.com/fast-ai-imageclas/imagenett...\n",
            " |  \n",
            " |  IMAGENETTE_320 = 'https://s3.amazonaws.com/fast-ai-imageclas/imagenett...\n",
            " |  \n",
            " |  IMAGEWOOF = 'https://s3.amazonaws.com/fast-ai-imageclas/imagewoof2'\n",
            " |  \n",
            " |  IMAGEWOOF_160 = 'https://s3.amazonaws.com/fast-ai-imageclas/imagewoof2...\n",
            " |  \n",
            " |  IMAGEWOOF_320 = 'https://s3.amazonaws.com/fast-ai-imageclas/imagewoof2...\n",
            " |  \n",
            " |  IMDB = 'https://s3.amazonaws.com/fast-ai-nlp/imdb'\n",
            " |  \n",
            " |  IMDB_SAMPLE = 'http://files.fast.ai/data/examples/imdb_sample'\n",
            " |  \n",
            " |  LOCAL_PATH = PosixPath('/content')\n",
            " |  \n",
            " |  LSUN_BEDROOMS = 'https://s3.amazonaws.com/fast-ai-imageclas/bedroom'\n",
            " |  \n",
            " |  ML_SAMPLE = 'http://files.fast.ai/data/examples/movie_lens_sample'\n",
            " |  \n",
            " |  MNIST = 'https://s3.amazonaws.com/fast-ai-imageclas/mnist_png'\n",
            " |  \n",
            " |  MNIST_SAMPLE = 'http://files.fast.ai/data/examples/mnist_sample'\n",
            " |  \n",
            " |  MNIST_TINY = 'http://files.fast.ai/data/examples/mnist_tiny'\n",
            " |  \n",
            " |  MNIST_VAR_SIZE_TINY = 'https://s3.amazonaws.com/fast-ai-imageclas/mnis...\n",
            " |  \n",
            " |  MT_ENG_FRA = 'https://s3.amazonaws.com/fast-ai-nlp/giga-fren'\n",
            " |  \n",
            " |  OPENAI_TRANSFORMER = 'https://s3.amazonaws.com/fast-ai-modelzoo/transf...\n",
            " |  \n",
            " |  PASCAL_2007 = 'https://s3.amazonaws.com/fast-ai-imagelocal/pascal_2007...\n",
            " |  \n",
            " |  PASCAL_2012 = 'https://s3.amazonaws.com/fast-ai-imagelocal/pascal_2012...\n",
            " |  \n",
            " |  PETS = 'https://s3.amazonaws.com/fast-ai-imageclas/oxford-iiit-pet'\n",
            " |  \n",
            " |  PLANET_SAMPLE = 'http://files.fast.ai/data/examples/planet_sample'\n",
            " |  \n",
            " |  PLANET_TINY = 'http://files.fast.ai/data/examples/planet_tiny'\n",
            " |  \n",
            " |  S3 = 'https://s3.amazonaws.com/fast-ai-'\n",
            " |  \n",
            " |  S3_COCO = 'https://s3.amazonaws.com/fast-ai-coco/'\n",
            " |  \n",
            " |  S3_IMAGE = 'https://s3.amazonaws.com/fast-ai-imageclas/'\n",
            " |  \n",
            " |  S3_IMAGELOC = 'https://s3.amazonaws.com/fast-ai-imagelocal/'\n",
            " |  \n",
            " |  S3_MODEL = 'https://s3.amazonaws.com/fast-ai-modelzoo/'\n",
            " |  \n",
            " |  S3_NLP = 'https://s3.amazonaws.com/fast-ai-nlp/'\n",
            " |  \n",
            " |  SOGOU_NEWS = 'https://s3.amazonaws.com/fast-ai-nlp/sogou_news_csv'\n",
            " |  \n",
            " |  WIKITEXT = 'https://s3.amazonaws.com/fast-ai-nlp/wikitext-103'\n",
            " |  \n",
            " |  WIKITEXT_TINY = 'https://s3.amazonaws.com/fast-ai-nlp/wikitext-2'\n",
            " |  \n",
            " |  WT103_BWD = 'https://s3.amazonaws.com/fast-ai-modelzoo/wt103-bwd'\n",
            " |  \n",
            " |  WT103_FWD = 'https://s3.amazonaws.com/fast-ai-modelzoo/wt103-fwd'\n",
            " |  \n",
            " |  YAHOO_ANSWERS = 'https://s3.amazonaws.com/fast-ai-nlp/yahoo_answers_cs...\n",
            " |  \n",
            " |  YELP_REVIEWS = 'https://s3.amazonaws.com/fast-ai-nlp/yelp_review_full_...\n",
            " |  \n",
            " |  YELP_REVIEWS_POLARITY = 'https://s3.amazonaws.com/fast-ai-nlp/yelp_rev...\n",
            "\n"
          ],
          "name": "stdout"
        }
      ]
    },
    {
      "cell_type": "markdown",
      "metadata": {
        "id": "ib7PFHll5w9W",
        "colab_type": "text"
      },
      "source": [
        "# **The CIFAR or CIFAR-10 dataset**\n",
        "The CIFAR-10 dataset consists of 60000 32x32 colour images in 10 classes, with 6000 images per class. There are 50000 training images and 10000 test images.\n"
      ]
    },
    {
      "cell_type": "code",
      "metadata": {
        "id": "o7K3V30SAFeZ",
        "colab_type": "code",
        "outputId": "f66f864d-3efb-460e-dfab-2232f2701dba",
        "colab": {
          "base_uri": "https://localhost:8080/",
          "height": 51
        }
      },
      "source": [
        "path = untar_data(URLs.CIFAR); path"
      ],
      "execution_count": 5,
      "outputs": [
        {
          "output_type": "stream",
          "text": [
            "Downloading http://files.fast.ai/data/examples/cifar10\n"
          ],
          "name": "stdout"
        },
        {
          "output_type": "display_data",
          "data": {
            "text/html": [
              ""
            ],
            "text/plain": [
              "<IPython.core.display.HTML object>"
            ]
          },
          "metadata": {
            "tags": []
          }
        },
        {
          "output_type": "execute_result",
          "data": {
            "text/plain": [
              "PosixPath('/root/.fastai/data/cifar10')"
            ]
          },
          "metadata": {
            "tags": []
          },
          "execution_count": 5
        }
      ]
    },
    {
      "cell_type": "code",
      "metadata": {
        "id": "ImP-SC-gAaYB",
        "colab_type": "code",
        "outputId": "6af56e92-646d-4d7b-d4c1-10a7c0f80333",
        "colab": {
          "base_uri": "https://localhost:8080/",
          "height": 68
        }
      },
      "source": [
        "path.ls()"
      ],
      "execution_count": 6,
      "outputs": [
        {
          "output_type": "execute_result",
          "data": {
            "text/plain": [
              "[PosixPath('/root/.fastai/data/cifar10/labels.txt'),\n",
              " PosixPath('/root/.fastai/data/cifar10/train'),\n",
              " PosixPath('/root/.fastai/data/cifar10/test')]"
            ]
          },
          "metadata": {
            "tags": []
          },
          "execution_count": 6
        }
      ]
    },
    {
      "cell_type": "markdown",
      "metadata": {
        "id": "mX4bDFc96hjR",
        "colab_type": "text"
      },
      "source": [
        "**Getting the data**"
      ]
    },
    {
      "cell_type": "code",
      "metadata": {
        "id": "IyEcl9mnAsFO",
        "colab_type": "code",
        "colab": {}
      },
      "source": [
        "path_test = path/'test'\n",
        "path_train = path/'train'"
      ],
      "execution_count": 0,
      "outputs": []
    },
    {
      "cell_type": "code",
      "metadata": {
        "id": "NYpvPPDj6dVT",
        "colab_type": "code",
        "outputId": "8361d90d-612e-4578-acc7-5f2a646b2d8e",
        "colab": {
          "base_uri": "https://localhost:8080/",
          "height": 187
        }
      },
      "source": [
        "path_test.ls()"
      ],
      "execution_count": 8,
      "outputs": [
        {
          "output_type": "execute_result",
          "data": {
            "text/plain": [
              "[PosixPath('/root/.fastai/data/cifar10/test/horse'),\n",
              " PosixPath('/root/.fastai/data/cifar10/test/ship'),\n",
              " PosixPath('/root/.fastai/data/cifar10/test/airplane'),\n",
              " PosixPath('/root/.fastai/data/cifar10/test/bird'),\n",
              " PosixPath('/root/.fastai/data/cifar10/test/automobile'),\n",
              " PosixPath('/root/.fastai/data/cifar10/test/cat'),\n",
              " PosixPath('/root/.fastai/data/cifar10/test/truck'),\n",
              " PosixPath('/root/.fastai/data/cifar10/test/deer'),\n",
              " PosixPath('/root/.fastai/data/cifar10/test/frog'),\n",
              " PosixPath('/root/.fastai/data/cifar10/test/dog')]"
            ]
          },
          "metadata": {
            "tags": []
          },
          "execution_count": 8
        }
      ]
    },
    {
      "cell_type": "code",
      "metadata": {
        "id": "UfB2172i6YWY",
        "colab_type": "code",
        "outputId": "516dbc41-58d8-476b-aa73-b2f6a0efc728",
        "colab": {
          "base_uri": "https://localhost:8080/",
          "height": 187
        }
      },
      "source": [
        "path_train.ls()\n"
      ],
      "execution_count": 9,
      "outputs": [
        {
          "output_type": "execute_result",
          "data": {
            "text/plain": [
              "[PosixPath('/root/.fastai/data/cifar10/train/horse'),\n",
              " PosixPath('/root/.fastai/data/cifar10/train/ship'),\n",
              " PosixPath('/root/.fastai/data/cifar10/train/airplane'),\n",
              " PosixPath('/root/.fastai/data/cifar10/train/bird'),\n",
              " PosixPath('/root/.fastai/data/cifar10/train/automobile'),\n",
              " PosixPath('/root/.fastai/data/cifar10/train/cat'),\n",
              " PosixPath('/root/.fastai/data/cifar10/train/truck'),\n",
              " PosixPath('/root/.fastai/data/cifar10/train/deer'),\n",
              " PosixPath('/root/.fastai/data/cifar10/train/frog'),\n",
              " PosixPath('/root/.fastai/data/cifar10/train/dog')]"
            ]
          },
          "metadata": {
            "tags": []
          },
          "execution_count": 9
        }
      ]
    },
    {
      "cell_type": "code",
      "metadata": {
        "id": "4qiiFzoc6llh",
        "colab_type": "code",
        "colab": {}
      },
      "source": [
        "data = ImageDataBunch.from_folder(path=path, train='train', valid='test', size=32, bs=bs, ds_tfms=get_transforms(), num_workers=0).normalize(imagenet_stats)"
      ],
      "execution_count": 0,
      "outputs": []
    },
    {
      "cell_type": "markdown",
      "metadata": {
        "id": "Wav94cjQ6tTf",
        "colab_type": "text"
      },
      "source": [
        "Showing the images batch:"
      ]
    },
    {
      "cell_type": "code",
      "metadata": {
        "id": "JnWpHFDD6YZZ",
        "colab_type": "code",
        "outputId": "8490f6fe-51c5-4d8b-874b-84f7d27daeca",
        "colab": {
          "base_uri": "https://localhost:8080/",
          "height": 513
        }
      },
      "source": [
        "data.show_batch(rows=7, figsize=(7,7))\n"
      ],
      "execution_count": 11,
      "outputs": [
        {
          "output_type": "display_data",
          "data": {
            "image/png": "[encoded data removed]",
            "text/plain": [
              "<Figure size 504x504 with 49 Axes>"
            ]
          },
          "metadata": {
            "tags": []
          }
        }
      ]
    },
    {
      "cell_type": "code",
      "metadata": {
        "id": "6ZC_Jkre6YcL",
        "colab_type": "code",
        "outputId": "002a3203-e1cd-4920-b3fe-8f7e783c2ccd",
        "colab": {
          "base_uri": "https://localhost:8080/",
          "height": 51
        }
      },
      "source": [
        "#Here are the classes in the dataset:\n",
        "print(data.classes)\n",
        "len(data.classes),data.c"
      ],
      "execution_count": 12,
      "outputs": [
        {
          "output_type": "stream",
          "text": [
            "['airplane', 'automobile', 'bird', 'cat', 'deer', 'dog', 'frog', 'horse', 'ship', 'truck']\n"
          ],
          "name": "stdout"
        },
        {
          "output_type": "execute_result",
          "data": {
            "text/plain": [
              "(10, 10)"
            ]
          },
          "metadata": {
            "tags": []
          },
          "execution_count": 12
        }
      ]
    },
    {
      "cell_type": "markdown",
      "metadata": {
        "id": "4i8fC9Bq7RjI",
        "colab_type": "text"
      },
      "source": [
        "# **Training: resnet34**"
      ]
    },
    {
      "cell_type": "code",
      "metadata": {
        "id": "Qn6qmNyM6YfH",
        "colab_type": "code",
        "outputId": "89f93590-0fbc-419f-a179-8fd582efdedd",
        "colab": {
          "base_uri": "https://localhost:8080/",
          "height": 83,
          "referenced_widgets": [
            "3678ecb12c184536884529a06ad76b75",
            "a3f93aa3dc694dcc999f2a0452a2d2d6",
            "a65769835d98407aabb6e4733c3b84f5",
            "2e1c00bd9e754318959a4642b47e08a4",
            "11f6900f39784bd0b6cd6467f9948bd6",
            "a7f1468dcb5f4128bfecdfc30b2c5301",
            "c000363506f24e9f9aaa8573c5d1adb5",
            "f6f4d9ba3dca42789d1a865d58f3ae60"
          ]
        }
      },
      "source": [
        "learn = cnn_learner(data, models.resnet34, metrics=error_rate)\n"
      ],
      "execution_count": 13,
      "outputs": [
        {
          "output_type": "stream",
          "text": [
            "Downloading: \"https://download.pytorch.org/models/resnet34-333f7ec4.pth\" to /root/.cache/torch/checkpoints/resnet34-333f7ec4.pth\n"
          ],
          "name": "stderr"
        },
        {
          "output_type": "display_data",
          "data": {
            "application/vnd.jupyter.widget-view+json": {
              "model_id": "3678ecb12c184536884529a06ad76b75",
              "version_minor": 0,
              "version_major": 2
            },
            "text/plain": [
              "HBox(children=(IntProgress(value=0, max=87306240), HTML(value='')))"
            ]
          },
          "metadata": {
            "tags": []
          }
        },
        {
          "output_type": "stream",
          "text": [
            "\n"
          ],
          "name": "stdout"
        }
      ]
    },
    {
      "cell_type": "code",
      "metadata": {
        "id": "xVrmUhCvE85Q",
        "colab_type": "code",
        "outputId": "b4c98d46-9a92-49e6-d822-af11428d0cac",
        "colab": {
          "base_uri": "https://localhost:8080/",
          "height": 1000
        }
      },
      "source": [
        "learn.model"
      ],
      "execution_count": 14,
      "outputs": [
        {
          "output_type": "execute_result",
          "data": {
            "text/plain": [
              "Sequential(\n",
              "  (0): Sequential(\n",
              "    (0): Conv2d(3, 64, kernel_size=(7, 7), stride=(2, 2), padding=(3, 3), bias=False)\n",
              "    (1): BatchNorm2d(64, eps=1e-05, momentum=0.1, affine=True, track_running_stats=True)\n",
              "    (2): ReLU(inplace=True)\n",
              "    (3): MaxPool2d(kernel_size=3, stride=2, padding=1, dilation=1, ceil_mode=False)\n",
              "    (4): Sequential(\n",
              "      (0): BasicBlock(\n",
              "        (conv1): Conv2d(64, 64, kernel_size=(3, 3), stride=(1, 1), padding=(1, 1), bias=False)\n",
              "        (bn1): BatchNorm2d(64, eps=1e-05, momentum=0.1, affine=True, track_running_stats=True)\n",
              "        (relu): ReLU(inplace=True)\n",
              "        (conv2): Conv2d(64, 64, kernel_size=(3, 3), stride=(1, 1), padding=(1, 1), bias=False)\n",
              "        (bn2): BatchNorm2d(64, eps=1e-05, momentum=0.1, affine=True, track_running_stats=True)\n",
              "      )\n",
              "      (1): BasicBlock(\n",
              "        (conv1): Conv2d(64, 64, kernel_size=(3, 3), stride=(1, 1), padding=(1, 1), bias=False)\n",
              "        (bn1): BatchNorm2d(64, eps=1e-05, momentum=0.1, affine=True, track_running_stats=True)\n",
              "        (relu): ReLU(inplace=True)\n",
              "        (conv2): Conv2d(64, 64, kernel_size=(3, 3), stride=(1, 1), padding=(1, 1), bias=False)\n",
              "        (bn2): BatchNorm2d(64, eps=1e-05, momentum=0.1, affine=True, track_running_stats=True)\n",
              "      )\n",
              "      (2): BasicBlock(\n",
              "        (conv1): Conv2d(64, 64, kernel_size=(3, 3), stride=(1, 1), padding=(1, 1), bias=False)\n",
              "        (bn1): BatchNorm2d(64, eps=1e-05, momentum=0.1, affine=True, track_running_stats=True)\n",
              "        (relu): ReLU(inplace=True)\n",
              "        (conv2): Conv2d(64, 64, kernel_size=(3, 3), stride=(1, 1), padding=(1, 1), bias=False)\n",
              "        (bn2): BatchNorm2d(64, eps=1e-05, momentum=0.1, affine=True, track_running_stats=True)\n",
              "      )\n",
              "    )\n",
              "    (5): Sequential(\n",
              "      (0): BasicBlock(\n",
              "        (conv1): Conv2d(64, 128, kernel_size=(3, 3), stride=(2, 2), padding=(1, 1), bias=False)\n",
              "        (bn1): BatchNorm2d(128, eps=1e-05, momentum=0.1, affine=True, track_running_stats=True)\n",
              "        (relu): ReLU(inplace=True)\n",
              "        (conv2): Conv2d(128, 128, kernel_size=(3, 3), stride=(1, 1), padding=(1, 1), bias=False)\n",
              "        (bn2): BatchNorm2d(128, eps=1e-05, momentum=0.1, affine=True, track_running_stats=True)\n",
              "        (downsample): Sequential(\n",
              "          (0): Conv2d(64, 128, kernel_size=(1, 1), stride=(2, 2), bias=False)\n",
              "          (1): BatchNorm2d(128, eps=1e-05, momentum=0.1, affine=True, track_running_stats=True)\n",
              "        )\n",
              "      )\n",
              "      (1): BasicBlock(\n",
              "        (conv1): Conv2d(128, 128, kernel_size=(3, 3), stride=(1, 1), padding=(1, 1), bias=False)\n",
              "        (bn1): BatchNorm2d(128, eps=1e-05, momentum=0.1, affine=True, track_running_stats=True)\n",
              "        (relu): ReLU(inplace=True)\n",
              "        (conv2): Conv2d(128, 128, kernel_size=(3, 3), stride=(1, 1), padding=(1, 1), bias=False)\n",
              "        (bn2): BatchNorm2d(128, eps=1e-05, momentum=0.1, affine=True, track_running_stats=True)\n",
              "      )\n",
              "      (2): BasicBlock(\n",
              "        (conv1): Conv2d(128, 128, kernel_size=(3, 3), stride=(1, 1), padding=(1, 1), bias=False)\n",
              "        (bn1): BatchNorm2d(128, eps=1e-05, momentum=0.1, affine=True, track_running_stats=True)\n",
              "        (relu): ReLU(inplace=True)\n",
              "        (conv2): Conv2d(128, 128, kernel_size=(3, 3), stride=(1, 1), padding=(1, 1), bias=False)\n",
              "        (bn2): BatchNorm2d(128, eps=1e-05, momentum=0.1, affine=True, track_running_stats=True)\n",
              "      )\n",
              "      (3): BasicBlock(\n",
              "        (conv1): Conv2d(128, 128, kernel_size=(3, 3), stride=(1, 1), padding=(1, 1), bias=False)\n",
              "        (bn1): BatchNorm2d(128, eps=1e-05, momentum=0.1, affine=True, track_running_stats=True)\n",
              "        (relu): ReLU(inplace=True)\n",
              "        (conv2): Conv2d(128, 128, kernel_size=(3, 3), stride=(1, 1), padding=(1, 1), bias=False)\n",
              "        (bn2): BatchNorm2d(128, eps=1e-05, momentum=0.1, affine=True, track_running_stats=True)\n",
              "      )\n",
              "    )\n",
              "    (6): Sequential(\n",
              "      (0): BasicBlock(\n",
              "        (conv1): Conv2d(128, 256, kernel_size=(3, 3), stride=(2, 2), padding=(1, 1), bias=False)\n",
              "        (bn1): BatchNorm2d(256, eps=1e-05, momentum=0.1, affine=True, track_running_stats=True)\n",
              "        (relu): ReLU(inplace=True)\n",
              "        (conv2): Conv2d(256, 256, kernel_size=(3, 3), stride=(1, 1), padding=(1, 1), bias=False)\n",
              "        (bn2): BatchNorm2d(256, eps=1e-05, momentum=0.1, affine=True, track_running_stats=True)\n",
              "        (downsample): Sequential(\n",
              "          (0): Conv2d(128, 256, kernel_size=(1, 1), stride=(2, 2), bias=False)\n",
              "          (1): BatchNorm2d(256, eps=1e-05, momentum=0.1, affine=True, track_running_stats=True)\n",
              "        )\n",
              "      )\n",
              "      (1): BasicBlock(\n",
              "        (conv1): Conv2d(256, 256, kernel_size=(3, 3), stride=(1, 1), padding=(1, 1), bias=False)\n",
              "        (bn1): BatchNorm2d(256, eps=1e-05, momentum=0.1, affine=True, track_running_stats=True)\n",
              "        (relu): ReLU(inplace=True)\n",
              "        (conv2): Conv2d(256, 256, kernel_size=(3, 3), stride=(1, 1), padding=(1, 1), bias=False)\n",
              "        (bn2): BatchNorm2d(256, eps=1e-05, momentum=0.1, affine=True, track_running_stats=True)\n",
              "      )\n",
              "      (2): BasicBlock(\n",
              "        (conv1): Conv2d(256, 256, kernel_size=(3, 3), stride=(1, 1), padding=(1, 1), bias=False)\n",
              "        (bn1): BatchNorm2d(256, eps=1e-05, momentum=0.1, affine=True, track_running_stats=True)\n",
              "        (relu): ReLU(inplace=True)\n",
              "        (conv2): Conv2d(256, 256, kernel_size=(3, 3), stride=(1, 1), padding=(1, 1), bias=False)\n",
              "        (bn2): BatchNorm2d(256, eps=1e-05, momentum=0.1, affine=True, track_running_stats=True)\n",
              "      )\n",
              "      (3): BasicBlock(\n",
              "        (conv1): Conv2d(256, 256, kernel_size=(3, 3), stride=(1, 1), padding=(1, 1), bias=False)\n",
              "        (bn1): BatchNorm2d(256, eps=1e-05, momentum=0.1, affine=True, track_running_stats=True)\n",
              "        (relu): ReLU(inplace=True)\n",
              "        (conv2): Conv2d(256, 256, kernel_size=(3, 3), stride=(1, 1), padding=(1, 1), bias=False)\n",
              "        (bn2): BatchNorm2d(256, eps=1e-05, momentum=0.1, affine=True, track_running_stats=True)\n",
              "      )\n",
              "      (4): BasicBlock(\n",
              "        (conv1): Conv2d(256, 256, kernel_size=(3, 3), stride=(1, 1), padding=(1, 1), bias=False)\n",
              "        (bn1): BatchNorm2d(256, eps=1e-05, momentum=0.1, affine=True, track_running_stats=True)\n",
              "        (relu): ReLU(inplace=True)\n",
              "        (conv2): Conv2d(256, 256, kernel_size=(3, 3), stride=(1, 1), padding=(1, 1), bias=False)\n",
              "        (bn2): BatchNorm2d(256, eps=1e-05, momentum=0.1, affine=True, track_running_stats=True)\n",
              "      )\n",
              "      (5): BasicBlock(\n",
              "        (conv1): Conv2d(256, 256, kernel_size=(3, 3), stride=(1, 1), padding=(1, 1), bias=False)\n",
              "        (bn1): BatchNorm2d(256, eps=1e-05, momentum=0.1, affine=True, track_running_stats=True)\n",
              "        (relu): ReLU(inplace=True)\n",
              "        (conv2): Conv2d(256, 256, kernel_size=(3, 3), stride=(1, 1), padding=(1, 1), bias=False)\n",
              "        (bn2): BatchNorm2d(256, eps=1e-05, momentum=0.1, affine=True, track_running_stats=True)\n",
              "      )\n",
              "    )\n",
              "    (7): Sequential(\n",
              "      (0): BasicBlock(\n",
              "        (conv1): Conv2d(256, 512, kernel_size=(3, 3), stride=(2, 2), padding=(1, 1), bias=False)\n",
              "        (bn1): BatchNorm2d(512, eps=1e-05, momentum=0.1, affine=True, track_running_stats=True)\n",
              "        (relu): ReLU(inplace=True)\n",
              "        (conv2): Conv2d(512, 512, kernel_size=(3, 3), stride=(1, 1), padding=(1, 1), bias=False)\n",
              "        (bn2): BatchNorm2d(512, eps=1e-05, momentum=0.1, affine=True, track_running_stats=True)\n",
              "        (downsample): Sequential(\n",
              "          (0): Conv2d(256, 512, kernel_size=(1, 1), stride=(2, 2), bias=False)\n",
              "          (1): BatchNorm2d(512, eps=1e-05, momentum=0.1, affine=True, track_running_stats=True)\n",
              "        )\n",
              "      )\n",
              "      (1): BasicBlock(\n",
              "        (conv1): Conv2d(512, 512, kernel_size=(3, 3), stride=(1, 1), padding=(1, 1), bias=False)\n",
              "        (bn1): BatchNorm2d(512, eps=1e-05, momentum=0.1, affine=True, track_running_stats=True)\n",
              "        (relu): ReLU(inplace=True)\n",
              "        (conv2): Conv2d(512, 512, kernel_size=(3, 3), stride=(1, 1), padding=(1, 1), bias=False)\n",
              "        (bn2): BatchNorm2d(512, eps=1e-05, momentum=0.1, affine=True, track_running_stats=True)\n",
              "      )\n",
              "      (2): BasicBlock(\n",
              "        (conv1): Conv2d(512, 512, kernel_size=(3, 3), stride=(1, 1), padding=(1, 1), bias=False)\n",
              "        (bn1): BatchNorm2d(512, eps=1e-05, momentum=0.1, affine=True, track_running_stats=True)\n",
              "        (relu): ReLU(inplace=True)\n",
              "        (conv2): Conv2d(512, 512, kernel_size=(3, 3), stride=(1, 1), padding=(1, 1), bias=False)\n",
              "        (bn2): BatchNorm2d(512, eps=1e-05, momentum=0.1, affine=True, track_running_stats=True)\n",
              "      )\n",
              "    )\n",
              "  )\n",
              "  (1): Sequential(\n",
              "    (0): AdaptiveConcatPool2d(\n",
              "      (ap): AdaptiveAvgPool2d(output_size=1)\n",
              "      (mp): AdaptiveMaxPool2d(output_size=1)\n",
              "    )\n",
              "    (1): Flatten()\n",
              "    (2): BatchNorm1d(1024, eps=1e-05, momentum=0.1, affine=True, track_running_stats=True)\n",
              "    (3): Dropout(p=0.25, inplace=False)\n",
              "    (4): Linear(in_features=1024, out_features=512, bias=True)\n",
              "    (5): ReLU(inplace=True)\n",
              "    (6): BatchNorm1d(512, eps=1e-05, momentum=0.1, affine=True, track_running_stats=True)\n",
              "    (7): Dropout(p=0.5, inplace=False)\n",
              "    (8): Linear(in_features=512, out_features=10, bias=True)\n",
              "  )\n",
              ")"
            ]
          },
          "metadata": {
            "tags": []
          },
          "execution_count": 14
        }
      ]
    },
    {
      "cell_type": "markdown",
      "metadata": {
        "id": "B5sITxLZ7zRt",
        "colab_type": "text"
      },
      "source": [
        "Now we will start training our model. We will use a convolutional neural network backbone and a fully connected head with a single hidden layer as a classifier. we are building a model which will take images as input and will output the predicted probability for each of the categories \n",
        "\n",
        "We will train for 4 epochs (4 cycles through all our data)."
      ]
    },
    {
      "cell_type": "code",
      "metadata": {
        "id": "1Esowge46YjC",
        "colab_type": "code",
        "outputId": "9309cd55-ea3d-4b9d-e2ae-191a8ff35958",
        "colab": {
          "base_uri": "https://localhost:8080/",
          "height": 173
        }
      },
      "source": [
        "learn.fit_one_cycle(4)"
      ],
      "execution_count": 15,
      "outputs": [
        {
          "output_type": "display_data",
          "data": {
            "text/html": [
              "<table border=\"1\" class=\"dataframe\">\n",
              "  <thead>\n",
              "    <tr style=\"text-align: left;\">\n",
              "      <th>epoch</th>\n",
              "      <th>train_loss</th>\n",
              "      <th>valid_loss</th>\n",
              "      <th>error_rate</th>\n",
              "      <th>time</th>\n",
              "    </tr>\n",
              "  </thead>\n",
              "  <tbody>\n",
              "    <tr>\n",
              "      <td>0</td>\n",
              "      <td>1.672578</td>\n",
              "      <td>1.472307</td>\n",
              "      <td>0.521300</td>\n",
              "      <td>02:00</td>\n",
              "    </tr>\n",
              "    <tr>\n",
              "      <td>1</td>\n",
              "      <td>1.309381</td>\n",
              "      <td>1.148583</td>\n",
              "      <td>0.406600</td>\n",
              "      <td>02:02</td>\n",
              "    </tr>\n",
              "    <tr>\n",
              "      <td>2</td>\n",
              "      <td>1.179175</td>\n",
              "      <td>1.018878</td>\n",
              "      <td>0.358700</td>\n",
              "      <td>02:01</td>\n",
              "    </tr>\n",
              "    <tr>\n",
              "      <td>3</td>\n",
              "      <td>1.107398</td>\n",
              "      <td>0.992075</td>\n",
              "      <td>0.348300</td>\n",
              "      <td>02:01</td>\n",
              "    </tr>\n",
              "  </tbody>\n",
              "</table>"
            ],
            "text/plain": [
              "<IPython.core.display.HTML object>"
            ]
          },
          "metadata": {
            "tags": []
          }
        }
      ]
    },
    {
      "cell_type": "code",
      "metadata": {
        "id": "5HPhHIFs8O94",
        "colab_type": "code",
        "colab": {}
      },
      "source": [
        "learn.save('stage-1')\n"
      ],
      "execution_count": 0,
      "outputs": []
    },
    {
      "cell_type": "markdown",
      "metadata": {
        "id": "YZe6k6ab9MGc",
        "colab_type": "text"
      },
      "source": [
        "# **Results:**\n",
        "Let's see what results we have got:"
      ]
    },
    {
      "cell_type": "code",
      "metadata": {
        "id": "xUS8qF7y8PAu",
        "colab_type": "code",
        "outputId": "9f5f064e-6713-48ef-b1e3-f53cf53a36be",
        "colab": {
          "base_uri": "https://localhost:8080/",
          "height": 34
        }
      },
      "source": [
        "interp = ClassificationInterpretation.from_learner(learn)\n",
        "\n",
        "losses,idxs = interp.top_losses()\n",
        "\n",
        "len(data.valid_ds)==len(losses)==len(idxs)"
      ],
      "execution_count": 17,
      "outputs": [
        {
          "output_type": "display_data",
          "data": {
            "text/html": [
              ""
            ],
            "text/plain": [
              "<IPython.core.display.HTML object>"
            ]
          },
          "metadata": {
            "tags": []
          }
        },
        {
          "output_type": "execute_result",
          "data": {
            "text/plain": [
              "True"
            ]
          },
          "metadata": {
            "tags": []
          },
          "execution_count": 17
        }
      ]
    },
    {
      "cell_type": "code",
      "metadata": {
        "id": "M8pBOXXi8PDY",
        "colab_type": "code",
        "outputId": "fbe0ada2-5f8e-455c-816e-333e604850b9",
        "colab": {
          "base_uri": "https://localhost:8080/",
          "height": 523
        }
      },
      "source": [
        "interp.plot_top_losses(9, figsize=(10,8))\n"
      ],
      "execution_count": 18,
      "outputs": [
        {
          "output_type": "display_data",
          "data": {
            "image/png": "[encoded data removed]",
            "text/plain": [
              "<Figure size 720x576 with 9 Axes>"
            ]
          },
          "metadata": {
            "tags": []
          }
        }
      ]
    },
    {
      "cell_type": "code",
      "metadata": {
        "id": "oOIN19Z68PGC",
        "colab_type": "code",
        "outputId": "9161ad42-8c11-4e7c-8401-d03941bf034a",
        "colab": {
          "base_uri": "https://localhost:8080/",
          "height": 743
        }
      },
      "source": [
        "interp.plot_confusion_matrix(figsize=(12,12), dpi=60)\n"
      ],
      "execution_count": 19,
      "outputs": [
        {
          "output_type": "display_data",
          "data": {
            "image/png": "[encoded data removed]",
            "text/plain": [
              "<Figure size 720x720 with 1 Axes>"
            ]
          },
          "metadata": {
            "tags": []
          }
        }
      ]
    },
    {
      "cell_type": "code",
      "metadata": {
        "id": "fq51uSgO8PIk",
        "colab_type": "code",
        "outputId": "147968d4-3854-4f46-8db5-da87e39f2ce0",
        "colab": {
          "base_uri": "https://localhost:8080/",
          "height": 1000
        }
      },
      "source": [
        "interp.most_confused(min_val=2)\n"
      ],
      "execution_count": 20,
      "outputs": [
        {
          "output_type": "execute_result",
          "data": {
            "text/plain": [
              "[('dog', 'cat', 187),\n",
              " ('bird', 'frog', 169),\n",
              " ('cat', 'frog', 169),\n",
              " ('deer', 'frog', 163),\n",
              " ('truck', 'automobile', 156),\n",
              " ('cat', 'dog', 114),\n",
              " ('deer', 'horse', 109),\n",
              " ('automobile', 'truck', 108),\n",
              " ('dog', 'frog', 105),\n",
              " ('ship', 'airplane', 105),\n",
              " ('airplane', 'ship', 102),\n",
              " ('bird', 'deer', 91),\n",
              " ('bird', 'airplane', 81),\n",
              " ('ship', 'automobile', 72),\n",
              " ('deer', 'bird', 71),\n",
              " ('cat', 'deer', 70),\n",
              " ('horse', 'deer', 66),\n",
              " ('cat', 'bird', 64),\n",
              " ('deer', 'cat', 64),\n",
              " ('dog', 'horse', 64),\n",
              " ('dog', 'deer', 62),\n",
              " ('horse', 'cat', 60),\n",
              " ('airplane', 'bird', 55),\n",
              " ('horse', 'dog', 52),\n",
              " ('ship', 'truck', 50),\n",
              " ('airplane', 'truck', 49),\n",
              " ('bird', 'dog', 47),\n",
              " ('cat', 'horse', 44),\n",
              " ('dog', 'bird', 42),\n",
              " ('bird', 'cat', 40),\n",
              " ('horse', 'frog', 35),\n",
              " ('airplane', 'automobile', 33),\n",
              " ('bird', 'horse', 33),\n",
              " ('horse', 'truck', 32),\n",
              " ('truck', 'horse', 30),\n",
              " ('automobile', 'ship', 29),\n",
              " ('deer', 'airplane', 28),\n",
              " ('truck', 'airplane', 28),\n",
              " ('frog', 'bird', 27),\n",
              " ('frog', 'cat', 27),\n",
              " ('horse', 'airplane', 27),\n",
              " ('frog', 'deer', 26),\n",
              " ('deer', 'dog', 22),\n",
              " ('truck', 'ship', 22),\n",
              " ('airplane', 'horse', 21),\n",
              " ('cat', 'truck', 21),\n",
              " ('cat', 'airplane', 20),\n",
              " ('cat', 'automobile', 20),\n",
              " ('airplane', 'deer', 19),\n",
              " ('automobile', 'cat', 18),\n",
              " ('airplane', 'cat', 16),\n",
              " ('automobile', 'airplane', 16),\n",
              " ('bird', 'automobile', 16),\n",
              " ('deer', 'truck', 15),\n",
              " ('frog', 'dog', 15),\n",
              " ('horse', 'bird', 15),\n",
              " ('automobile', 'frog', 13),\n",
              " ('frog', 'automobile', 13),\n",
              " ('airplane', 'frog', 12),\n",
              " ('automobile', 'horse', 12),\n",
              " ('cat', 'ship', 12),\n",
              " ('dog', 'airplane', 11),\n",
              " ('horse', 'automobile', 11),\n",
              " ('ship', 'frog', 11),\n",
              " ('truck', 'frog', 11),\n",
              " ('dog', 'truck', 10),\n",
              " ('ship', 'cat', 10),\n",
              " ('ship', 'deer', 10),\n",
              " ('bird', 'ship', 9),\n",
              " ('dog', 'automobile', 9),\n",
              " ('ship', 'bird', 9),\n",
              " ('automobile', 'dog', 8),\n",
              " ('deer', 'ship', 8),\n",
              " ('truck', 'cat', 8),\n",
              " ('ship', 'horse', 7),\n",
              " ('deer', 'automobile', 5),\n",
              " ('horse', 'ship', 5),\n",
              " ('airplane', 'dog', 4),\n",
              " ('bird', 'truck', 4),\n",
              " ('frog', 'airplane', 4),\n",
              " ('frog', 'horse', 4),\n",
              " ('truck', 'deer', 4),\n",
              " ('dog', 'ship', 3),\n",
              " ('frog', 'ship', 3),\n",
              " ('frog', 'truck', 3),\n",
              " ('truck', 'bird', 3),\n",
              " ('truck', 'dog', 3)]"
            ]
          },
          "metadata": {
            "tags": []
          },
          "execution_count": 20
        }
      ]
    },
    {
      "cell_type": "markdown",
      "metadata": {
        "id": "PhoIRMQL9Z3k",
        "colab_type": "text"
      },
      "source": [
        "# **Unfreezing, fine-tuning, and learning rates**\n",
        "Since our model is working as we expect it to, we will unfreeze our model and train some more."
      ]
    },
    {
      "cell_type": "code",
      "metadata": {
        "id": "o30aFKwS8PLX",
        "colab_type": "code",
        "colab": {}
      },
      "source": [
        "learn.unfreeze()\n"
      ],
      "execution_count": 0,
      "outputs": []
    },
    {
      "cell_type": "code",
      "metadata": {
        "id": "sNPnbs4L8PNn",
        "colab_type": "code",
        "outputId": "f7ace2d5-43bb-48b5-c32d-7152613ccb21",
        "colab": {
          "base_uri": "https://localhost:8080/",
          "height": 80
        }
      },
      "source": [
        "learn.fit_one_cycle(1)\n"
      ],
      "execution_count": 22,
      "outputs": [
        {
          "output_type": "display_data",
          "data": {
            "text/html": [
              "<table border=\"1\" class=\"dataframe\">\n",
              "  <thead>\n",
              "    <tr style=\"text-align: left;\">\n",
              "      <th>epoch</th>\n",
              "      <th>train_loss</th>\n",
              "      <th>valid_loss</th>\n",
              "      <th>error_rate</th>\n",
              "      <th>time</th>\n",
              "    </tr>\n",
              "  </thead>\n",
              "  <tbody>\n",
              "    <tr>\n",
              "      <td>0</td>\n",
              "      <td>0.700339</td>\n",
              "      <td>0.576653</td>\n",
              "      <td>0.197800</td>\n",
              "      <td>02:14</td>\n",
              "    </tr>\n",
              "  </tbody>\n",
              "</table>"
            ],
            "text/plain": [
              "<IPython.core.display.HTML object>"
            ]
          },
          "metadata": {
            "tags": []
          }
        }
      ]
    },
    {
      "cell_type": "code",
      "metadata": {
        "id": "vaLntwGU8PQh",
        "colab_type": "code",
        "outputId": "6410ff6a-268a-4d10-ceae-0ce660890200",
        "colab": {
          "base_uri": "https://localhost:8080/",
          "height": 279
        }
      },
      "source": [
        "learn.recorder.plot()\n"
      ],
      "execution_count": 23,
      "outputs": [
        {
          "output_type": "display_data",
          "data": {
            "image/png": "[encoded data removed]",
            "text/plain": [
              "<Figure size 432x288 with 1 Axes>"
            ]
          },
          "metadata": {
            "tags": []
          }
        }
      ]
    },
    {
      "cell_type": "code",
      "metadata": {
        "id": "J9NF8bbz8gdv",
        "colab_type": "code",
        "outputId": "fcaad1aa-a7da-49be-925e-bc871c265130",
        "colab": {
          "base_uri": "https://localhost:8080/",
          "height": 111
        }
      },
      "source": [
        "learn.unfreeze()\n",
        "learn.fit_one_cycle(2, max_lr=slice(1e-6,1e-4))"
      ],
      "execution_count": 24,
      "outputs": [
        {
          "output_type": "display_data",
          "data": {
            "text/html": [
              "<table border=\"1\" class=\"dataframe\">\n",
              "  <thead>\n",
              "    <tr style=\"text-align: left;\">\n",
              "      <th>epoch</th>\n",
              "      <th>train_loss</th>\n",
              "      <th>valid_loss</th>\n",
              "      <th>error_rate</th>\n",
              "      <th>time</th>\n",
              "    </tr>\n",
              "  </thead>\n",
              "  <tbody>\n",
              "    <tr>\n",
              "      <td>0</td>\n",
              "      <td>0.611066</td>\n",
              "      <td>0.562848</td>\n",
              "      <td>0.191900</td>\n",
              "      <td>02:11</td>\n",
              "    </tr>\n",
              "    <tr>\n",
              "      <td>1</td>\n",
              "      <td>0.613612</td>\n",
              "      <td>0.560977</td>\n",
              "      <td>0.191900</td>\n",
              "      <td>02:08</td>\n",
              "    </tr>\n",
              "  </tbody>\n",
              "</table>"
            ],
            "text/plain": [
              "<IPython.core.display.HTML object>"
            ]
          },
          "metadata": {
            "tags": []
          }
        }
      ]
    },
    {
      "cell_type": "markdown",
      "metadata": {
        "id": "87tE0X-e9ih3",
        "colab_type": "text"
      },
      "source": [
        "# **Training: resnet50**\n",
        "instead of using resnet34 as our backbone we will use resnet50 (resnet34 is a 34 layer residual network while resnet50 has 50 layers."
      ]
    },
    {
      "cell_type": "code",
      "metadata": {
        "id": "N1JagsPA8ggg",
        "colab_type": "code",
        "colab": {}
      },
      "source": [
        "data = ImageDataBunch.from_folder(path=path, train='train', valid='test', size=32, bs=bs, ds_tfms=get_transforms(), num_workers=0).normalize(imagenet_stats)"
      ],
      "execution_count": 0,
      "outputs": []
    },
    {
      "cell_type": "code",
      "metadata": {
        "id": "PzPiaXag8pnN",
        "colab_type": "code",
        "outputId": "581a027d-22f2-4cde-d403-112fa09192d4",
        "colab": {
          "base_uri": "https://localhost:8080/",
          "height": 83,
          "referenced_widgets": [
            "71c87469bb4c4980a73f9fece7c3b010",
            "fba911260fe842efb1a237305211c095",
            "d12f39a53c6a42f39cbf4f69c972927e",
            "1af62cc5115b420691d42b61483fc01a",
            "458cf4da52f34f598aa5eaef7bd83495",
            "15495929fc2246e5807e0a7aa7056603",
            "008f3d854f3648d4aa493db84b4e04d1",
            "fd07a9cbc3924213b5085fe639ef3ebe"
          ]
        }
      },
      "source": [
        "learn = cnn_learner(data, models.resnet50, metrics=error_rate)\n"
      ],
      "execution_count": 26,
      "outputs": [
        {
          "output_type": "stream",
          "text": [
            "Downloading: \"https://download.pytorch.org/models/resnet50-19c8e357.pth\" to /root/.cache/torch/checkpoints/resnet50-19c8e357.pth\n"
          ],
          "name": "stderr"
        },
        {
          "output_type": "display_data",
          "data": {
            "application/vnd.jupyter.widget-view+json": {
              "model_id": "71c87469bb4c4980a73f9fece7c3b010",
              "version_minor": 0,
              "version_major": 2
            },
            "text/plain": [
              "HBox(children=(IntProgress(value=0, max=102502400), HTML(value='')))"
            ]
          },
          "metadata": {
            "tags": []
          }
        },
        {
          "output_type": "stream",
          "text": [
            "\n"
          ],
          "name": "stdout"
        }
      ]
    },
    {
      "cell_type": "code",
      "metadata": {
        "id": "z62NPbXn8pqA",
        "colab_type": "code",
        "outputId": "59c06bfd-4a09-4c64-d24a-78d7ac88efb7",
        "colab": {
          "base_uri": "https://localhost:8080/",
          "height": 112
        }
      },
      "source": [
        "learn.lr_find()\n"
      ],
      "execution_count": 27,
      "outputs": [
        {
          "output_type": "display_data",
          "data": {
            "text/html": [
              "\n",
              "    <div>\n",
              "        <style>\n",
              "            /* Turns off some styling */\n",
              "            progress {\n",
              "                /* gets rid of default border in Firefox and Opera. */\n",
              "                border: none;\n",
              "                /* Needs to be in here for Safari polyfill so background images work as expected. */\n",
              "                background-size: auto;\n",
              "            }\n",
              "            .progress-bar-interrupted, .progress-bar-interrupted::-webkit-progress-bar {\n",
              "                background: #F44336;\n",
              "            }\n",
              "        </style>\n",
              "      <progress value='0' class='' max='1', style='width:300px; height:20px; vertical-align: middle;'></progress>\n",
              "      0.00% [0/1 00:00<00:00]\n",
              "    </div>\n",
              "    \n",
              "<table border=\"1\" class=\"dataframe\">\n",
              "  <thead>\n",
              "    <tr style=\"text-align: left;\">\n",
              "      <th>epoch</th>\n",
              "      <th>train_loss</th>\n",
              "      <th>valid_loss</th>\n",
              "      <th>error_rate</th>\n",
              "      <th>time</th>\n",
              "    </tr>\n",
              "  </thead>\n",
              "  <tbody>\n",
              "  </tbody>\n",
              "</table><p>\n",
              "\n",
              "    <div>\n",
              "        <style>\n",
              "            /* Turns off some styling */\n",
              "            progress {\n",
              "                /* gets rid of default border in Firefox and Opera. */\n",
              "                border: none;\n",
              "                /* Needs to be in here for Safari polyfill so background images work as expected. */\n",
              "                background-size: auto;\n",
              "            }\n",
              "            .progress-bar-interrupted, .progress-bar-interrupted::-webkit-progress-bar {\n",
              "                background: #F44336;\n",
              "            }\n",
              "        </style>\n",
              "      <progress value='90' class='' max='781', style='width:300px; height:20px; vertical-align: middle;'></progress>\n",
              "      11.52% [90/781 00:14<01:53 10.1401]\n",
              "    </div>\n",
              "    "
            ],
            "text/plain": [
              "<IPython.core.display.HTML object>"
            ]
          },
          "metadata": {
            "tags": []
          }
        },
        {
          "output_type": "stream",
          "text": [
            "LR Finder is complete, type {learner_name}.recorder.plot() to see the graph.\n"
          ],
          "name": "stdout"
        }
      ]
    },
    {
      "cell_type": "code",
      "metadata": {
        "id": "FAnlVuFKJ56M",
        "colab_type": "code",
        "colab": {
          "base_uri": "https://localhost:8080/",
          "height": 279
        },
        "outputId": "ab45dc25-a39c-45ae-f2ea-abd4fc4c44fd"
      },
      "source": [
        "learn.recorder.plot()"
      ],
      "execution_count": 28,
      "outputs": [
        {
          "output_type": "display_data",
          "data": {
            "image/png": "[encoded data removed]",
            "text/plain": [
              "<Figure size 432x288 with 1 Axes>"
            ]
          },
          "metadata": {
            "tags": []
          }
        }
      ]
    },
    {
      "cell_type": "code",
      "metadata": {
        "id": "oG8FEjE08ps3",
        "colab_type": "code",
        "colab": {
          "base_uri": "https://localhost:8080/",
          "height": 297
        },
        "outputId": "89a48edf-5069-499b-b808-46709c37a5f0"
      },
      "source": [
        "learn.fit_one_cycle(8)\n"
      ],
      "execution_count": 29,
      "outputs": [
        {
          "output_type": "display_data",
          "data": {
            "text/html": [
              "<table border=\"1\" class=\"dataframe\">\n",
              "  <thead>\n",
              "    <tr style=\"text-align: left;\">\n",
              "      <th>epoch</th>\n",
              "      <th>train_loss</th>\n",
              "      <th>valid_loss</th>\n",
              "      <th>error_rate</th>\n",
              "      <th>time</th>\n",
              "    </tr>\n",
              "  </thead>\n",
              "  <tbody>\n",
              "    <tr>\n",
              "      <td>0</td>\n",
              "      <td>1.818445</td>\n",
              "      <td>1.509999</td>\n",
              "      <td>0.513200</td>\n",
              "      <td>02:13</td>\n",
              "    </tr>\n",
              "    <tr>\n",
              "      <td>1</td>\n",
              "      <td>1.391014</td>\n",
              "      <td>1.232665</td>\n",
              "      <td>0.432600</td>\n",
              "      <td>02:13</td>\n",
              "    </tr>\n",
              "    <tr>\n",
              "      <td>2</td>\n",
              "      <td>1.141546</td>\n",
              "      <td>0.982682</td>\n",
              "      <td>0.342000</td>\n",
              "      <td>02:11</td>\n",
              "    </tr>\n",
              "    <tr>\n",
              "      <td>3</td>\n",
              "      <td>0.956152</td>\n",
              "      <td>0.847800</td>\n",
              "      <td>0.292300</td>\n",
              "      <td>02:10</td>\n",
              "    </tr>\n",
              "    <tr>\n",
              "      <td>4</td>\n",
              "      <td>0.860991</td>\n",
              "      <td>0.767981</td>\n",
              "      <td>0.269900</td>\n",
              "      <td>02:13</td>\n",
              "    </tr>\n",
              "    <tr>\n",
              "      <td>5</td>\n",
              "      <td>0.826874</td>\n",
              "      <td>0.722412</td>\n",
              "      <td>0.253900</td>\n",
              "      <td>02:09</td>\n",
              "    </tr>\n",
              "    <tr>\n",
              "      <td>6</td>\n",
              "      <td>0.785573</td>\n",
              "      <td>0.701412</td>\n",
              "      <td>0.245600</td>\n",
              "      <td>02:10</td>\n",
              "    </tr>\n",
              "    <tr>\n",
              "      <td>7</td>\n",
              "      <td>0.795877</td>\n",
              "      <td>0.691478</td>\n",
              "      <td>0.245400</td>\n",
              "      <td>02:13</td>\n",
              "    </tr>\n",
              "  </tbody>\n",
              "</table>"
            ],
            "text/plain": [
              "<IPython.core.display.HTML object>"
            ]
          },
          "metadata": {
            "tags": []
          }
        }
      ]
    },
    {
      "cell_type": "code",
      "metadata": {
        "id": "dtwfECB88gja",
        "colab_type": "code",
        "colab": {}
      },
      "source": [
        "learn.save('stage-1-50')\n"
      ],
      "execution_count": 0,
      "outputs": []
    },
    {
      "cell_type": "code",
      "metadata": {
        "id": "lKYWmv0i8gmH",
        "colab_type": "code",
        "colab": {
          "base_uri": "https://localhost:8080/",
          "height": 142
        },
        "outputId": "441bcc52-ad23-46bb-8b3b-ffe78b661065"
      },
      "source": [
        "learn.unfreeze()\n",
        "learn.fit_one_cycle(3, max_lr=slice(1e-6,1e-4))"
      ],
      "execution_count": 31,
      "outputs": [
        {
          "output_type": "display_data",
          "data": {
            "text/html": [
              "<table border=\"1\" class=\"dataframe\">\n",
              "  <thead>\n",
              "    <tr style=\"text-align: left;\">\n",
              "      <th>epoch</th>\n",
              "      <th>train_loss</th>\n",
              "      <th>valid_loss</th>\n",
              "      <th>error_rate</th>\n",
              "      <th>time</th>\n",
              "    </tr>\n",
              "  </thead>\n",
              "  <tbody>\n",
              "    <tr>\n",
              "      <td>0</td>\n",
              "      <td>0.776080</td>\n",
              "      <td>0.672172</td>\n",
              "      <td>0.234000</td>\n",
              "      <td>02:12</td>\n",
              "    </tr>\n",
              "    <tr>\n",
              "      <td>1</td>\n",
              "      <td>0.690211</td>\n",
              "      <td>0.622363</td>\n",
              "      <td>0.219700</td>\n",
              "      <td>02:14</td>\n",
              "    </tr>\n",
              "    <tr>\n",
              "      <td>2</td>\n",
              "      <td>0.663788</td>\n",
              "      <td>0.610983</td>\n",
              "      <td>0.213200</td>\n",
              "      <td>02:13</td>\n",
              "    </tr>\n",
              "  </tbody>\n",
              "</table>"
            ],
            "text/plain": [
              "<IPython.core.display.HTML object>"
            ]
          },
          "metadata": {
            "tags": []
          }
        }
      ]
    },
    {
      "cell_type": "code",
      "metadata": {
        "id": "9NlWWBbo86jd",
        "colab_type": "code",
        "colab": {
          "base_uri": "https://localhost:8080/",
          "height": 142
        },
        "outputId": "d448bb92-076f-4640-f275-c274ea5890fb"
      },
      "source": [
        "learn.fit_one_cycle(3, max_lr=slice(1e-6,1e-4))\n"
      ],
      "execution_count": 32,
      "outputs": [
        {
          "output_type": "display_data",
          "data": {
            "text/html": [
              "<table border=\"1\" class=\"dataframe\">\n",
              "  <thead>\n",
              "    <tr style=\"text-align: left;\">\n",
              "      <th>epoch</th>\n",
              "      <th>train_loss</th>\n",
              "      <th>valid_loss</th>\n",
              "      <th>error_rate</th>\n",
              "      <th>time</th>\n",
              "    </tr>\n",
              "  </thead>\n",
              "  <tbody>\n",
              "    <tr>\n",
              "      <td>0</td>\n",
              "      <td>0.675625</td>\n",
              "      <td>0.605519</td>\n",
              "      <td>0.211300</td>\n",
              "      <td>02:14</td>\n",
              "    </tr>\n",
              "    <tr>\n",
              "      <td>1</td>\n",
              "      <td>0.608139</td>\n",
              "      <td>0.567657</td>\n",
              "      <td>0.198600</td>\n",
              "      <td>02:08</td>\n",
              "    </tr>\n",
              "    <tr>\n",
              "      <td>2</td>\n",
              "      <td>0.586137</td>\n",
              "      <td>0.562155</td>\n",
              "      <td>0.195800</td>\n",
              "      <td>02:12</td>\n",
              "    </tr>\n",
              "  </tbody>\n",
              "</table>"
            ],
            "text/plain": [
              "<IPython.core.display.HTML object>"
            ]
          },
          "metadata": {
            "tags": []
          }
        }
      ]
    },
    {
      "cell_type": "code",
      "metadata": {
        "id": "HQFF2Uub86md",
        "colab_type": "code",
        "colab": {
          "base_uri": "https://localhost:8080/",
          "height": 17
        },
        "outputId": "13512a1a-1e45-4d65-c8a8-2ea54a5accad"
      },
      "source": [
        "interp = ClassificationInterpretation.from_learner(learn)\n"
      ],
      "execution_count": 33,
      "outputs": [
        {
          "output_type": "display_data",
          "data": {
            "text/html": [
              ""
            ],
            "text/plain": [
              "<IPython.core.display.HTML object>"
            ]
          },
          "metadata": {
            "tags": []
          }
        }
      ]
    },
    {
      "cell_type": "code",
      "metadata": {
        "id": "NpmrasCq86pG",
        "colab_type": "code",
        "colab": {
          "base_uri": "https://localhost:8080/",
          "height": 1000
        },
        "outputId": "280e5e06-9e73-48e8-fc57-a7baa0763de0"
      },
      "source": [
        "interp.most_confused(min_val=2)\n"
      ],
      "execution_count": 34,
      "outputs": [
        {
          "output_type": "execute_result",
          "data": {
            "text/plain": [
              "[('dog', 'cat', 137),\n",
              " ('cat', 'dog', 113),\n",
              " ('cat', 'frog', 111),\n",
              " ('bird', 'frog', 81),\n",
              " ('bird', 'deer', 72),\n",
              " ('automobile', 'truck', 71),\n",
              " ('deer', 'frog', 70),\n",
              " ('truck', 'automobile', 59),\n",
              " ('ship', 'airplane', 58),\n",
              " ('cat', 'deer', 57),\n",
              " ('deer', 'horse', 56),\n",
              " ('dog', 'horse', 53),\n",
              " ('deer', 'bird', 51),\n",
              " ('dog', 'frog', 51),\n",
              " ('cat', 'bird', 48),\n",
              " ('dog', 'deer', 41),\n",
              " ('horse', 'deer', 41),\n",
              " ('airplane', 'ship', 39),\n",
              " ('bird', 'airplane', 36),\n",
              " ('cat', 'horse', 31),\n",
              " ('airplane', 'truck', 30),\n",
              " ('horse', 'dog', 29),\n",
              " ('bird', 'dog', 27),\n",
              " ('cat', 'truck', 26),\n",
              " ('horse', 'cat', 25),\n",
              " ('airplane', 'bird', 22),\n",
              " ('dog', 'bird', 22),\n",
              " ('ship', 'truck', 22),\n",
              " ('bird', 'cat', 21),\n",
              " ('deer', 'cat', 21),\n",
              " ('ship', 'automobile', 21),\n",
              " ('bird', 'horse', 20),\n",
              " ('frog', 'bird', 19),\n",
              " ('airplane', 'deer', 18),\n",
              " ('horse', 'frog', 18),\n",
              " ('airplane', 'automobile', 17),\n",
              " ('deer', 'dog', 17),\n",
              " ('cat', 'automobile', 16),\n",
              " ('cat', 'airplane', 15),\n",
              " ('horse', 'airplane', 14),\n",
              " ('deer', 'airplane', 13),\n",
              " ('frog', 'cat', 13),\n",
              " ('truck', 'airplane', 13),\n",
              " ('airplane', 'horse', 12),\n",
              " ('automobile', 'ship', 12),\n",
              " ('cat', 'ship', 11),\n",
              " ('frog', 'deer', 11),\n",
              " ('horse', 'truck', 11),\n",
              " ('automobile', 'airplane', 9),\n",
              " ('dog', 'truck', 9),\n",
              " ('truck', 'ship', 9),\n",
              " ('bird', 'ship', 8),\n",
              " ('horse', 'bird', 8),\n",
              " ('airplane', 'frog', 7),\n",
              " ('automobile', 'frog', 7),\n",
              " ('frog', 'automobile', 7),\n",
              " ('frog', 'dog', 7),\n",
              " ('truck', 'cat', 7),\n",
              " ('truck', 'horse', 7),\n",
              " ('ship', 'bird', 6),\n",
              " ('ship', 'cat', 6),\n",
              " ('airplane', 'cat', 5),\n",
              " ('dog', 'airplane', 5),\n",
              " ('deer', 'ship', 4),\n",
              " ('dog', 'automobile', 4),\n",
              " ('dog', 'ship', 4),\n",
              " ('frog', 'horse', 4),\n",
              " ('ship', 'horse', 4),\n",
              " ('airplane', 'dog', 3),\n",
              " ('automobile', 'horse', 3),\n",
              " ('bird', 'automobile', 3),\n",
              " ('deer', 'truck', 3),\n",
              " ('horse', 'ship', 3),\n",
              " ('ship', 'deer', 3),\n",
              " ('ship', 'frog', 3),\n",
              " ('automobile', 'cat', 2),\n",
              " ('bird', 'truck', 2),\n",
              " ('deer', 'automobile', 2),\n",
              " ('frog', 'airplane', 2),\n",
              " ('frog', 'ship', 2),\n",
              " ('frog', 'truck', 2),\n",
              " ('truck', 'bird', 2)]"
            ]
          },
          "metadata": {
            "tags": []
          },
          "execution_count": 34
        }
      ]
    }
  ]
}