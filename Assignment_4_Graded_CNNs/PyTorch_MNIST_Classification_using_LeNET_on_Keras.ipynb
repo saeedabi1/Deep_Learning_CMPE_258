{
  "nbformat": 4,
  "nbformat_minor": 0,
  "metadata": {
    "colab": {
      "name": "PyTorch MNIST Classification using LeNET on Keras.ipynb",
      "provenance": [],
      "collapsed_sections": [],
      "machine_shape": "hm"
    },
    "kernelspec": {
      "name": "python3",
      "display_name": "Python 3"
    },
    "accelerator": "GPU",
    "widgets": {
      "application/vnd.jupyter.widget-state+json": {
        "f7164aacd2834512a1aec507ffab65dc": {
          "model_module": "@jupyter-widgets/controls",
          "model_name": "HBoxModel",
          "state": {
            "_view_name": "HBoxView",
            "_dom_classes": [],
            "_model_name": "HBoxModel",
            "_view_module": "@jupyter-widgets/controls",
            "_model_module_version": "1.5.0",
            "_view_count": null,
            "_view_module_version": "1.5.0",
            "box_style": "",
            "layout": "IPY_MODEL_0837d075b2d641e6b75c8cf8c7a35ba1",
            "_model_module": "@jupyter-widgets/controls",
            "children": [
              "IPY_MODEL_e1f0d0d115564b7a9570df290c074231",
              "IPY_MODEL_c88a6b20e8be4f7e80e004341859d194"
            ]
          }
        },
        "0837d075b2d641e6b75c8cf8c7a35ba1": {
          "model_module": "@jupyter-widgets/base",
          "model_name": "LayoutModel",
          "state": {
            "_view_name": "LayoutView",
            "grid_template_rows": null,
            "right": null,
            "justify_content": null,
            "_view_module": "@jupyter-widgets/base",
            "overflow": null,
            "_model_module_version": "1.2.0",
            "_view_count": null,
            "flex_flow": null,
            "width": null,
            "min_width": null,
            "border": null,
            "align_items": null,
            "bottom": null,
            "_model_module": "@jupyter-widgets/base",
            "top": null,
            "grid_column": null,
            "overflow_y": null,
            "overflow_x": null,
            "grid_auto_flow": null,
            "grid_area": null,
            "grid_template_columns": null,
            "flex": null,
            "_model_name": "LayoutModel",
            "justify_items": null,
            "grid_row": null,
            "max_height": null,
            "align_content": null,
            "visibility": null,
            "align_self": null,
            "height": null,
            "min_height": null,
            "padding": null,
            "grid_auto_rows": null,
            "grid_gap": null,
            "max_width": null,
            "order": null,
            "_view_module_version": "1.2.0",
            "grid_template_areas": null,
            "object_position": null,
            "object_fit": null,
            "grid_auto_columns": null,
            "margin": null,
            "display": null,
            "left": null
          }
        },
        "e1f0d0d115564b7a9570df290c074231": {
          "model_module": "@jupyter-widgets/controls",
          "model_name": "FloatProgressModel",
          "state": {
            "_view_name": "ProgressView",
            "style": "IPY_MODEL_4477af9dd75642c981bfb5e9e2fdd899",
            "_dom_classes": [],
            "description": "",
            "_model_name": "FloatProgressModel",
            "bar_style": "info",
            "max": 1,
            "_view_module": "@jupyter-widgets/controls",
            "_model_module_version": "1.5.0",
            "value": 1,
            "_view_count": null,
            "_view_module_version": "1.5.0",
            "orientation": "horizontal",
            "min": 0,
            "description_tooltip": null,
            "_model_module": "@jupyter-widgets/controls",
            "layout": "IPY_MODEL_4c1ec05c49a5434bbc284fb2200e0631"
          }
        },
        "c88a6b20e8be4f7e80e004341859d194": {
          "model_module": "@jupyter-widgets/controls",
          "model_name": "HTMLModel",
          "state": {
            "_view_name": "HTMLView",
            "style": "IPY_MODEL_3262f3e0c9094c49a1d36c0d1605570c",
            "_dom_classes": [],
            "description": "",
            "_model_name": "HTMLModel",
            "placeholder": "​",
            "_view_module": "@jupyter-widgets/controls",
            "_model_module_version": "1.5.0",
            "value": " 9920512/? [00:20&lt;00:00, 9033255.87it/s]",
            "_view_count": null,
            "_view_module_version": "1.5.0",
            "description_tooltip": null,
            "_model_module": "@jupyter-widgets/controls",
            "layout": "IPY_MODEL_f3cf72099acc424487915e27a5b4fb69"
          }
        },
        "4477af9dd75642c981bfb5e9e2fdd899": {
          "model_module": "@jupyter-widgets/controls",
          "model_name": "ProgressStyleModel",
          "state": {
            "_view_name": "StyleView",
            "_model_name": "ProgressStyleModel",
            "description_width": "initial",
            "_view_module": "@jupyter-widgets/base",
            "_model_module_version": "1.5.0",
            "_view_count": null,
            "_view_module_version": "1.2.0",
            "bar_color": null,
            "_model_module": "@jupyter-widgets/controls"
          }
        },
        "4c1ec05c49a5434bbc284fb2200e0631": {
          "model_module": "@jupyter-widgets/base",
          "model_name": "LayoutModel",
          "state": {
            "_view_name": "LayoutView",
            "grid_template_rows": null,
            "right": null,
            "justify_content": null,
            "_view_module": "@jupyter-widgets/base",
            "overflow": null,
            "_model_module_version": "1.2.0",
            "_view_count": null,
            "flex_flow": null,
            "width": null,
            "min_width": null,
            "border": null,
            "align_items": null,
            "bottom": null,
            "_model_module": "@jupyter-widgets/base",
            "top": null,
            "grid_column": null,
            "overflow_y": null,
            "overflow_x": null,
            "grid_auto_flow": null,
            "grid_area": null,
            "grid_template_columns": null,
            "flex": null,
            "_model_name": "LayoutModel",
            "justify_items": null,
            "grid_row": null,
            "max_height": null,
            "align_content": null,
            "visibility": null,
            "align_self": null,
            "height": null,
            "min_height": null,
            "padding": null,
            "grid_auto_rows": null,
            "grid_gap": null,
            "max_width": null,
            "order": null,
            "_view_module_version": "1.2.0",
            "grid_template_areas": null,
            "object_position": null,
            "object_fit": null,
            "grid_auto_columns": null,
            "margin": null,
            "display": null,
            "left": null
          }
        },
        "3262f3e0c9094c49a1d36c0d1605570c": {
          "model_module": "@jupyter-widgets/controls",
          "model_name": "DescriptionStyleModel",
          "state": {
            "_view_name": "StyleView",
            "_model_name": "DescriptionStyleModel",
            "description_width": "",
            "_view_module": "@jupyter-widgets/base",
            "_model_module_version": "1.5.0",
            "_view_count": null,
            "_view_module_version": "1.2.0",
            "_model_module": "@jupyter-widgets/controls"
          }
        },
        "f3cf72099acc424487915e27a5b4fb69": {
          "model_module": "@jupyter-widgets/base",
          "model_name": "LayoutModel",
          "state": {
            "_view_name": "LayoutView",
            "grid_template_rows": null,
            "right": null,
            "justify_content": null,
            "_view_module": "@jupyter-widgets/base",
            "overflow": null,
            "_model_module_version": "1.2.0",
            "_view_count": null,
            "flex_flow": null,
            "width": null,
            "min_width": null,
            "border": null,
            "align_items": null,
            "bottom": null,
            "_model_module": "@jupyter-widgets/base",
            "top": null,
            "grid_column": null,
            "overflow_y": null,
            "overflow_x": null,
            "grid_auto_flow": null,
            "grid_area": null,
            "grid_template_columns": null,
            "flex": null,
            "_model_name": "LayoutModel",
            "justify_items": null,
            "grid_row": null,
            "max_height": null,
            "align_content": null,
            "visibility": null,
            "align_self": null,
            "height": null,
            "min_height": null,
            "padding": null,
            "grid_auto_rows": null,
            "grid_gap": null,
            "max_width": null,
            "order": null,
            "_view_module_version": "1.2.0",
            "grid_template_areas": null,
            "object_position": null,
            "object_fit": null,
            "grid_auto_columns": null,
            "margin": null,
            "display": null,
            "left": null
          }
        },
        "cd345d1deda94339a500853d4792702f": {
          "model_module": "@jupyter-widgets/controls",
          "model_name": "HBoxModel",
          "state": {
            "_view_name": "HBoxView",
            "_dom_classes": [],
            "_model_name": "HBoxModel",
            "_view_module": "@jupyter-widgets/controls",
            "_model_module_version": "1.5.0",
            "_view_count": null,
            "_view_module_version": "1.5.0",
            "box_style": "",
            "layout": "IPY_MODEL_3b9121e1948d46f8b2485a5156d8252a",
            "_model_module": "@jupyter-widgets/controls",
            "children": [
              "IPY_MODEL_0ad0e9b04f6b4daa8d487af30838e818",
              "IPY_MODEL_80e7f79db8cc4240898ff1b57f8375e2"
            ]
          }
        },
        "3b9121e1948d46f8b2485a5156d8252a": {
          "model_module": "@jupyter-widgets/base",
          "model_name": "LayoutModel",
          "state": {
            "_view_name": "LayoutView",
            "grid_template_rows": null,
            "right": null,
            "justify_content": null,
            "_view_module": "@jupyter-widgets/base",
            "overflow": null,
            "_model_module_version": "1.2.0",
            "_view_count": null,
            "flex_flow": null,
            "width": null,
            "min_width": null,
            "border": null,
            "align_items": null,
            "bottom": null,
            "_model_module": "@jupyter-widgets/base",
            "top": null,
            "grid_column": null,
            "overflow_y": null,
            "overflow_x": null,
            "grid_auto_flow": null,
            "grid_area": null,
            "grid_template_columns": null,
            "flex": null,
            "_model_name": "LayoutModel",
            "justify_items": null,
            "grid_row": null,
            "max_height": null,
            "align_content": null,
            "visibility": null,
            "align_self": null,
            "height": null,
            "min_height": null,
            "padding": null,
            "grid_auto_rows": null,
            "grid_gap": null,
            "max_width": null,
            "order": null,
            "_view_module_version": "1.2.0",
            "grid_template_areas": null,
            "object_position": null,
            "object_fit": null,
            "grid_auto_columns": null,
            "margin": null,
            "display": null,
            "left": null
          }
        },
        "0ad0e9b04f6b4daa8d487af30838e818": {
          "model_module": "@jupyter-widgets/controls",
          "model_name": "FloatProgressModel",
          "state": {
            "_view_name": "ProgressView",
            "style": "IPY_MODEL_6430f9f5c6084d139dd5ffb5b0d61084",
            "_dom_classes": [],
            "description": "",
            "_model_name": "FloatProgressModel",
            "bar_style": "success",
            "max": 1,
            "_view_module": "@jupyter-widgets/controls",
            "_model_module_version": "1.5.0",
            "value": 1,
            "_view_count": null,
            "_view_module_version": "1.5.0",
            "orientation": "horizontal",
            "min": 0,
            "description_tooltip": null,
            "_model_module": "@jupyter-widgets/controls",
            "layout": "IPY_MODEL_28d32d75ae0346dda7beed2523af11b1"
          }
        },
        "80e7f79db8cc4240898ff1b57f8375e2": {
          "model_module": "@jupyter-widgets/controls",
          "model_name": "HTMLModel",
          "state": {
            "_view_name": "HTMLView",
            "style": "IPY_MODEL_7dc4bfe4d4f84d1280a822991d465838",
            "_dom_classes": [],
            "description": "",
            "_model_name": "HTMLModel",
            "placeholder": "​",
            "_view_module": "@jupyter-widgets/controls",
            "_model_module_version": "1.5.0",
            "value": " 32768/? [00:00&lt;00:00, 54731.63it/s]",
            "_view_count": null,
            "_view_module_version": "1.5.0",
            "description_tooltip": null,
            "_model_module": "@jupyter-widgets/controls",
            "layout": "IPY_MODEL_832d3c561429447c84a2774dde201638"
          }
        },
        "6430f9f5c6084d139dd5ffb5b0d61084": {
          "model_module": "@jupyter-widgets/controls",
          "model_name": "ProgressStyleModel",
          "state": {
            "_view_name": "StyleView",
            "_model_name": "ProgressStyleModel",
            "description_width": "initial",
            "_view_module": "@jupyter-widgets/base",
            "_model_module_version": "1.5.0",
            "_view_count": null,
            "_view_module_version": "1.2.0",
            "bar_color": null,
            "_model_module": "@jupyter-widgets/controls"
          }
        },
        "28d32d75ae0346dda7beed2523af11b1": {
          "model_module": "@jupyter-widgets/base",
          "model_name": "LayoutModel",
          "state": {
            "_view_name": "LayoutView",
            "grid_template_rows": null,
            "right": null,
            "justify_content": null,
            "_view_module": "@jupyter-widgets/base",
            "overflow": null,
            "_model_module_version": "1.2.0",
            "_view_count": null,
            "flex_flow": null,
            "width": null,
            "min_width": null,
            "border": null,
            "align_items": null,
            "bottom": null,
            "_model_module": "@jupyter-widgets/base",
            "top": null,
            "grid_column": null,
            "overflow_y": null,
            "overflow_x": null,
            "grid_auto_flow": null,
            "grid_area": null,
            "grid_template_columns": null,
            "flex": null,
            "_model_name": "LayoutModel",
            "justify_items": null,
            "grid_row": null,
            "max_height": null,
            "align_content": null,
            "visibility": null,
            "align_self": null,
            "height": null,
            "min_height": null,
            "padding": null,
            "grid_auto_rows": null,
            "grid_gap": null,
            "max_width": null,
            "order": null,
            "_view_module_version": "1.2.0",
            "grid_template_areas": null,
            "object_position": null,
            "object_fit": null,
            "grid_auto_columns": null,
            "margin": null,
            "display": null,
            "left": null
          }
        },
        "7dc4bfe4d4f84d1280a822991d465838": {
          "model_module": "@jupyter-widgets/controls",
          "model_name": "DescriptionStyleModel",
          "state": {
            "_view_name": "StyleView",
            "_model_name": "DescriptionStyleModel",
            "description_width": "",
            "_view_module": "@jupyter-widgets/base",
            "_model_module_version": "1.5.0",
            "_view_count": null,
            "_view_module_version": "1.2.0",
            "_model_module": "@jupyter-widgets/controls"
          }
        },
        "832d3c561429447c84a2774dde201638": {
          "model_module": "@jupyter-widgets/base",
          "model_name": "LayoutModel",
          "state": {
            "_view_name": "LayoutView",
            "grid_template_rows": null,
            "right": null,
            "justify_content": null,
            "_view_module": "@jupyter-widgets/base",
            "overflow": null,
            "_model_module_version": "1.2.0",
            "_view_count": null,
            "flex_flow": null,
            "width": null,
            "min_width": null,
            "border": null,
            "align_items": null,
            "bottom": null,
            "_model_module": "@jupyter-widgets/base",
            "top": null,
            "grid_column": null,
            "overflow_y": null,
            "overflow_x": null,
            "grid_auto_flow": null,
            "grid_area": null,
            "grid_template_columns": null,
            "flex": null,
            "_model_name": "LayoutModel",
            "justify_items": null,
            "grid_row": null,
            "max_height": null,
            "align_content": null,
            "visibility": null,
            "align_self": null,
            "height": null,
            "min_height": null,
            "padding": null,
            "grid_auto_rows": null,
            "grid_gap": null,
            "max_width": null,
            "order": null,
            "_view_module_version": "1.2.0",
            "grid_template_areas": null,
            "object_position": null,
            "object_fit": null,
            "grid_auto_columns": null,
            "margin": null,
            "display": null,
            "left": null
          }
        },
        "6afacf824fb644538aa36c3cf206a3f8": {
          "model_module": "@jupyter-widgets/controls",
          "model_name": "HBoxModel",
          "state": {
            "_view_name": "HBoxView",
            "_dom_classes": [],
            "_model_name": "HBoxModel",
            "_view_module": "@jupyter-widgets/controls",
            "_model_module_version": "1.5.0",
            "_view_count": null,
            "_view_module_version": "1.5.0",
            "box_style": "",
            "layout": "IPY_MODEL_0c9e2f612f184b89a9a52649bd50cdf8",
            "_model_module": "@jupyter-widgets/controls",
            "children": [
              "IPY_MODEL_f8368d84fc5e4efa9c658580cfdde1d4",
              "IPY_MODEL_d8a6d67092584291b51e92130d18d455"
            ]
          }
        },
        "0c9e2f612f184b89a9a52649bd50cdf8": {
          "model_module": "@jupyter-widgets/base",
          "model_name": "LayoutModel",
          "state": {
            "_view_name": "LayoutView",
            "grid_template_rows": null,
            "right": null,
            "justify_content": null,
            "_view_module": "@jupyter-widgets/base",
            "overflow": null,
            "_model_module_version": "1.2.0",
            "_view_count": null,
            "flex_flow": null,
            "width": null,
            "min_width": null,
            "border": null,
            "align_items": null,
            "bottom": null,
            "_model_module": "@jupyter-widgets/base",
            "top": null,
            "grid_column": null,
            "overflow_y": null,
            "overflow_x": null,
            "grid_auto_flow": null,
            "grid_area": null,
            "grid_template_columns": null,
            "flex": null,
            "_model_name": "LayoutModel",
            "justify_items": null,
            "grid_row": null,
            "max_height": null,
            "align_content": null,
            "visibility": null,
            "align_self": null,
            "height": null,
            "min_height": null,
            "padding": null,
            "grid_auto_rows": null,
            "grid_gap": null,
            "max_width": null,
            "order": null,
            "_view_module_version": "1.2.0",
            "grid_template_areas": null,
            "object_position": null,
            "object_fit": null,
            "grid_auto_columns": null,
            "margin": null,
            "display": null,
            "left": null
          }
        },
        "f8368d84fc5e4efa9c658580cfdde1d4": {
          "model_module": "@jupyter-widgets/controls",
          "model_name": "FloatProgressModel",
          "state": {
            "_view_name": "ProgressView",
            "style": "IPY_MODEL_92840be4a2034833bdce920271df58e4",
            "_dom_classes": [],
            "description": "",
            "_model_name": "FloatProgressModel",
            "bar_style": "success",
            "max": 1,
            "_view_module": "@jupyter-widgets/controls",
            "_model_module_version": "1.5.0",
            "value": 1,
            "_view_count": null,
            "_view_module_version": "1.5.0",
            "orientation": "horizontal",
            "min": 0,
            "description_tooltip": null,
            "_model_module": "@jupyter-widgets/controls",
            "layout": "IPY_MODEL_c883842671094504869b739a1d60185e"
          }
        },
        "d8a6d67092584291b51e92130d18d455": {
          "model_module": "@jupyter-widgets/controls",
          "model_name": "HTMLModel",
          "state": {
            "_view_name": "HTMLView",
            "style": "IPY_MODEL_79b413d2ffc5447b98b56566522e906e",
            "_dom_classes": [],
            "description": "",
            "_model_name": "HTMLModel",
            "placeholder": "​",
            "_view_module": "@jupyter-widgets/controls",
            "_model_module_version": "1.5.0",
            "value": " 1654784/? [00:00&lt;00:00, 3619649.55it/s]",
            "_view_count": null,
            "_view_module_version": "1.5.0",
            "description_tooltip": null,
            "_model_module": "@jupyter-widgets/controls",
            "layout": "IPY_MODEL_3b27eb144e974fea91fbee96e932e2ce"
          }
        },
        "92840be4a2034833bdce920271df58e4": {
          "model_module": "@jupyter-widgets/controls",
          "model_name": "ProgressStyleModel",
          "state": {
            "_view_name": "StyleView",
            "_model_name": "ProgressStyleModel",
            "description_width": "initial",
            "_view_module": "@jupyter-widgets/base",
            "_model_module_version": "1.5.0",
            "_view_count": null,
            "_view_module_version": "1.2.0",
            "bar_color": null,
            "_model_module": "@jupyter-widgets/controls"
          }
        },
        "c883842671094504869b739a1d60185e": {
          "model_module": "@jupyter-widgets/base",
          "model_name": "LayoutModel",
          "state": {
            "_view_name": "LayoutView",
            "grid_template_rows": null,
            "right": null,
            "justify_content": null,
            "_view_module": "@jupyter-widgets/base",
            "overflow": null,
            "_model_module_version": "1.2.0",
            "_view_count": null,
            "flex_flow": null,
            "width": null,
            "min_width": null,
            "border": null,
            "align_items": null,
            "bottom": null,
            "_model_module": "@jupyter-widgets/base",
            "top": null,
            "grid_column": null,
            "overflow_y": null,
            "overflow_x": null,
            "grid_auto_flow": null,
            "grid_area": null,
            "grid_template_columns": null,
            "flex": null,
            "_model_name": "LayoutModel",
            "justify_items": null,
            "grid_row": null,
            "max_height": null,
            "align_content": null,
            "visibility": null,
            "align_self": null,
            "height": null,
            "min_height": null,
            "padding": null,
            "grid_auto_rows": null,
            "grid_gap": null,
            "max_width": null,
            "order": null,
            "_view_module_version": "1.2.0",
            "grid_template_areas": null,
            "object_position": null,
            "object_fit": null,
            "grid_auto_columns": null,
            "margin": null,
            "display": null,
            "left": null
          }
        },
        "79b413d2ffc5447b98b56566522e906e": {
          "model_module": "@jupyter-widgets/controls",
          "model_name": "DescriptionStyleModel",
          "state": {
            "_view_name": "StyleView",
            "_model_name": "DescriptionStyleModel",
            "description_width": "",
            "_view_module": "@jupyter-widgets/base",
            "_model_module_version": "1.5.0",
            "_view_count": null,
            "_view_module_version": "1.2.0",
            "_model_module": "@jupyter-widgets/controls"
          }
        },
        "3b27eb144e974fea91fbee96e932e2ce": {
          "model_module": "@jupyter-widgets/base",
          "model_name": "LayoutModel",
          "state": {
            "_view_name": "LayoutView",
            "grid_template_rows": null,
            "right": null,
            "justify_content": null,
            "_view_module": "@jupyter-widgets/base",
            "overflow": null,
            "_model_module_version": "1.2.0",
            "_view_count": null,
            "flex_flow": null,
            "width": null,
            "min_width": null,
            "border": null,
            "align_items": null,
            "bottom": null,
            "_model_module": "@jupyter-widgets/base",
            "top": null,
            "grid_column": null,
            "overflow_y": null,
            "overflow_x": null,
            "grid_auto_flow": null,
            "grid_area": null,
            "grid_template_columns": null,
            "flex": null,
            "_model_name": "LayoutModel",
            "justify_items": null,
            "grid_row": null,
            "max_height": null,
            "align_content": null,
            "visibility": null,
            "align_self": null,
            "height": null,
            "min_height": null,
            "padding": null,
            "grid_auto_rows": null,
            "grid_gap": null,
            "max_width": null,
            "order": null,
            "_view_module_version": "1.2.0",
            "grid_template_areas": null,
            "object_position": null,
            "object_fit": null,
            "grid_auto_columns": null,
            "margin": null,
            "display": null,
            "left": null
          }
        },
        "76f2d8206e0849db8f066cd739f6f719": {
          "model_module": "@jupyter-widgets/controls",
          "model_name": "HBoxModel",
          "state": {
            "_view_name": "HBoxView",
            "_dom_classes": [],
            "_model_name": "HBoxModel",
            "_view_module": "@jupyter-widgets/controls",
            "_model_module_version": "1.5.0",
            "_view_count": null,
            "_view_module_version": "1.5.0",
            "box_style": "",
            "layout": "IPY_MODEL_c5c6c9e179c24efd9ce3e70c8bfd9984",
            "_model_module": "@jupyter-widgets/controls",
            "children": [
              "IPY_MODEL_c7adc19562cd435a9449f865b4d0e0d4",
              "IPY_MODEL_ea163f1e373f4ea6bf773b0a80f26df2"
            ]
          }
        },
        "c5c6c9e179c24efd9ce3e70c8bfd9984": {
          "model_module": "@jupyter-widgets/base",
          "model_name": "LayoutModel",
          "state": {
            "_view_name": "LayoutView",
            "grid_template_rows": null,
            "right": null,
            "justify_content": null,
            "_view_module": "@jupyter-widgets/base",
            "overflow": null,
            "_model_module_version": "1.2.0",
            "_view_count": null,
            "flex_flow": null,
            "width": null,
            "min_width": null,
            "border": null,
            "align_items": null,
            "bottom": null,
            "_model_module": "@jupyter-widgets/base",
            "top": null,
            "grid_column": null,
            "overflow_y": null,
            "overflow_x": null,
            "grid_auto_flow": null,
            "grid_area": null,
            "grid_template_columns": null,
            "flex": null,
            "_model_name": "LayoutModel",
            "justify_items": null,
            "grid_row": null,
            "max_height": null,
            "align_content": null,
            "visibility": null,
            "align_self": null,
            "height": null,
            "min_height": null,
            "padding": null,
            "grid_auto_rows": null,
            "grid_gap": null,
            "max_width": null,
            "order": null,
            "_view_module_version": "1.2.0",
            "grid_template_areas": null,
            "object_position": null,
            "object_fit": null,
            "grid_auto_columns": null,
            "margin": null,
            "display": null,
            "left": null
          }
        },
        "c7adc19562cd435a9449f865b4d0e0d4": {
          "model_module": "@jupyter-widgets/controls",
          "model_name": "FloatProgressModel",
          "state": {
            "_view_name": "ProgressView",
            "style": "IPY_MODEL_df791d1a356545b69187edaf5e9fd709",
            "_dom_classes": [],
            "description": "",
            "_model_name": "FloatProgressModel",
            "bar_style": "success",
            "max": 1,
            "_view_module": "@jupyter-widgets/controls",
            "_model_module_version": "1.5.0",
            "value": 1,
            "_view_count": null,
            "_view_module_version": "1.5.0",
            "orientation": "horizontal",
            "min": 0,
            "description_tooltip": null,
            "_model_module": "@jupyter-widgets/controls",
            "layout": "IPY_MODEL_2a7fc9026b674b31957936d1c3f48453"
          }
        },
        "ea163f1e373f4ea6bf773b0a80f26df2": {
          "model_module": "@jupyter-widgets/controls",
          "model_name": "HTMLModel",
          "state": {
            "_view_name": "HTMLView",
            "style": "IPY_MODEL_7e7931dc330344babf81de2ffea946a5",
            "_dom_classes": [],
            "description": "",
            "_model_name": "HTMLModel",
            "placeholder": "​",
            "_view_module": "@jupyter-widgets/controls",
            "_model_module_version": "1.5.0",
            "value": " 8192/? [00:00&lt;00:00, 43345.96it/s]",
            "_view_count": null,
            "_view_module_version": "1.5.0",
            "description_tooltip": null,
            "_model_module": "@jupyter-widgets/controls",
            "layout": "IPY_MODEL_acfee02efeb545ddb5f79dafd08d77ba"
          }
        },
        "df791d1a356545b69187edaf5e9fd709": {
          "model_module": "@jupyter-widgets/controls",
          "model_name": "ProgressStyleModel",
          "state": {
            "_view_name": "StyleView",
            "_model_name": "ProgressStyleModel",
            "description_width": "initial",
            "_view_module": "@jupyter-widgets/base",
            "_model_module_version": "1.5.0",
            "_view_count": null,
            "_view_module_version": "1.2.0",
            "bar_color": null,
            "_model_module": "@jupyter-widgets/controls"
          }
        },
        "2a7fc9026b674b31957936d1c3f48453": {
          "model_module": "@jupyter-widgets/base",
          "model_name": "LayoutModel",
          "state": {
            "_view_name": "LayoutView",
            "grid_template_rows": null,
            "right": null,
            "justify_content": null,
            "_view_module": "@jupyter-widgets/base",
            "overflow": null,
            "_model_module_version": "1.2.0",
            "_view_count": null,
            "flex_flow": null,
            "width": null,
            "min_width": null,
            "border": null,
            "align_items": null,
            "bottom": null,
            "_model_module": "@jupyter-widgets/base",
            "top": null,
            "grid_column": null,
            "overflow_y": null,
            "overflow_x": null,
            "grid_auto_flow": null,
            "grid_area": null,
            "grid_template_columns": null,
            "flex": null,
            "_model_name": "LayoutModel",
            "justify_items": null,
            "grid_row": null,
            "max_height": null,
            "align_content": null,
            "visibility": null,
            "align_self": null,
            "height": null,
            "min_height": null,
            "padding": null,
            "grid_auto_rows": null,
            "grid_gap": null,
            "max_width": null,
            "order": null,
            "_view_module_version": "1.2.0",
            "grid_template_areas": null,
            "object_position": null,
            "object_fit": null,
            "grid_auto_columns": null,
            "margin": null,
            "display": null,
            "left": null
          }
        },
        "7e7931dc330344babf81de2ffea946a5": {
          "model_module": "@jupyter-widgets/controls",
          "model_name": "DescriptionStyleModel",
          "state": {
            "_view_name": "StyleView",
            "_model_name": "DescriptionStyleModel",
            "description_width": "",
            "_view_module": "@jupyter-widgets/base",
            "_model_module_version": "1.5.0",
            "_view_count": null,
            "_view_module_version": "1.2.0",
            "_model_module": "@jupyter-widgets/controls"
          }
        },
        "acfee02efeb545ddb5f79dafd08d77ba": {
          "model_module": "@jupyter-widgets/base",
          "model_name": "LayoutModel",
          "state": {
            "_view_name": "LayoutView",
            "grid_template_rows": null,
            "right": null,
            "justify_content": null,
            "_view_module": "@jupyter-widgets/base",
            "overflow": null,
            "_model_module_version": "1.2.0",
            "_view_count": null,
            "flex_flow": null,
            "width": null,
            "min_width": null,
            "border": null,
            "align_items": null,
            "bottom": null,
            "_model_module": "@jupyter-widgets/base",
            "top": null,
            "grid_column": null,
            "overflow_y": null,
            "overflow_x": null,
            "grid_auto_flow": null,
            "grid_area": null,
            "grid_template_columns": null,
            "flex": null,
            "_model_name": "LayoutModel",
            "justify_items": null,
            "grid_row": null,
            "max_height": null,
            "align_content": null,
            "visibility": null,
            "align_self": null,
            "height": null,
            "min_height": null,
            "padding": null,
            "grid_auto_rows": null,
            "grid_gap": null,
            "max_width": null,
            "order": null,
            "_view_module_version": "1.2.0",
            "grid_template_areas": null,
            "object_position": null,
            "object_fit": null,
            "grid_auto_columns": null,
            "margin": null,
            "display": null,
            "left": null
          }
        }
      }
    }
  },
  "cells": [
    {
      "cell_type": "markdown",
      "metadata": {
        "id": "JaXh68jMy_If",
        "colab_type": "text"
      },
      "source": [
        "# Graded Assignment 4 : CNNs\n",
        "\n",
        "PyTorch\n",
        "MNIST Classification using LeNET on Keras"
      ]
    },
    {
      "cell_type": "code",
      "metadata": {
        "id": "WrsElbjqH-V_",
        "colab_type": "code",
        "outputId": "48fcc78f-2041-4098-a5b2-74f0c8b487ed",
        "colab": {
          "base_uri": "https://localhost:8080/",
          "height": 34
        }
      },
      "source": [
        "from keras.layers.core import Activation\n",
        "from keras.layers.core import Flatten\n",
        "from keras.layers.core import Dense\n",
        "from keras import backend as backend\n",
        "from keras.models import Sequential\n",
        "from keras.layers.convolutional import Conv2D\n",
        "from keras.layers.convolutional import MaxPooling2D\n",
        "import keras\n",
        "from sklearn.model_selection import train_test_split\n",
        "from keras.datasets import mnist\n",
        "from keras.optimizers import SGD\n",
        "from keras.utils import np_utils\n",
        "from keras import backend as K\n",
        "import numpy as np\n",
        "import argparse\n",
        "import cv2\n",
        "import matplotlib.pyplot as plt"
      ],
      "execution_count": 0,
      "outputs": [
        {
          "output_type": "stream",
          "text": [
            "Using TensorFlow backend.\n"
          ],
          "name": "stderr"
        }
      ]
    },
    {
      "cell_type": "code",
      "metadata": {
        "id": "DvcFH9uekEcp",
        "colab_type": "code",
        "colab": {}
      },
      "source": [
        "class LeNet:\n",
        "      def build(ChannelNo, R, C, ClassNo,activation=\"relu\"):\n",
        "          model = Sequential()\n",
        "          shapeval = (R, C, ChannelNo)\n",
        "          model.add(Conv2D(20, 5, padding=\"same\",input_shape=shapeval))\n",
        "          model.add(Activation(activation))\n",
        "          model.add(MaxPooling2D(pool_size=(2, 2), strides=(2, 2)))\n",
        "\n",
        "          model.add(Conv2D(50, 5, padding=\"same\"))\n",
        "          model.add(Activation(activation))\n",
        "          model.add(MaxPooling2D(pool_size=(2, 2), strides=(2, 2)))\n",
        "\n",
        "          model.add(Flatten())\n",
        "          model.add(Dense(500))\n",
        "          model.add(Activation(activation))\n",
        "          \n",
        "          model.add(Dense(ClassNo))\n",
        "          model.add(Activation(\"softmax\"))\n",
        "\n",
        "          return model"
      ],
      "execution_count": 0,
      "outputs": []
    },
    {
      "cell_type": "code",
      "metadata": {
        "id": "2ITRxeWKmNKD",
        "colab_type": "code",
        "outputId": "12f81f19-4ab1-4ea2-909a-de24f7afdf66",
        "colab": {
          "base_uri": "https://localhost:8080/",
          "height": 51
        }
      },
      "source": [
        "((xtrain, ytrain), (xtest, ytest)) = mnist.load_data()"
      ],
      "execution_count": 0,
      "outputs": [
        {
          "output_type": "stream",
          "text": [
            "Downloading data from https://s3.amazonaws.com/img-datasets/mnist.npz\n",
            "11493376/11490434 [==============================] - 0s 0us/step\n"
          ],
          "name": "stdout"
        }
      ]
    },
    {
      "cell_type": "code",
      "metadata": {
        "id": "ZwWsMOvY2ikw",
        "colab_type": "code",
        "outputId": "f2794353-1bfe-4606-c2b9-c0e87a9d6f0f",
        "colab": {
          "base_uri": "https://localhost:8080/",
          "height": 1000
        }
      },
      "source": [
        "for i in range(10):\n",
        "    img = np.asfarray(xtrain)[i].reshape((28,28))\n",
        "    plt.imshow(img, cmap=\"Greys\")\n",
        "    plt.show()"
      ],
      "execution_count": 0,
      "outputs": [
        {
          "output_type": "display_data",
          "data": {
            "image/png": "[encoded data removed]",
            "text/plain": [
              "<Figure size 432x288 with 1 Axes>"
            ]
          },
          "metadata": {
            "tags": [],
            "needs_background": "light"
          }
        },
        {
          "output_type": "display_data",
          "data": {
            "image/png": "[encoded data removed]",
            "text/plain": [
              "<Figure size 432x288 with 1 Axes>"
            ]
          },
          "metadata": {
            "tags": [],
            "needs_background": "light"
          }
        },
        {
          "output_type": "display_data",
          "data": {
            "image/png": "[encoded data removed]",
            "text/plain": [
              "<Figure size 432x288 with 1 Axes>"
            ]
          },
          "metadata": {
            "tags": [],
            "needs_background": "light"
          }
        },
        {
          "output_type": "display_data",
          "data": {
            "image/png": "[encoded data removed]",
            "text/plain": [
              "<Figure size 432x288 with 1 Axes>"
            ]
          },
          "metadata": {
            "tags": [],
            "needs_background": "light"
          }
        },
        {
          "output_type": "display_data",
          "data": {
            "image/png": "[encoded data removed]",
            "text/plain": [
              "<Figure size 432x288 with 1 Axes>"
            ]
          },
          "metadata": {
            "tags": [],
            "needs_background": "light"
          }
        },
        {
          "output_type": "display_data",
          "data": {
            "image/png": "[encoded data removed]",
            "text/plain": [
              "<Figure size 432x288 with 1 Axes>"
            ]
          },
          "metadata": {
            "tags": [],
            "needs_background": "light"
          }
        },
        {
          "output_type": "display_data",
          "data": {
            "image/png": "[encoded data removed]",
            "text/plain": [
              "<Figure size 432x288 with 1 Axes>"
            ]
          },
          "metadata": {
            "tags": [],
            "needs_background": "light"
          }
        },
        {
          "output_type": "display_data",
          "data": {
            "image/png": "[encoded data removed]",
            "text/plain": [
              "<Figure size 432x288 with 1 Axes>"
            ]
          },
          "metadata": {
            "tags": [],
            "needs_background": "light"
          }
        },
        {
          "output_type": "display_data",
          "data": {
            "image/png": "[encoded data removed]",
            "text/plain": [
              "<Figure size 432x288 with 1 Axes>"
            ]
          },
          "metadata": {
            "tags": [],
            "needs_background": "light"
          }
        },
        {
          "output_type": "display_data",
          "data": {
            "image/png": "[encoded data removed]",
            "text/plain": [
              "<Figure size 432x288 with 1 Axes>"
            ]
          },
          "metadata": {
            "tags": [],
            "needs_background": "light"
          }
        }
      ]
    },
    {
      "cell_type": "code",
      "metadata": {
        "id": "LwjZbAz7mhoP",
        "colab_type": "code",
        "colab": {}
      },
      "source": [
        "xtrain = xtrain.reshape((xtrain.shape[0], 28, 28, 1))\n",
        "xtest = xtest.reshape((xtest.shape[0], 28, 28, 1))\n"
      ],
      "execution_count": 0,
      "outputs": []
    },
    {
      "cell_type": "code",
      "metadata": {
        "id": "3DuVzju0wz9d",
        "colab_type": "code",
        "colab": {}
      },
      "source": [
        "\n",
        "xtrain = xtrain.astype(\"float32\") / 255.0\n",
        "xtest = xtest.astype(\"float32\") / 255.0\n"
      ],
      "execution_count": 0,
      "outputs": []
    },
    {
      "cell_type": "code",
      "metadata": {
        "id": "Lq0NyL1Sw0nt",
        "colab_type": "code",
        "colab": {}
      },
      "source": [
        "\n",
        "ytrain = np_utils.to_categorical(ytrain, 10)\n",
        "ytest = np_utils.to_categorical(ytest, 10)"
      ],
      "execution_count": 0,
      "outputs": []
    },
    {
      "cell_type": "code",
      "metadata": {
        "id": "td9FESvJmwu6",
        "colab_type": "code",
        "colab": {}
      },
      "source": [
        "model = LeNet.build(1, 28, 28,10)\n",
        "model.compile(loss=\"categorical_crossentropy\", optimizer=SGD(lr=0.01),metrics=[\"accuracy\"])"
      ],
      "execution_count": 0,
      "outputs": []
    },
    {
      "cell_type": "code",
      "metadata": {
        "id": "JxWBSg-J3HCm",
        "colab_type": "code",
        "outputId": "93d501d8-1c71-4c32-a01d-53170e7a1984",
        "colab": {
          "base_uri": "https://localhost:8080/",
          "height": 527
        }
      },
      "source": [
        "model.summary()"
      ],
      "execution_count": 0,
      "outputs": [
        {
          "output_type": "stream",
          "text": [
            "Model: \"sequential_1\"\n",
            "_________________________________________________________________\n",
            "Layer (type)                 Output Shape              Param #   \n",
            "=================================================================\n",
            "conv2d_1 (Conv2D)            (None, 28, 28, 20)        520       \n",
            "_________________________________________________________________\n",
            "activation_1 (Activation)    (None, 28, 28, 20)        0         \n",
            "_________________________________________________________________\n",
            "max_pooling2d_1 (MaxPooling2 (None, 14, 14, 20)        0         \n",
            "_________________________________________________________________\n",
            "conv2d_2 (Conv2D)            (None, 14, 14, 50)        25050     \n",
            "_________________________________________________________________\n",
            "activation_2 (Activation)    (None, 14, 14, 50)        0         \n",
            "_________________________________________________________________\n",
            "max_pooling2d_2 (MaxPooling2 (None, 7, 7, 50)          0         \n",
            "_________________________________________________________________\n",
            "flatten_1 (Flatten)          (None, 2450)              0         \n",
            "_________________________________________________________________\n",
            "dense_1 (Dense)              (None, 500)               1225500   \n",
            "_________________________________________________________________\n",
            "activation_3 (Activation)    (None, 500)               0         \n",
            "_________________________________________________________________\n",
            "dense_2 (Dense)              (None, 10)                5010      \n",
            "_________________________________________________________________\n",
            "activation_4 (Activation)    (None, 10)                0         \n",
            "=================================================================\n",
            "Total params: 1,256,080\n",
            "Trainable params: 1,256,080\n",
            "Non-trainable params: 0\n",
            "_________________________________________________________________\n"
          ],
          "name": "stdout"
        }
      ]
    },
    {
      "cell_type": "code",
      "metadata": {
        "id": "VATRLIMp3KgG",
        "colab_type": "code",
        "outputId": "d2742c49-3990-4681-fd62-734687d4636d",
        "colab": {
          "base_uri": "https://localhost:8080/",
          "height": 1000
        }
      },
      "source": [
        "keras.utils.plot_model(model, show_shapes=True)"
      ],
      "execution_count": 0,
      "outputs": [
        {
          "output_type": "execute_result",
          "data": {
            "image/png": "[encoded data removed]",
            "text/plain": [
              "<IPython.core.display.Image object>"
            ]
          },
          "metadata": {
            "tags": []
          },
          "execution_count": 10
        }
      ]
    },
    {
      "cell_type": "code",
      "metadata": {
        "id": "GeCJlVxenr8x",
        "colab_type": "code",
        "colab": {}
      },
      "source": [
        "# import tensorflow as tf\n",
        "# tf.test.gpu_device_name()"
      ],
      "execution_count": 0,
      "outputs": []
    },
    {
      "cell_type": "code",
      "metadata": {
        "id": "_aXiSXIEm1XS",
        "colab_type": "code",
        "outputId": "ee9b96b7-33c9-4cd3-bdcc-922c55533cb7",
        "colab": {
          "base_uri": "https://localhost:8080/",
          "height": 1000
        }
      },
      "source": [
        "model.fit(xtrain, ytrain, batch_size=128, epochs=50,verbose=1)\n",
        "\n",
        "print(\"training\")\n",
        "\n",
        "(loss, accuracy) = model.evaluate(xtest, ytest,batch_size=128, verbose=1)\n",
        "\n",
        "print(\"accuracy: {:.2f}%\".format(accuracy * 100))"
      ],
      "execution_count": 0,
      "outputs": [
        {
          "output_type": "stream",
          "text": [
            "Epoch 1/50\n",
            "60000/60000 [==============================] - 9s 144us/step - loss: 0.9957 - accuracy: 0.7290\n",
            "Epoch 2/50\n",
            "60000/60000 [==============================] - 2s 40us/step - loss: 0.2547 - accuracy: 0.9238\n",
            "Epoch 3/50\n",
            "60000/60000 [==============================] - 2s 41us/step - loss: 0.1804 - accuracy: 0.9470\n",
            "Epoch 4/50\n",
            "60000/60000 [==============================] - 2s 40us/step - loss: 0.1407 - accuracy: 0.9580\n",
            "Epoch 5/50\n",
            "60000/60000 [==============================] - 2s 40us/step - loss: 0.1153 - accuracy: 0.9660\n",
            "Epoch 6/50\n",
            "60000/60000 [==============================] - 2s 40us/step - loss: 0.0985 - accuracy: 0.9714\n",
            "Epoch 7/50\n",
            "60000/60000 [==============================] - 2s 41us/step - loss: 0.0869 - accuracy: 0.9741\n",
            "Epoch 8/50\n",
            "60000/60000 [==============================] - 2s 40us/step - loss: 0.0778 - accuracy: 0.9769\n",
            "Epoch 9/50\n",
            "60000/60000 [==============================] - 2s 40us/step - loss: 0.0712 - accuracy: 0.9790\n",
            "Epoch 10/50\n",
            "60000/60000 [==============================] - 2s 40us/step - loss: 0.0658 - accuracy: 0.9799\n",
            "Epoch 11/50\n",
            "60000/60000 [==============================] - 2s 40us/step - loss: 0.0608 - accuracy: 0.9815\n",
            "Epoch 12/50\n",
            "60000/60000 [==============================] - 2s 40us/step - loss: 0.0569 - accuracy: 0.9827\n",
            "Epoch 13/50\n",
            "60000/60000 [==============================] - 2s 40us/step - loss: 0.0531 - accuracy: 0.9841\n",
            "Epoch 14/50\n",
            "60000/60000 [==============================] - 2s 40us/step - loss: 0.0508 - accuracy: 0.9848\n",
            "Epoch 15/50\n",
            "60000/60000 [==============================] - 2s 40us/step - loss: 0.0477 - accuracy: 0.9860\n",
            "Epoch 16/50\n",
            "60000/60000 [==============================] - 2s 40us/step - loss: 0.0453 - accuracy: 0.9864\n",
            "Epoch 17/50\n",
            "60000/60000 [==============================] - 2s 40us/step - loss: 0.0433 - accuracy: 0.9866\n",
            "Epoch 18/50\n",
            "60000/60000 [==============================] - 2s 40us/step - loss: 0.0413 - accuracy: 0.9875\n",
            "Epoch 19/50\n",
            "60000/60000 [==============================] - 2s 40us/step - loss: 0.0396 - accuracy: 0.9880\n",
            "Epoch 20/50\n",
            "60000/60000 [==============================] - 2s 40us/step - loss: 0.0381 - accuracy: 0.9885\n",
            "Epoch 21/50\n",
            "60000/60000 [==============================] - 2s 40us/step - loss: 0.0365 - accuracy: 0.9890\n",
            "Epoch 22/50\n",
            "60000/60000 [==============================] - 2s 40us/step - loss: 0.0348 - accuracy: 0.9897\n",
            "Epoch 23/50\n",
            "60000/60000 [==============================] - 2s 40us/step - loss: 0.0338 - accuracy: 0.9897\n",
            "Epoch 24/50\n",
            "60000/60000 [==============================] - 2s 40us/step - loss: 0.0320 - accuracy: 0.9904\n",
            "Epoch 25/50\n",
            "60000/60000 [==============================] - 2s 41us/step - loss: 0.0308 - accuracy: 0.9907\n",
            "Epoch 26/50\n",
            "60000/60000 [==============================] - 2s 40us/step - loss: 0.0300 - accuracy: 0.9910\n",
            "Epoch 27/50\n",
            "60000/60000 [==============================] - 2s 40us/step - loss: 0.0290 - accuracy: 0.9912\n",
            "Epoch 28/50\n",
            "60000/60000 [==============================] - 2s 40us/step - loss: 0.0286 - accuracy: 0.9912\n",
            "Epoch 29/50\n",
            "60000/60000 [==============================] - 2s 40us/step - loss: 0.0266 - accuracy: 0.9921\n",
            "Epoch 30/50\n",
            "60000/60000 [==============================] - 2s 40us/step - loss: 0.0261 - accuracy: 0.9921\n",
            "Epoch 31/50\n",
            "60000/60000 [==============================] - 2s 41us/step - loss: 0.0253 - accuracy: 0.9922\n",
            "Epoch 32/50\n",
            "60000/60000 [==============================] - 2s 41us/step - loss: 0.0240 - accuracy: 0.9930\n",
            "Epoch 33/50\n",
            "60000/60000 [==============================] - 2s 41us/step - loss: 0.0233 - accuracy: 0.9930\n",
            "Epoch 34/50\n",
            "60000/60000 [==============================] - 2s 40us/step - loss: 0.0225 - accuracy: 0.9933\n",
            "Epoch 35/50\n",
            "60000/60000 [==============================] - 2s 40us/step - loss: 0.0220 - accuracy: 0.9938\n",
            "Epoch 36/50\n",
            "60000/60000 [==============================] - 2s 40us/step - loss: 0.0217 - accuracy: 0.9937\n",
            "Epoch 37/50\n",
            "60000/60000 [==============================] - 2s 40us/step - loss: 0.0201 - accuracy: 0.9942\n",
            "Epoch 38/50\n",
            "60000/60000 [==============================] - 2s 40us/step - loss: 0.0201 - accuracy: 0.9937\n",
            "Epoch 39/50\n",
            "60000/60000 [==============================] - 2s 40us/step - loss: 0.0192 - accuracy: 0.9947\n",
            "Epoch 40/50\n",
            "60000/60000 [==============================] - 2s 41us/step - loss: 0.0185 - accuracy: 0.9950\n",
            "Epoch 41/50\n",
            "60000/60000 [==============================] - 2s 40us/step - loss: 0.0179 - accuracy: 0.9948\n",
            "Epoch 42/50\n",
            "60000/60000 [==============================] - 2s 41us/step - loss: 0.0176 - accuracy: 0.9951\n",
            "Epoch 43/50\n",
            "60000/60000 [==============================] - 2s 40us/step - loss: 0.0169 - accuracy: 0.9954\n",
            "Epoch 44/50\n",
            "60000/60000 [==============================] - 2s 40us/step - loss: 0.0165 - accuracy: 0.9955\n",
            "Epoch 45/50\n",
            "60000/60000 [==============================] - 2s 40us/step - loss: 0.0159 - accuracy: 0.9954\n",
            "Epoch 46/50\n",
            "60000/60000 [==============================] - 2s 40us/step - loss: 0.0157 - accuracy: 0.9956\n",
            "Epoch 47/50\n",
            "60000/60000 [==============================] - 2s 40us/step - loss: 0.0151 - accuracy: 0.9957\n",
            "Epoch 48/50\n",
            "60000/60000 [==============================] - 2s 40us/step - loss: 0.0146 - accuracy: 0.9958\n",
            "Epoch 49/50\n",
            "60000/60000 [==============================] - 2s 40us/step - loss: 0.0141 - accuracy: 0.9963\n",
            "Epoch 50/50\n",
            "60000/60000 [==============================] - 2s 40us/step - loss: 0.0138 - accuracy: 0.9962\n",
            "training\n",
            "10000/10000 [==============================] - 0s 26us/step\n",
            "accuracy: 99.00%\n"
          ],
          "name": "stdout"
        }
      ]
    },
    {
      "cell_type": "code",
      "metadata": {
        "id": "oiWLZPFHnDwu",
        "colab_type": "code",
        "outputId": "3723fbc4-7e48-4e51-b232-7f335c553e9c",
        "colab": {
          "base_uri": "https://localhost:8080/",
          "height": 68
        }
      },
      "source": [
        "score = model.evaluate(xtest,ytest)\n",
        "print(\"Test Loss: \",score[0])\n",
        "print(\"Test Accuracy: \",score[1])"
      ],
      "execution_count": 0,
      "outputs": [
        {
          "output_type": "stream",
          "text": [
            "10000/10000 [==============================] - 1s 77us/step\n",
            "Test Loss:  0.030041632273126742\n",
            "Test Accuracy:  0.9900000095367432\n"
          ],
          "name": "stdout"
        }
      ]
    },
    {
      "cell_type": "code",
      "metadata": {
        "id": "VCngKv7ovBxG",
        "colab_type": "code",
        "colab": {}
      },
      "source": [
        "import torch\n",
        "import torch.nn as nn\n",
        "import torch.optim as optim\n",
        "from torchvision import datasets, transforms\n",
        "from torch.autograd import Variable\n",
        "from PIL import Image\n",
        "import torch.nn.functional as F\n",
        "import numpy as np"
      ],
      "execution_count": 0,
      "outputs": []
    },
    {
      "cell_type": "code",
      "metadata": {
        "id": "sXrkO2NAwN87",
        "colab_type": "code",
        "colab": {}
      },
      "source": [
        "class LeNet(nn.Module):\n",
        "    def __init__(self):\n",
        "        super(LeNet, self).__init__()\n",
        "        self.conv1 = nn.Conv2d(1, 6, 5)\n",
        "        self.conv2 = nn.Conv2d(6, 16, 5)\n",
        "        self.fc1 = nn.Linear(16 * 5 * 5, 120)\n",
        "        self.fc2 = nn.Linear(120, 84)\n",
        "        self.fc3 = nn.Linear(84, 10)\n",
        "\n",
        "    def forward(self, x):\n",
        "        x = F.max_pool2d(F.relu(self.conv1(x)), 2)\n",
        "        x = F.max_pool2d(F.relu(self.conv2(x)), 2)\n",
        "        x = x.view(x.size()[0], -1)\n",
        "        x = F.relu(self.fc1(x))\n",
        "        x = F.relu(self.fc2(x))\n",
        "        x = self.fc3(x)\n",
        "        return x"
      ],
      "execution_count": 0,
      "outputs": []
    },
    {
      "cell_type": "code",
      "metadata": {
        "id": "sPyrAJIv1jUp",
        "colab_type": "code",
        "colab": {}
      },
      "source": [
        "def load_data(train_batch_size, test_batch_size):\n",
        "    # Fetch training data: total 60000 samples\n",
        "    train_loader = torch.utils.data.DataLoader(\n",
        "        datasets.MNIST('data', train=True, download=True,\n",
        "                       transform=transforms.Compose([\n",
        "                           transforms.Resize((32, 32)),\n",
        "                           transforms.ToTensor(),\n",
        "                           transforms.Normalize((0.1307,), (0.3081,))\n",
        "                       ])),\n",
        "        batch_size=train_batch_size, shuffle=True)\n",
        "\n",
        "    # Fetch test data: total 10000 samples\n",
        "    test_loader = torch.utils.data.DataLoader(\n",
        "        datasets.MNIST('data', train=False, transform=transforms.Compose([\n",
        "            transforms.Resize((32, 32)),\n",
        "            transforms.ToTensor(),\n",
        "            transforms.Normalize((0.1307,), (0.3081,))\n",
        "        ])),\n",
        "        batch_size=test_batch_size, shuffle=True)\n",
        "\n",
        "    return (train_loader, test_loader)"
      ],
      "execution_count": 0,
      "outputs": []
    },
    {
      "cell_type": "code",
      "metadata": {
        "id": "zyJpgOnk0lhY",
        "colab_type": "code",
        "colab": {}
      },
      "source": [
        "def train(model, optimizer, epoch, train_loader, log_interval):\n",
        "    model.train()\n",
        "\n",
        "    # define loss function\n",
        "    loss_fn = torch.nn.CrossEntropyLoss()\n",
        "\n",
        "    # Iterate over batches of data\n",
        "    for batch_idx, (data, target) in enumerate(train_loader):\n",
        "        # Wrap the input and target output in the `Variable` wrapper\n",
        "        data, target = Variable(data), Variable(target)\n",
        "\n",
        "        # Clear the gradients, since PyTorch accumulates them\n",
        "        optimizer.zero_grad()\n",
        "\n",
        "        # Forward propagation\n",
        "        output = model(data)\n",
        "\n",
        "        loss = loss_fn(output, target)\n",
        "\n",
        "        # Backward propagation\n",
        "        loss.backward()\n",
        "\n",
        "        # Update the parameters(weight,bias)\n",
        "        optimizer.step()\n",
        "\n",
        "        # print log\n",
        "        if batch_idx % log_interval == 0:\n",
        "            print('Train set, Epoch {} [{}/{} ({:.0f}%)]\\tLoss: {:.6f}'.format(\n",
        "                epoch, batch_idx * len(data), len(train_loader.dataset),\n",
        "                       100. * batch_idx / len(train_loader),\n",
        "                loss.item()))"
      ],
      "execution_count": 0,
      "outputs": []
    },
    {
      "cell_type": "code",
      "metadata": {
        "id": "dM7j1nC-0yG6",
        "colab_type": "code",
        "colab": {}
      },
      "source": [
        "def test(model, epoch, test_loader):\n",
        "    # State that you are testing the model; this prevents layers e.g. Dropout to take effect\n",
        "    model.eval()\n",
        "\n",
        "    # Init loss & correct prediction accumulators\n",
        "    test_loss = 0\n",
        "    correct = 0\n",
        "\n",
        "    # define loss function\n",
        "    loss_fn = torch.nn.CrossEntropyLoss(size_average=False)\n",
        "\n",
        "    # Iterate over data\n",
        "    for data, target in test_loader:\n",
        "        data, target = Variable(data), Variable(target)\n",
        "        \n",
        "        # Forward propagation\n",
        "        output = model(data)\n",
        "\n",
        "        # Calculate & accumulate loss\n",
        "        test_loss += loss_fn(output, target).item()\n",
        "\n",
        "        # Get the index of the max log-probability (the predicted output label)\n",
        "        pred = np.argmax(output.data, axis=1)\n",
        "\n",
        "        # If correct, increment correct prediction accumulator\n",
        "        correct = correct + np.equal(pred, target.data).sum()\n",
        "\n",
        "    # Print log\n",
        "    test_loss /= len(test_loader.dataset)\n",
        "    print('\\nTest set, Epoch {} , Average loss: {:.4f}, Accuracy: {}/{} ({:.0f}%)\\n'.format(epoch,\n",
        "        test_loss, correct, len(test_loader.dataset),\n",
        "        100. * correct / len(test_loader.dataset)))"
      ],
      "execution_count": 0,
      "outputs": []
    },
    {
      "cell_type": "markdown",
      "metadata": {
        "id": "b8cjs2kMQffZ",
        "colab_type": "text"
      },
      "source": [
        "# Process and finding the Accuracy:"
      ]
    },
    {
      "cell_type": "code",
      "metadata": {
        "id": "xW93rLGt017W",
        "colab_type": "code",
        "outputId": "881c3cc5-6500-4779-9a4e-301f6bec00a8",
        "colab": {
          "base_uri": "https://localhost:8080/",
          "height": 1000,
          "referenced_widgets": [
            "f7164aacd2834512a1aec507ffab65dc",
            "0837d075b2d641e6b75c8cf8c7a35ba1",
            "e1f0d0d115564b7a9570df290c074231",
            "c88a6b20e8be4f7e80e004341859d194",
            "4477af9dd75642c981bfb5e9e2fdd899",
            "4c1ec05c49a5434bbc284fb2200e0631",
            "3262f3e0c9094c49a1d36c0d1605570c",
            "f3cf72099acc424487915e27a5b4fb69",
            "cd345d1deda94339a500853d4792702f",
            "3b9121e1948d46f8b2485a5156d8252a",
            "0ad0e9b04f6b4daa8d487af30838e818",
            "80e7f79db8cc4240898ff1b57f8375e2",
            "6430f9f5c6084d139dd5ffb5b0d61084",
            "28d32d75ae0346dda7beed2523af11b1",
            "7dc4bfe4d4f84d1280a822991d465838",
            "832d3c561429447c84a2774dde201638",
            "6afacf824fb644538aa36c3cf206a3f8",
            "0c9e2f612f184b89a9a52649bd50cdf8",
            "f8368d84fc5e4efa9c658580cfdde1d4",
            "d8a6d67092584291b51e92130d18d455",
            "92840be4a2034833bdce920271df58e4",
            "c883842671094504869b739a1d60185e",
            "79b413d2ffc5447b98b56566522e906e",
            "3b27eb144e974fea91fbee96e932e2ce",
            "76f2d8206e0849db8f066cd739f6f719",
            "c5c6c9e179c24efd9ce3e70c8bfd9984",
            "c7adc19562cd435a9449f865b4d0e0d4",
            "ea163f1e373f4ea6bf773b0a80f26df2",
            "df791d1a356545b69187edaf5e9fd709",
            "2a7fc9026b674b31957936d1c3f48453",
            "7e7931dc330344babf81de2ffea946a5",
            "acfee02efeb545ddb5f79dafd08d77ba"
          ]
        }
      },
      "source": [
        "torch.manual_seed(123)\n",
        "\n",
        "model = LeNet()\n",
        "\n",
        "lr = 0.01\n",
        "momentum=0.5\n",
        "optimizer = optim.SGD(model.parameters(), lr=lr, momentum=momentum)\n",
        "\n",
        "train_batch_size = 64\n",
        "test_batch_size = 1000\n",
        "train_loader, test_loader = load_data(train_batch_size, test_batch_size)\n",
        "\n",
        "epochs = 10\n",
        "log_interval = 100\n",
        "for epoch in range(1, epochs + 1):\n",
        "    train(model, optimizer, epoch, train_loader, log_interval=log_interval)\n",
        "    test(model, epoch, test_loader)"
      ],
      "execution_count": 0,
      "outputs": [
        {
          "output_type": "stream",
          "text": [
            "Downloading http://yann.lecun.com/exdb/mnist/train-images-idx3-ubyte.gz to data/MNIST/raw/train-images-idx3-ubyte.gz\n"
          ],
          "name": "stdout"
        },
        {
          "output_type": "display_data",
          "data": {
            "application/vnd.jupyter.widget-view+json": {
              "model_id": "f7164aacd2834512a1aec507ffab65dc",
              "version_minor": 0,
              "version_major": 2
            },
            "text/plain": [
              "HBox(children=(FloatProgress(value=1.0, bar_style='info', max=1.0), HTML(value='')))"
            ]
          },
          "metadata": {
            "tags": []
          }
        },
        {
          "output_type": "stream",
          "text": [
            "Extracting data/MNIST/raw/train-images-idx3-ubyte.gz to data/MNIST/raw\n",
            "Downloading http://yann.lecun.com/exdb/mnist/train-labels-idx1-ubyte.gz to data/MNIST/raw/train-labels-idx1-ubyte.gz\n"
          ],
          "name": "stdout"
        },
        {
          "output_type": "display_data",
          "data": {
            "application/vnd.jupyter.widget-view+json": {
              "model_id": "cd345d1deda94339a500853d4792702f",
              "version_minor": 0,
              "version_major": 2
            },
            "text/plain": [
              "HBox(children=(FloatProgress(value=1.0, bar_style='info', max=1.0), HTML(value='')))"
            ]
          },
          "metadata": {
            "tags": []
          }
        },
        {
          "output_type": "stream",
          "text": [
            "Extracting data/MNIST/raw/train-labels-idx1-ubyte.gz to data/MNIST/raw\n",
            "Downloading http://yann.lecun.com/exdb/mnist/t10k-images-idx3-ubyte.gz to data/MNIST/raw/t10k-images-idx3-ubyte.gz\n"
          ],
          "name": "stdout"
        },
        {
          "output_type": "display_data",
          "data": {
            "application/vnd.jupyter.widget-view+json": {
              "model_id": "6afacf824fb644538aa36c3cf206a3f8",
              "version_minor": 0,
              "version_major": 2
            },
            "text/plain": [
              "HBox(children=(FloatProgress(value=1.0, bar_style='info', max=1.0), HTML(value='')))"
            ]
          },
          "metadata": {
            "tags": []
          }
        },
        {
          "output_type": "stream",
          "text": [
            "Extracting data/MNIST/raw/t10k-images-idx3-ubyte.gz to data/MNIST/raw\n",
            "Downloading http://yann.lecun.com/exdb/mnist/t10k-labels-idx1-ubyte.gz to data/MNIST/raw/t10k-labels-idx1-ubyte.gz\n"
          ],
          "name": "stdout"
        },
        {
          "output_type": "display_data",
          "data": {
            "application/vnd.jupyter.widget-view+json": {
              "model_id": "76f2d8206e0849db8f066cd739f6f719",
              "version_minor": 0,
              "version_major": 2
            },
            "text/plain": [
              "HBox(children=(FloatProgress(value=1.0, bar_style='info', max=1.0), HTML(value='')))"
            ]
          },
          "metadata": {
            "tags": []
          }
        },
        {
          "output_type": "stream",
          "text": [
            "Extracting data/MNIST/raw/t10k-labels-idx1-ubyte.gz to data/MNIST/raw\n",
            "Processing...\n",
            "Done!\n",
            "\n",
            "\n",
            "\n"
          ],
          "name": "stdout"
        },
        {
          "output_type": "stream",
          "text": [
            "/pytorch/torch/csrc/utils/tensor_numpy.cpp:141: UserWarning: The given NumPy array is not writeable, and PyTorch does not support non-writeable tensors. This means you can write to the underlying (supposedly non-writeable) NumPy array using the tensor. You may want to copy the array to protect its data or make it writeable before converting it to a tensor. This type of warning will be suppressed for the rest of this program.\n"
          ],
          "name": "stderr"
        },
        {
          "output_type": "stream",
          "text": [
            "Train set, Epoch 1 [0/60000 (0%)]\tLoss: 2.297229\n",
            "Train set, Epoch 1 [6400/60000 (11%)]\tLoss: 2.138053\n",
            "Train set, Epoch 1 [12800/60000 (21%)]\tLoss: 0.613219\n",
            "Train set, Epoch 1 [19200/60000 (32%)]\tLoss: 0.292025\n",
            "Train set, Epoch 1 [25600/60000 (43%)]\tLoss: 0.421606\n",
            "Train set, Epoch 1 [32000/60000 (53%)]\tLoss: 0.274552\n",
            "Train set, Epoch 1 [38400/60000 (64%)]\tLoss: 0.261028\n",
            "Train set, Epoch 1 [44800/60000 (75%)]\tLoss: 0.124053\n",
            "Train set, Epoch 1 [51200/60000 (85%)]\tLoss: 0.161220\n",
            "Train set, Epoch 1 [57600/60000 (96%)]\tLoss: 0.118213\n"
          ],
          "name": "stdout"
        },
        {
          "output_type": "stream",
          "text": [
            "/usr/local/lib/python3.6/dist-packages/torch/nn/_reduction.py:43: UserWarning: size_average and reduce args will be deprecated, please use reduction='sum' instead.\n",
            "  warnings.warn(warning.format(ret))\n"
          ],
          "name": "stderr"
        },
        {
          "output_type": "stream",
          "text": [
            "\n",
            "Test set, Epoch 1 , Average loss: 0.1272, Accuracy: 9598/10000 (96%)\n",
            "\n",
            "Train set, Epoch 2 [0/60000 (0%)]\tLoss: 0.124289\n",
            "Train set, Epoch 2 [6400/60000 (11%)]\tLoss: 0.058056\n",
            "Train set, Epoch 2 [12800/60000 (21%)]\tLoss: 0.251738\n",
            "Train set, Epoch 2 [19200/60000 (32%)]\tLoss: 0.106818\n",
            "Train set, Epoch 2 [25600/60000 (43%)]\tLoss: 0.078260\n",
            "Train set, Epoch 2 [32000/60000 (53%)]\tLoss: 0.079035\n",
            "Train set, Epoch 2 [38400/60000 (64%)]\tLoss: 0.151185\n",
            "Train set, Epoch 2 [44800/60000 (75%)]\tLoss: 0.038826\n",
            "Train set, Epoch 2 [51200/60000 (85%)]\tLoss: 0.109503\n",
            "Train set, Epoch 2 [57600/60000 (96%)]\tLoss: 0.093752\n",
            "\n",
            "Test set, Epoch 2 , Average loss: 0.1007, Accuracy: 9670/10000 (97%)\n",
            "\n",
            "Train set, Epoch 3 [0/60000 (0%)]\tLoss: 0.144767\n",
            "Train set, Epoch 3 [6400/60000 (11%)]\tLoss: 0.029333\n",
            "Train set, Epoch 3 [12800/60000 (21%)]\tLoss: 0.062923\n",
            "Train set, Epoch 3 [19200/60000 (32%)]\tLoss: 0.047911\n",
            "Train set, Epoch 3 [25600/60000 (43%)]\tLoss: 0.067235\n",
            "Train set, Epoch 3 [32000/60000 (53%)]\tLoss: 0.040040\n",
            "Train set, Epoch 3 [38400/60000 (64%)]\tLoss: 0.086694\n",
            "Train set, Epoch 3 [44800/60000 (75%)]\tLoss: 0.025263\n",
            "Train set, Epoch 3 [51200/60000 (85%)]\tLoss: 0.021183\n",
            "Train set, Epoch 3 [57600/60000 (96%)]\tLoss: 0.040165\n",
            "\n",
            "Test set, Epoch 3 , Average loss: 0.0623, Accuracy: 9799/10000 (98%)\n",
            "\n",
            "Train set, Epoch 4 [0/60000 (0%)]\tLoss: 0.026531\n",
            "Train set, Epoch 4 [6400/60000 (11%)]\tLoss: 0.027584\n",
            "Train set, Epoch 4 [12800/60000 (21%)]\tLoss: 0.028728\n",
            "Train set, Epoch 4 [19200/60000 (32%)]\tLoss: 0.225232\n",
            "Train set, Epoch 4 [25600/60000 (43%)]\tLoss: 0.114195\n",
            "Train set, Epoch 4 [32000/60000 (53%)]\tLoss: 0.041167\n",
            "Train set, Epoch 4 [38400/60000 (64%)]\tLoss: 0.016737\n",
            "Train set, Epoch 4 [44800/60000 (75%)]\tLoss: 0.130256\n",
            "Train set, Epoch 4 [51200/60000 (85%)]\tLoss: 0.057611\n",
            "Train set, Epoch 4 [57600/60000 (96%)]\tLoss: 0.045239\n",
            "\n",
            "Test set, Epoch 4 , Average loss: 0.0545, Accuracy: 9830/10000 (98%)\n",
            "\n",
            "Train set, Epoch 5 [0/60000 (0%)]\tLoss: 0.038988\n",
            "Train set, Epoch 5 [6400/60000 (11%)]\tLoss: 0.027542\n",
            "Train set, Epoch 5 [12800/60000 (21%)]\tLoss: 0.053843\n",
            "Train set, Epoch 5 [19200/60000 (32%)]\tLoss: 0.043530\n",
            "Train set, Epoch 5 [25600/60000 (43%)]\tLoss: 0.232491\n",
            "Train set, Epoch 5 [32000/60000 (53%)]\tLoss: 0.038441\n",
            "Train set, Epoch 5 [38400/60000 (64%)]\tLoss: 0.082020\n",
            "Train set, Epoch 5 [44800/60000 (75%)]\tLoss: 0.026863\n",
            "Train set, Epoch 5 [51200/60000 (85%)]\tLoss: 0.172524\n",
            "Train set, Epoch 5 [57600/60000 (96%)]\tLoss: 0.029699\n",
            "\n",
            "Test set, Epoch 5 , Average loss: 0.0566, Accuracy: 9811/10000 (98%)\n",
            "\n",
            "Train set, Epoch 6 [0/60000 (0%)]\tLoss: 0.017151\n",
            "Train set, Epoch 6 [6400/60000 (11%)]\tLoss: 0.061875\n",
            "Train set, Epoch 6 [12800/60000 (21%)]\tLoss: 0.022057\n",
            "Train set, Epoch 6 [19200/60000 (32%)]\tLoss: 0.024509\n",
            "Train set, Epoch 6 [25600/60000 (43%)]\tLoss: 0.079402\n",
            "Train set, Epoch 6 [32000/60000 (53%)]\tLoss: 0.037639\n",
            "Train set, Epoch 6 [38400/60000 (64%)]\tLoss: 0.015686\n",
            "Train set, Epoch 6 [44800/60000 (75%)]\tLoss: 0.020808\n",
            "Train set, Epoch 6 [51200/60000 (85%)]\tLoss: 0.096441\n",
            "Train set, Epoch 6 [57600/60000 (96%)]\tLoss: 0.007426\n",
            "\n",
            "Test set, Epoch 6 , Average loss: 0.0446, Accuracy: 9852/10000 (99%)\n",
            "\n",
            "Train set, Epoch 7 [0/60000 (0%)]\tLoss: 0.073546\n",
            "Train set, Epoch 7 [6400/60000 (11%)]\tLoss: 0.050806\n",
            "Train set, Epoch 7 [12800/60000 (21%)]\tLoss: 0.144485\n",
            "Train set, Epoch 7 [19200/60000 (32%)]\tLoss: 0.030666\n",
            "Train set, Epoch 7 [25600/60000 (43%)]\tLoss: 0.084097\n",
            "Train set, Epoch 7 [32000/60000 (53%)]\tLoss: 0.010781\n",
            "Train set, Epoch 7 [38400/60000 (64%)]\tLoss: 0.024621\n",
            "Train set, Epoch 7 [44800/60000 (75%)]\tLoss: 0.085121\n",
            "Train set, Epoch 7 [51200/60000 (85%)]\tLoss: 0.042377\n",
            "Train set, Epoch 7 [57600/60000 (96%)]\tLoss: 0.018916\n",
            "\n",
            "Test set, Epoch 7 , Average loss: 0.0378, Accuracy: 9874/10000 (99%)\n",
            "\n",
            "Train set, Epoch 8 [0/60000 (0%)]\tLoss: 0.014944\n",
            "Train set, Epoch 8 [6400/60000 (11%)]\tLoss: 0.011151\n",
            "Train set, Epoch 8 [12800/60000 (21%)]\tLoss: 0.011319\n",
            "Train set, Epoch 8 [19200/60000 (32%)]\tLoss: 0.029234\n",
            "Train set, Epoch 8 [25600/60000 (43%)]\tLoss: 0.083031\n",
            "Train set, Epoch 8 [32000/60000 (53%)]\tLoss: 0.044840\n",
            "Train set, Epoch 8 [38400/60000 (64%)]\tLoss: 0.036752\n",
            "Train set, Epoch 8 [44800/60000 (75%)]\tLoss: 0.045237\n",
            "Train set, Epoch 8 [51200/60000 (85%)]\tLoss: 0.002618\n",
            "Train set, Epoch 8 [57600/60000 (96%)]\tLoss: 0.007959\n",
            "\n",
            "Test set, Epoch 8 , Average loss: 0.0351, Accuracy: 9884/10000 (99%)\n",
            "\n",
            "Train set, Epoch 9 [0/60000 (0%)]\tLoss: 0.031214\n",
            "Train set, Epoch 9 [6400/60000 (11%)]\tLoss: 0.025766\n",
            "Train set, Epoch 9 [12800/60000 (21%)]\tLoss: 0.019738\n",
            "Train set, Epoch 9 [19200/60000 (32%)]\tLoss: 0.086642\n",
            "Train set, Epoch 9 [25600/60000 (43%)]\tLoss: 0.008406\n",
            "Train set, Epoch 9 [32000/60000 (53%)]\tLoss: 0.046655\n",
            "Train set, Epoch 9 [38400/60000 (64%)]\tLoss: 0.002213\n",
            "Train set, Epoch 9 [44800/60000 (75%)]\tLoss: 0.052166\n",
            "Train set, Epoch 9 [51200/60000 (85%)]\tLoss: 0.080048\n",
            "Train set, Epoch 9 [57600/60000 (96%)]\tLoss: 0.083050\n",
            "\n",
            "Test set, Epoch 9 , Average loss: 0.0488, Accuracy: 9839/10000 (98%)\n",
            "\n",
            "Train set, Epoch 10 [0/60000 (0%)]\tLoss: 0.025090\n",
            "Train set, Epoch 10 [6400/60000 (11%)]\tLoss: 0.017082\n",
            "Train set, Epoch 10 [12800/60000 (21%)]\tLoss: 0.023589\n",
            "Train set, Epoch 10 [19200/60000 (32%)]\tLoss: 0.000840\n",
            "Train set, Epoch 10 [25600/60000 (43%)]\tLoss: 0.004255\n",
            "Train set, Epoch 10 [32000/60000 (53%)]\tLoss: 0.014337\n",
            "Train set, Epoch 10 [38400/60000 (64%)]\tLoss: 0.035364\n",
            "Train set, Epoch 10 [44800/60000 (75%)]\tLoss: 0.055336\n",
            "Train set, Epoch 10 [51200/60000 (85%)]\tLoss: 0.019988\n",
            "Train set, Epoch 10 [57600/60000 (96%)]\tLoss: 0.009891\n",
            "\n",
            "Test set, Epoch 10 , Average loss: 0.0394, Accuracy: 9872/10000 (99%)\n",
            "\n"
          ],
          "name": "stdout"
        }
      ]
    },
    {
      "cell_type": "code",
      "metadata": {
        "id": "Cdd3VFy804na",
        "colab_type": "code",
        "colab": {}
      },
      "source": [
        ""
      ],
      "execution_count": 0,
      "outputs": []
    }
  ]
}