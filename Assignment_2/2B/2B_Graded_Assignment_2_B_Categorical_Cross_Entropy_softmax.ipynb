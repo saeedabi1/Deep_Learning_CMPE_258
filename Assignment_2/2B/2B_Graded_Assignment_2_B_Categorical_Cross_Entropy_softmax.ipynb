{
  "nbformat": 4,
  "nbformat_minor": 0,
  "metadata": {
    "colab": {
      "name": "2B.Graded Assignment_2_B_Categorical_Cross_Entropy_softmax.ipynb",
      "provenance": [],
      "collapsed_sections": []
    },
    "kernelspec": {
      "name": "python3",
      "display_name": "Python 3"
    },
    "accelerator": "GPU"
  },
  "cells": [
    {
      "cell_type": "markdown",
      "metadata": {
        "id": "ZvzfVVB0HWeQ",
        "colab_type": "text"
      },
      "source": [
        "Mirsaeid Abolghasemi\n",
        "# II) do keras models for four problems\n",
        "\n",
        "C) sparse categorical crossentropy (softmax) - try to get images of 7 classes with images\n"
      ]
    },
    {
      "cell_type": "markdown",
      "metadata": {
        "id": "PBaV9eZuOfqY",
        "colab_type": "text"
      },
      "source": [
        "I am using sparse categorical crossentropy (softmax) on cifar10 because my code crashed when creating the Google dataset and took a long time"
      ]
    },
    {
      "cell_type": "code",
      "metadata": {
        "id": "v2qLUW5JlBb6",
        "colab_type": "code",
        "colab": {}
      },
      "source": [
        "# !pip install bs4\n",
        "# !pip install requests"
      ],
      "execution_count": 0,
      "outputs": []
    },
    {
      "cell_type": "code",
      "metadata": {
        "id": "Ddhi9BaWPsrA",
        "colab_type": "code",
        "colab": {}
      },
      "source": [
        "# from bs4 import BeautifulSoup\n",
        "# import urllib\n",
        "# import urllib.request as urllib2"
      ],
      "execution_count": 0,
      "outputs": []
    },
    {
      "cell_type": "code",
      "metadata": {
        "id": "O6sW_JJnkWD_",
        "colab_type": "code",
        "colab": {
          "base_uri": "https://localhost:8080/",
          "height": 34
        },
        "outputId": "4a0380eb-524a-47bf-fcd5-f452c475799f"
      },
      "source": [
        "#Library for neural network Model Building\n",
        "\n",
        "import keras\n",
        "from keras.datasets import cifar10\n",
        "from keras.preprocessing.image import ImageDataGenerator\n",
        "from keras.models import Sequential\n",
        "from keras.layers import Dense \n",
        "from keras.layers import Dropout\n",
        "from keras.layers import Activation\n",
        "from keras.layers import Flatten\n",
        "import os\n",
        "from keras.callbacks import TensorBoard\n",
        "from keras import backend as be\n",
        "\n",
        "#Library for performance evaluation\n",
        "import time"
      ],
      "execution_count": 3,
      "outputs": [
        {
          "output_type": "stream",
          "text": [
            "Using TensorFlow backend.\n"
          ],
          "name": "stderr"
        }
      ]
    },
    {
      "cell_type": "code",
      "metadata": {
        "id": "nW-IWCAtdxLZ",
        "colab_type": "code",
        "colab": {}
      },
      "source": [
        "%load_ext tensorboard"
      ],
      "execution_count": 0,
      "outputs": []
    },
    {
      "cell_type": "code",
      "metadata": {
        "id": "We-QQnzad2Mv",
        "colab_type": "code",
        "colab": {}
      },
      "source": [
        "!rm -rf ./logs/ "
      ],
      "execution_count": 0,
      "outputs": []
    },
    {
      "cell_type": "code",
      "metadata": {
        "id": "__UCpbLKkkjz",
        "colab_type": "code",
        "colab": {
          "base_uri": "https://localhost:8080/",
          "height": 102
        },
        "outputId": "490550a7-dd46-4836-dbb4-357b09803c37"
      },
      "source": [
        "batch_size = 32\n",
        "num_classes = 10\n",
        "epochs = 100\n",
        "data_augmentation = True\n",
        "num_predictions = 20\n",
        "img_width, img_height = 32, 32\n",
        "\n",
        "# cifar10 => cat/dog\n",
        "(input_train, target_train), (input_test, target_test) = cifar10.load_data()\n",
        "print('input_train shape:', input_train.shape)\n",
        "print(input_train.shape[0], 'train samples')\n",
        "print(input_test.shape[0], 'test samples')"
      ],
      "execution_count": 6,
      "outputs": [
        {
          "output_type": "stream",
          "text": [
            "Downloading data from https://www.cs.toronto.edu/~kriz/cifar-10-python.tar.gz\n",
            "170500096/170498071 [==============================] - 6s 0us/step\n",
            "input_train shape: (50000, 32, 32, 3)\n",
            "50000 train samples\n",
            "10000 test samples\n"
          ],
          "name": "stdout"
        }
      ]
    },
    {
      "cell_type": "code",
      "metadata": {
        "id": "h0nECvNyPFI9",
        "colab_type": "code",
        "colab": {}
      },
      "source": [
        ""
      ],
      "execution_count": 0,
      "outputs": []
    },
    {
      "cell_type": "code",
      "metadata": {
        "id": "KVYt56Ua15DD",
        "colab_type": "code",
        "colab": {}
      },
      "source": [
        "# Convert class vectors to binary form for each class matrices.\n",
        "target_train = keras.utils.to_categorical(target_train, num_classes)\n",
        "target_test = keras.utils.to_categorical(target_test, num_classes)"
      ],
      "execution_count": 0,
      "outputs": []
    },
    {
      "cell_type": "code",
      "metadata": {
        "id": "fF28_-Vn4gYi",
        "colab_type": "code",
        "colab": {}
      },
      "source": [
        "# if be.image_data_format() == 'channels_first':\n",
        "#     input_train = input_train.reshape(input_train.shape[0], 3, img_width, img_height)\n",
        "#     input_test = input_test.reshape(input_test.shape[0], 3, img_width, img_height)\n",
        "#     input_shape = (1, img_width, img_height)\n",
        "# else:\n",
        "#     input_train = input_train.reshape(input_train.shape[0], img_width, img_height, 3)\n",
        "#     input_test = input_test.reshape(input_test.shape[0], img_width, img_height, 3)\n",
        "#     input_shape = (img_width, img_height, 3)\n"
      ],
      "execution_count": 0,
      "outputs": []
    },
    {
      "cell_type": "code",
      "metadata": {
        "id": "uwQLkGCw6_Wf",
        "colab_type": "code",
        "colab": {}
      },
      "source": [
        "# Parse numbers as floats\n",
        "input_train = input_train.astype('float32')\n",
        "input_test = input_test.astype('float32')"
      ],
      "execution_count": 0,
      "outputs": []
    },
    {
      "cell_type": "code",
      "metadata": {
        "id": "aVEpaLWr7DIX",
        "colab_type": "code",
        "colab": {}
      },
      "source": [
        "# Normalize data\n",
        "input_train = input_train / 255\n",
        "input_test = input_test / 255"
      ],
      "execution_count": 0,
      "outputs": []
    },
    {
      "cell_type": "code",
      "metadata": {
        "id": "1y-RyCj82FjC",
        "colab_type": "code",
        "colab": {}
      },
      "source": [
        "def neuron_layers():\n",
        "  model = Sequential()\n",
        "  model.add(Flatten(input_shape = (32,32,3)))\n",
        "  model.add(Dense(600, activation='relu', kernel_initializer= 'he_uniform'))\n",
        "  model.add(Dropout(0.2))\n",
        "  model.add(Dense(300, activation='elu', kernel_initializer='he_uniform'))\n",
        "  model.add(Dropout(0.2))\n",
        "  model.add(Dense(100, activation='relu', kernel_initializer='he_uniform'))\n",
        "  model.add(Dropout(0.5))\n",
        "  model.add(Dense(num_classes, activation='softmax', kernel_initializer='he_uniform'))\n",
        "  \n",
        "  # initiate RMSprop optimizer\n",
        "  opt = keras.optimizers.RMSprop(learning_rate=0.0001, decay=1e-6)\n",
        "\n",
        "  # Compile the model\n",
        "  model.compile(loss='categorical_crossentropy',\n",
        "                optimizer=opt,\n",
        "                metrics=['accuracy'])\n",
        "  return model"
      ],
      "execution_count": 0,
      "outputs": []
    },
    {
      "cell_type": "code",
      "metadata": {
        "id": "EBND7ZRd7KHa",
        "colab_type": "code",
        "outputId": "28cff7ef-7d01-4285-a334-a2aa586cf422",
        "colab": {
          "base_uri": "https://localhost:8080/",
          "height": 1000
        }
      },
      "source": [
        "# Fit data to model\n",
        "model = neuron_layers()\n",
        "\n",
        "datagen = ImageDataGenerator(width_shift_range=0.1,height_shift_range=0.1, \n",
        "                             horizontal_flip=True)\n",
        "\n",
        "# for better visualization\n",
        "tensorboard = TensorBoard(f\"logs/spam_classifier_{time.time()}\")\n",
        "print (model.summary())\n",
        "\n",
        "model.fit_generator(datagen.flow(input_train, target_train,\n",
        "                    batch_size=batch_size), epochs= 25,\n",
        "                    validation_data=(input_test, target_test),\n",
        "                    workers=4, callbacks=[tensorboard])"
      ],
      "execution_count": 14,
      "outputs": [
        {
          "output_type": "stream",
          "text": [
            "Model: \"sequential_3\"\n",
            "_________________________________________________________________\n",
            "Layer (type)                 Output Shape              Param #   \n",
            "=================================================================\n",
            "flatten_3 (Flatten)          (None, 3072)              0         \n",
            "_________________________________________________________________\n",
            "dense_9 (Dense)              (None, 600)               1843800   \n",
            "_________________________________________________________________\n",
            "dropout_7 (Dropout)          (None, 600)               0         \n",
            "_________________________________________________________________\n",
            "dense_10 (Dense)             (None, 300)               180300    \n",
            "_________________________________________________________________\n",
            "dropout_8 (Dropout)          (None, 300)               0         \n",
            "_________________________________________________________________\n",
            "dense_11 (Dense)             (None, 100)               30100     \n",
            "_________________________________________________________________\n",
            "dropout_9 (Dropout)          (None, 100)               0         \n",
            "_________________________________________________________________\n",
            "dense_12 (Dense)             (None, 10)                1010      \n",
            "=================================================================\n",
            "Total params: 2,055,210\n",
            "Trainable params: 2,055,210\n",
            "Non-trainable params: 0\n",
            "_________________________________________________________________\n",
            "None\n",
            "Epoch 1/25\n",
            "1563/1563 [==============================] - 29s 19ms/step - loss: 2.1436 - accuracy: 0.2098 - val_loss: 1.9027 - val_accuracy: 0.3140\n",
            "Epoch 2/25\n",
            "1563/1563 [==============================] - 30s 19ms/step - loss: 1.9792 - accuracy: 0.2785 - val_loss: 1.7845 - val_accuracy: 0.3765\n",
            "Epoch 3/25\n",
            "1563/1563 [==============================] - 30s 19ms/step - loss: 1.9057 - accuracy: 0.3109 - val_loss: 1.7610 - val_accuracy: 0.3696\n",
            "Epoch 4/25\n",
            "1563/1563 [==============================] - 30s 19ms/step - loss: 1.8686 - accuracy: 0.3292 - val_loss: 1.6924 - val_accuracy: 0.4018\n",
            "Epoch 5/25\n",
            "1563/1563 [==============================] - 30s 19ms/step - loss: 1.8268 - accuracy: 0.3441 - val_loss: 1.6298 - val_accuracy: 0.4308\n",
            "Epoch 6/25\n",
            "1563/1563 [==============================] - 30s 19ms/step - loss: 1.8043 - accuracy: 0.3549 - val_loss: 1.6455 - val_accuracy: 0.4106\n",
            "Epoch 7/25\n",
            "1563/1563 [==============================] - 30s 19ms/step - loss: 1.7810 - accuracy: 0.3655 - val_loss: 1.6088 - val_accuracy: 0.4308\n",
            "Epoch 8/25\n",
            "1563/1563 [==============================] - 30s 19ms/step - loss: 1.7618 - accuracy: 0.3672 - val_loss: 1.6095 - val_accuracy: 0.4306\n",
            "Epoch 9/25\n",
            "1563/1563 [==============================] - 30s 19ms/step - loss: 1.7430 - accuracy: 0.3763 - val_loss: 1.5876 - val_accuracy: 0.4401\n",
            "Epoch 10/25\n",
            "1563/1563 [==============================] - 30s 19ms/step - loss: 1.7389 - accuracy: 0.3812 - val_loss: 1.5493 - val_accuracy: 0.4533\n",
            "Epoch 11/25\n",
            "1563/1563 [==============================] - 30s 19ms/step - loss: 1.7273 - accuracy: 0.3847 - val_loss: 1.5716 - val_accuracy: 0.4557\n",
            "Epoch 12/25\n",
            "1563/1563 [==============================] - 31s 20ms/step - loss: 1.7108 - accuracy: 0.3876 - val_loss: 1.5256 - val_accuracy: 0.4614\n",
            "Epoch 13/25\n",
            "1563/1563 [==============================] - 30s 19ms/step - loss: 1.7031 - accuracy: 0.3947 - val_loss: 1.5289 - val_accuracy: 0.4568\n",
            "Epoch 14/25\n",
            "1563/1563 [==============================] - 30s 19ms/step - loss: 1.6960 - accuracy: 0.3985 - val_loss: 1.4957 - val_accuracy: 0.4743\n",
            "Epoch 15/25\n",
            "1563/1563 [==============================] - 30s 19ms/step - loss: 1.6894 - accuracy: 0.4005 - val_loss: 1.5053 - val_accuracy: 0.4643\n",
            "Epoch 16/25\n",
            "1563/1563 [==============================] - 30s 19ms/step - loss: 1.6850 - accuracy: 0.3998 - val_loss: 1.4937 - val_accuracy: 0.4744\n",
            "Epoch 17/25\n",
            "1563/1563 [==============================] - 30s 19ms/step - loss: 1.6760 - accuracy: 0.4034 - val_loss: 1.4889 - val_accuracy: 0.4815\n",
            "Epoch 18/25\n",
            "1563/1563 [==============================] - 30s 19ms/step - loss: 1.6740 - accuracy: 0.4064 - val_loss: 1.4802 - val_accuracy: 0.4813\n",
            "Epoch 19/25\n",
            "1563/1563 [==============================] - 30s 19ms/step - loss: 1.6699 - accuracy: 0.4065 - val_loss: 1.4698 - val_accuracy: 0.4805\n",
            "Epoch 20/25\n",
            "1563/1563 [==============================] - 30s 19ms/step - loss: 1.6652 - accuracy: 0.4093 - val_loss: 1.4701 - val_accuracy: 0.4846\n",
            "Epoch 21/25\n",
            "1563/1563 [==============================] - 30s 19ms/step - loss: 1.6628 - accuracy: 0.4100 - val_loss: 1.4629 - val_accuracy: 0.4893\n",
            "Epoch 22/25\n",
            "1563/1563 [==============================] - 30s 19ms/step - loss: 1.6522 - accuracy: 0.4119 - val_loss: 1.4728 - val_accuracy: 0.4742\n",
            "Epoch 23/25\n",
            "1563/1563 [==============================] - 30s 19ms/step - loss: 1.6541 - accuracy: 0.4113 - val_loss: 1.4521 - val_accuracy: 0.4870\n",
            "Epoch 24/25\n",
            "1563/1563 [==============================] - 30s 19ms/step - loss: 1.6529 - accuracy: 0.4124 - val_loss: 1.4731 - val_accuracy: 0.4890\n",
            "Epoch 25/25\n",
            "1563/1563 [==============================] - 29s 19ms/step - loss: 1.6506 - accuracy: 0.4170 - val_loss: 1.4512 - val_accuracy: 0.4893\n"
          ],
          "name": "stdout"
        },
        {
          "output_type": "execute_result",
          "data": {
            "text/plain": [
              "<keras.callbacks.callbacks.History at 0x7f510e1db320>"
            ]
          },
          "metadata": {
            "tags": []
          },
          "execution_count": 14
        }
      ]
    },
    {
      "cell_type": "code",
      "metadata": {
        "id": "tSU-PpHz8E39",
        "colab_type": "code",
        "colab": {}
      },
      "source": [
        "# Score trained model.\n",
        "scores = model.evaluate(input_test, target_test, verbose=1, callbacks = [keras.callbacks.TensorBoard(\"logs/sample\" + \"/keras\")])\n",
        "print('Test loss:', scores[0])\n",
        "print('Test accuracy:', scores[1])"
      ],
      "execution_count": 0,
      "outputs": []
    },
    {
      "cell_type": "code",
      "metadata": {
        "id": "q7SXV5_UGvlA",
        "colab_type": "code",
        "colab": {}
      },
      "source": [
        "%load_ext tensorboard\n",
        "%tensorboard --logdir logs/sample\n",
        "%load_ext tensorboard\n",
        "%tensorboard --logdir=logs/sample #--port=6006\n",
        "\n",
        "root_logdir = os.path.join(os.curdir, \"my_logs\")\n",
        "def get_run_logdir():\n",
        "    import time\n",
        "    run_id = time.strftime(\"run_%Y_%m_%d-%H_%M_%S\")\n",
        "    return os.path.join(root_logdir, run_id)\n",
        "\n",
        "run_logdir = get_run_logdir()"
      ],
      "execution_count": 0,
      "outputs": []
    },
    {
      "cell_type": "code",
      "metadata": {
        "id": "VuUWkEtexV5X",
        "colab_type": "code",
        "colab": {}
      },
      "source": [
        "print(\"Done!\")"
      ],
      "execution_count": 0,
      "outputs": []
    },
    {
      "cell_type": "code",
      "metadata": {
        "id": "tZfUcnwdrIAa",
        "colab_type": "code",
        "colab": {}
      },
      "source": [
        "# !pip install pep8 pytest-pep8 autopep8"
      ],
      "execution_count": 0,
      "outputs": []
    },
    {
      "cell_type": "code",
      "metadata": {
        "id": "s2DNcv0JxV75",
        "colab_type": "code",
        "colab": {
          "base_uri": "https://localhost:8080/",
          "height": 581
        },
        "outputId": "a521f229-e444-43c4-93b7-f329f86d531f"
      },
      "source": [
        "!tensorboard dev upload --logdir logs --name \"Graded Homework 2 - 2B\" --description \"II) do keras models for four problems b)get images of the classes \""
      ],
      "execution_count": 15,
      "outputs": [
        {
          "output_type": "stream",
          "text": [
            "2020-05-19 04:34:44.889750: I tensorflow/stream_executor/platform/default/dso_loader.cc:44] Successfully opened dynamic library libcudart.so.10.1\n",
            "\n",
            "***** TensorBoard Uploader *****\n",
            "\n",
            "This will upload your TensorBoard logs to https://tensorboard.dev/ from\n",
            "the following directory:\n",
            "\n",
            "logs\n",
            "\n",
            "This TensorBoard will be visible to everyone. Do not upload sensitive\n",
            "data.\n",
            "\n",
            "Your use of this service is subject to Google's Terms of Service\n",
            "<https://policies.google.com/terms> and Privacy Policy\n",
            "<https://policies.google.com/privacy>, and TensorBoard.dev's Terms of Service\n",
            "<https://tensorboard.dev/policy/terms/>.\n",
            "\n",
            "This notice will not be shown again while you are logged into the uploader.\n",
            "To log out, run `tensorboard dev auth revoke`.\n",
            "\n",
            "Continue? (yes/NO) yes\n",
            "\n",
            "Please visit this URL to authorize this application: https://accounts.google.com/o/oauth2/auth?response_type=code&client_id=373649185512-8v619h5kft38l4456nm2dj4ubeqsrvh6.apps.googleusercontent.com&redirect_uri=urn%3Aietf%3Awg%3Aoauth%3A2.0%3Aoob&scope=openid+https%3A%2F%2Fwww.googleapis.com%2Fauth%2Fuserinfo.email&state=wHk31yJOMBqeUmzTQxlCDLBD8z1ZMe&prompt=consent&access_type=offline\n",
            "Enter the authorization code: 4/zwGUzIA0FXwIpvk7SnfT1BzlWX8H1R1Eu8fXT-240TCuwDze2Hs31To\n",
            "\n",
            "Data for the \"graphs\" plugin is now uploaded to TensorBoard.dev! Note that uploaded data is public. If you do not want to upload data for this plugin, use the \"--plugins\" command line argument.\n",
            "Upload started and will continue reading any new data as it's added\n",
            "to the logdir. To stop uploading, press Ctrl-C.\n",
            "View your TensorBoard live at: https://tensorboard.dev/experiment/2maqcmd6SzKO4NgJlzwjXw/\n",
            "\n",
            "Upload stopped. View your TensorBoard at https://tensorboard.dev/experiment/2maqcmd6SzKO4NgJlzwjXw/\n",
            "^C\n"
          ],
          "name": "stdout"
        }
      ]
    },
    {
      "cell_type": "markdown",
      "metadata": {
        "id": "Q2O17q_wN9pT",
        "colab_type": "text"
      },
      "source": [
        "#View your TensorBoard live at:\n",
        " https://tensorboard.dev/experiment/2maqcmd6SzKO4NgJlzwjXw/"
      ]
    }
  ]
}