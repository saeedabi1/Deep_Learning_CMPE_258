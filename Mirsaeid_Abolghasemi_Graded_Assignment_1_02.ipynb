{
  "nbformat": 4,
  "nbformat_minor": 0,
  "metadata": {
    "colab": {
      "name": "Mirsaeid_Abolghasemi_Graded Assignment 1_02",
      "provenance": [],
      "collapsed_sections": [],
      "authorship_tag": "ABX9TyNTMHVosNLHgFMdeGOewhJg",
      "include_colab_link": true
    },
    "kernelspec": {
      "name": "python3",
      "display_name": "Python 3"
    },
    "accelerator": "GPU"
  },
  "cells": [
    {
      "cell_type": "markdown",
      "metadata": {
        "id": "view-in-github",
        "colab_type": "text"
      },
      "source": [
        "<a href=\"https://colab.research.google.com/github/saeedabi1/Deep_Learning_CMPE_258/blob/master/Mirsaeid_Abolghasemi_Graded_Assignment_1_02.ipynb\" target=\"_parent\"><img src=\"https://colab.research.google.com/assets/colab-badge.svg\" alt=\"Open In Colab\"/></a>"
      ]
    },
    {
      "cell_type": "markdown",
      "metadata": {
        "id": "xMD8-yQ4VGvS",
        "colab_type": "text"
      },
      "source": [
        "**Mirsaeid Abolghasemi - Deep LEarning 258**"
      ]
    },
    {
      "cell_type": "markdown",
      "metadata": {
        "id": "WZQLXlpiTETo",
        "colab_type": "text"
      },
      "source": [
        "Graded Assignment 1 : Do MNIST classifier using numpy and python without CNN and just using plain neural networks. From scratch. "
      ]
    },
    {
      "cell_type": "code",
      "metadata": {
        "id": "O9mY5N5TyS92",
        "colab_type": "code",
        "colab": {}
      },
      "source": [
        "import pandas as pd\n",
        "import numpy as np\n",
        "import matplotlib.pyplot as plt\n",
        "import matplotlib.image as mpimg\n",
        "import seaborn as sns\n",
        "%matplotlib inline"
      ],
      "execution_count": 0,
      "outputs": []
    },
    {
      "cell_type": "code",
      "metadata": {
        "id": "pA5LrezRfkyE",
        "colab_type": "code",
        "colab": {
          "base_uri": "https://localhost:8080/",
          "height": 63
        },
        "outputId": "eb955816-c26e-47f2-f552-9f1d9430855d"
      },
      "source": [
        "from tensorflow.python.util import deprecation\n",
        "deprecation._PRINT_DEPRECATION_WARNINGS = False"
      ],
      "execution_count": 2,
      "outputs": [
        {
          "output_type": "display_data",
          "data": {
            "text/html": [
              "<p style=\"color: red;\">\n",
              "The default version of TensorFlow in Colab will soon switch to TensorFlow 2.x.<br>\n",
              "We recommend you <a href=\"https://www.tensorflow.org/guide/migrate\" target=\"_blank\">upgrade</a> now \n",
              "or ensure your notebook will continue to use TensorFlow 1.x via the <code>%tensorflow_version 1.x</code> magic:\n",
              "<a href=\"https://colab.research.google.com/notebooks/tensorflow_version.ipynb\" target=\"_blank\">more info</a>.</p>\n"
            ],
            "text/plain": [
              "<IPython.core.display.HTML object>"
            ]
          },
          "metadata": {
            "tags": []
          }
        }
      ]
    },
    {
      "cell_type": "code",
      "metadata": {
        "id": "pp6Ju9OSO7Tx",
        "colab_type": "code",
        "outputId": "2617e365-9f84-4bbb-e222-80e022eb7ba3",
        "colab": {
          "base_uri": "https://localhost:8080/",
          "height": 34
        }
      },
      "source": [
        "from sklearn.model_selection import train_test_split\n",
        "from sklearn.metrics import confusion_matrix\n",
        "import itertools\n",
        "from keras.utils.np_utils import to_categorical \n",
        "from keras.models import Sequential\n",
        "from keras.layers import Dense, Dropout, Flatten, Conv2D, MaxPool2D\n",
        "from keras.optimizers import RMSprop\n",
        "from keras.preprocessing.image import ImageDataGenerator\n",
        "from keras.callbacks import ReduceLROnPlateau\n",
        "from keras.datasets import mnist\n",
        "from keras.utils import np_utils"
      ],
      "execution_count": 3,
      "outputs": [
        {
          "output_type": "stream",
          "text": [
            "Using TensorFlow backend.\n"
          ],
          "name": "stderr"
        }
      ]
    },
    {
      "cell_type": "code",
      "metadata": {
        "id": "GT0cnaXjUp4e",
        "colab_type": "code",
        "colab": {}
      },
      "source": [
        "#Build Neural Network from scratch with Numpy on MNIST Dataset\n"
      ],
      "execution_count": 0,
      "outputs": []
    },
    {
      "cell_type": "code",
      "metadata": {
        "id": "jYVMNd9DVMTd",
        "colab_type": "code",
        "colab": {}
      },
      "source": [
        "\n",
        "#from sklearn.datasets import fetch_mldata\n",
        "from sklearn.datasets import fetch_openml\n",
        "from sklearn.metrics import classification_report, confusion_matrix\n",
        "import numpy as np"
      ],
      "execution_count": 0,
      "outputs": []
    },
    {
      "cell_type": "code",
      "metadata": {
        "id": "o5-D6GjdPOSh",
        "colab_type": "code",
        "colab": {}
      },
      "source": [
        "# import\n",
        "# implement MNIST classifier \n",
        "mnist = fetch_openml('mnist_784')\n",
        "#mnist = fetch_mldata('MNIST original')\n",
        "X, y = mnist[\"data\"], mnist[\"target\"]"
      ],
      "execution_count": 0,
      "outputs": []
    },
    {
      "cell_type": "code",
      "metadata": {
        "id": "mTLsV5CnPL0C",
        "colab_type": "code",
        "colab": {}
      },
      "source": [
        "#f) The code should normalize the input as discussed in the class \n",
        "#before training (scaling the input)\n",
        "# scale\n",
        "# Normalize the data\n",
        "X = X / 255"
      ],
      "execution_count": 0,
      "outputs": []
    },
    {
      "cell_type": "code",
      "metadata": {
        "id": "ZpZUjP3KPIwI",
        "colab_type": "code",
        "colab": {}
      },
      "source": [
        "# each image has to 3D: 2 coordinates, 1 value (gray scale)\n",
        "# one-hot encode labels\n",
        "digits = 10\n",
        "examples = y.shape[0]\n",
        "y = y.reshape(1, examples)\n",
        "Y_new = np.eye(digits)[y.astype('int32')]\n",
        "Y_new = Y_new.T.reshape(digits, examples)"
      ],
      "execution_count": 0,
      "outputs": []
    },
    {
      "cell_type": "code",
      "metadata": {
        "id": "ACXS2b_1PGFT",
        "colab_type": "code",
        "colab": {}
      },
      "source": [
        "# split, reshape, shuffle\n",
        "m = 60000\n",
        "m_test = X.shape[0] - m\n",
        "X_train, X_test = X[:m].T, X[m:].T\n",
        "Y_train, Y_test = Y_new[:,:m], Y_new[:,m:]\n",
        "shuffle_index = np.random.permutation(m)\n",
        "X_train, Y_train = X_train[:, shuffle_index], Y_train[:, shuffle_index]"
      ],
      "execution_count": 0,
      "outputs": []
    },
    {
      "cell_type": "code",
      "metadata": {
        "id": "xSbQUl7TP8Co",
        "colab_type": "code",
        "colab": {
          "base_uri": "https://localhost:8080/",
          "height": 248
        },
        "outputId": "76daa473-052c-4fd4-996f-d19f76782c2e"
      },
      "source": [
        "%matplotlib inline\n",
        "import matplotlib\n",
        "import matplotlib.pyplot as plt\n",
        "\n",
        "i = 3\n",
        "plt.imshow(X_train[:,i].reshape(28,28), cmap = matplotlib.cm.binary)\n",
        "plt.axis(\"off\")\n",
        "plt.show()\n",
        "#print(y_train[:,i])"
      ],
      "execution_count": 9,
      "outputs": [
        {
          "output_type": "display_data",
          "data": {
            "image/png": "[encoded data removed]",
            "text/plain": [
              "<Figure size 432x288 with 1 Axes>"
            ]
          },
          "metadata": {
            "tags": []
          }
        }
      ]
    },
    {
      "cell_type": "code",
      "metadata": {
        "id": "-ygfX3pmQpjN",
        "colab_type": "code",
        "colab": {
          "base_uri": "https://localhost:8080/",
          "height": 265
        },
        "outputId": "fd100cd3-42ed-4e95-e096-2c206a08360c"
      },
      "source": [
        "i = 12\n",
        "plt.imshow(X_train[:,i].reshape(28,28), cmap = matplotlib.cm.binary)\n",
        "plt.axis(\"off\")\n",
        "plt.show()\n",
        "Y_train[:,i]"
      ],
      "execution_count": 10,
      "outputs": [
        {
          "output_type": "display_data",
          "data": {
            "image/png": "[encoded data removed]",
            "text/plain": [
              "<Figure size 432x288 with 1 Axes>"
            ]
          },
          "metadata": {
            "tags": []
          }
        },
        {
          "output_type": "execute_result",
          "data": {
            "text/plain": [
              "array([0., 0., 0., 0., 0., 0., 0., 0., 1., 0.])"
            ]
          },
          "metadata": {
            "tags": []
          },
          "execution_count": 10
        }
      ]
    },
    {
      "cell_type": "code",
      "metadata": {
        "id": "SBsd7r0zkHiP",
        "colab_type": "code",
        "outputId": "bca3da0e-96d8-42c0-ca1a-8a1cac4512f6",
        "colab": {
          "base_uri": "https://localhost:8080/",
          "height": 85
        }
      },
      "source": [
        "\n",
        "print(\"X_train:\",X_train.shape)\n",
        "print(\"X_test:\",X_test.shape)\n",
        "print(\"y_train\",Y_train.shape)\n",
        "print(\"y_test:\",Y_test.shape)\n"
      ],
      "execution_count": 11,
      "outputs": [
        {
          "output_type": "stream",
          "text": [
            "X_train: (784, 60000)\n",
            "X_test: (784, 10000)\n",
            "y_train (10, 60000)\n",
            "y_test: (10, 10000)\n"
          ],
          "name": "stdout"
        }
      ]
    },
    {
      "cell_type": "markdown",
      "metadata": {
        "id": "H2X1LdcG9kCe",
        "colab_type": "text"
      },
      "source": [
        "***Relu activation function***"
      ]
    },
    {
      "cell_type": "code",
      "metadata": {
        "id": "sYSTrM7mvn_0",
        "colab_type": "code",
        "colab": {}
      },
      "source": [
        "def relu(x):\n",
        "  y = np.copy(x)\n",
        "  y[y<0] = 0\n",
        "  return y"
      ],
      "execution_count": 0,
      "outputs": []
    },
    {
      "cell_type": "markdown",
      "metadata": {
        "id": "k90plQmN5h8K",
        "colab_type": "text"
      },
      "source": [
        "***Derivative of Relu activation function***"
      ]
    },
    {
      "cell_type": "code",
      "metadata": {
        "id": "pdfUBuCeu0x5",
        "colab_type": "code",
        "colab": {}
      },
      "source": [
        "def relu_diff(x):\n",
        "  y = np.copy(x)\n",
        "  y[y>=0] = 1\n",
        "  y[y<0] = 0\n",
        "  return y\n"
      ],
      "execution_count": 0,
      "outputs": []
    },
    {
      "cell_type": "markdown",
      "metadata": {
        "id": "EPZp3yuOjwyW",
        "colab_type": "text"
      },
      "source": [
        "**Loss function**"
      ]
    },
    {
      "cell_type": "code",
      "metadata": {
        "id": "hZuliR1Rjv9y",
        "colab_type": "code",
        "colab": {}
      },
      "source": [
        "def compute_loss(Y, Y_hat):\n",
        "    \"\"\"\n",
        "    compute loss function\n",
        "    \"\"\"\n",
        "    L_sum = np.sum(np.multiply(Y, np.log(Y_hat)))\n",
        "    m = Y.shape[1]\n",
        "    L = -(1./m) * L_sum\n",
        "\n",
        "    return L"
      ],
      "execution_count": 0,
      "outputs": []
    },
    {
      "cell_type": "markdown",
      "metadata": {
        "id": "Mi88JibYjZlW",
        "colab_type": "text"
      },
      "source": [
        "**Feed Forward**"
      ]
    },
    {
      "cell_type": "code",
      "metadata": {
        "id": "LbY43OKfjaBq",
        "colab_type": "code",
        "colab": {}
      },
      "source": [
        "def feed_forward(X, params):\n",
        "    \"\"\"\n",
        "    feed forward network: 2 - layer neural net\n",
        "\n",
        "    inputs:\n",
        "        params: dictionay a dictionary contains all the weights and biases\n",
        "\n",
        "    return:\n",
        "        cache: dictionay a dictionary contains all the fully connected units and activations\n",
        "    \"\"\"\n",
        "    cache = {}\n",
        "\n",
        "    # Z1 = W1.dot(x) + b1\n",
        "    cache[\"Z1\"] = np.matmul(params[\"W1\"], X) + params[\"b1\"]\n",
        "\n",
        "    # A1 = sigmoid(Z1)\n",
        "    #cache[\"A1\"] = sigmoid(cache[\"Z1\"])\n",
        "\n",
        "    # A1 = relu(Z1)\n",
        "    cache[\"A1\"] = relu(cache[\"Z1\"])\n",
        "\n",
        "    # Z2 = W2.dot(A1) + b2\n",
        "    cache[\"Z2\"] = np.matmul(params[\"W2\"], cache[\"A1\"]) + params[\"b2\"]\n",
        "\n",
        "    # A2 = softmax(Z2)\n",
        "    cache[\"A2\"] = np.exp(cache[\"Z2\"]) / np.sum(np.exp(cache[\"Z2\"]), axis=0)\n",
        "\n",
        "    return cache\n",
        "\n",
        "\n"
      ],
      "execution_count": 0,
      "outputs": []
    },
    {
      "cell_type": "markdown",
      "metadata": {
        "id": "xbYL8c57jTF1",
        "colab_type": "text"
      },
      "source": [
        "**Back Propagation**"
      ]
    },
    {
      "cell_type": "code",
      "metadata": {
        "id": "-Cz_jWF1hjNH",
        "colab_type": "code",
        "colab": {}
      },
      "source": [
        "\n",
        "\n",
        "def back_propagate(X, Y, params, cache):\n",
        "    \"\"\"\n",
        "    back propagation\n",
        "\n",
        "    inputs:\n",
        "        params: dictionay a dictionary contains all the weights and biases\n",
        "        cache: dictionay a dictionary contains all the fully connected units and activations\n",
        "\n",
        "    return:\n",
        "        grads: dictionay a dictionary contains the gradients of corresponding weights and biases\n",
        "    \"\"\"\n",
        "    # error at last layer\n",
        "    dZ2 = cache[\"A2\"] - Y\n",
        "        \n",
        "    # gradients at last layer (Py2 need 1. to transform to float)\n",
        "    dW2 = (1./m_batch) * np.matmul(dZ2, cache[\"A1\"].T)\n",
        "    db2 = (1./m_batch) * np.sum(dZ2, axis=1, keepdims=True)\n",
        "\n",
        "    # back propgate through first layer\n",
        "    dA1 = np.matmul(params[\"W2\"].T, dZ2)\n",
        "    #dZ1 = dA1 * sigmoid(cache[\"Z1\"]) * (1 - sigmoid(cache[\"Z1\"]))\n",
        "    dZ1 = dA1 * relu_diff(cache[\"Z1\"])\n",
        "\n",
        "    # gradients at first layer (Py2 need 1. to transform to float)\n",
        "    dW1 = (1./m_batch) * np.matmul(dZ1, X.T)\n",
        "    db1 = (1./m_batch) * np.sum(dZ1, axis=1, keepdims=True)\n",
        "\n",
        "    grads = {\"dW1\": dW1, \"db1\": db1, \"dW2\": dW2, \"db2\": db2}\n",
        "\n",
        "    return grads"
      ],
      "execution_count": 0,
      "outputs": []
    },
    {
      "cell_type": "markdown",
      "metadata": {
        "id": "sKcG51FKhINi",
        "colab_type": "text"
      },
      "source": [
        "**Weight Initialization**"
      ]
    },
    {
      "cell_type": "markdown",
      "metadata": {
        "id": "N3ETar8qcvCf",
        "colab_type": "text"
      },
      "source": [
        "Current recommendation  for RELU:  variance of neurons in the network should be  2.0/n\n",
        "\n",
        "For relu : w = np.random.randn(n) * sqrt(2.0/n)\n"
      ]
    },
    {
      "cell_type": "code",
      "metadata": {
        "id": "_teEwinAdie5",
        "colab_type": "code",
        "colab": {}
      },
      "source": [
        "np.random.seed(138)\n",
        "\n",
        "# hyperparameters\n",
        "n_x = X_train.shape[0]\n",
        "n_h = 64"
      ],
      "execution_count": 0,
      "outputs": []
    },
    {
      "cell_type": "code",
      "metadata": {
        "id": "9qDNYyhDhHQq",
        "colab_type": "code",
        "colab": {}
      },
      "source": [
        "# initialization\n",
        "#b-2: The code should initialize the random weights of network properly\n",
        "#to initialize the random weights before training\n",
        "params = { \"W1\": np.random.randn(n_h, n_x) * np.sqrt(2. / n_x),\n",
        "           \"b1\": np.zeros((n_h, 1)) * np.sqrt(2. / n_x),\n",
        "           \"W2\": np.random.randn(digits, n_h) * np.sqrt(2. / n_h),\n",
        "           \"b2\": np.zeros((digits, 1)) * np.sqrt(2. / n_h) }\n",
        "\n",
        "V_dW1 = np.zeros(params[\"W1\"].shape)\n",
        "V_db1 = np.zeros(params[\"b1\"].shape)\n",
        "V_dW2 = np.zeros(params[\"W2\"].shape)\n",
        "V_db2 = np.zeros(params[\"b2\"].shape)"
      ],
      "execution_count": 0,
      "outputs": []
    },
    {
      "cell_type": "markdown",
      "metadata": {
        "id": "tCyTIHRhi2ji",
        "colab_type": "text"
      },
      "source": [
        "**Training**\n",
        "\n",
        "the hyper-parameters are tuned are learning rate, training epochs and batch size"
      ]
    },
    {
      "cell_type": "code",
      "metadata": {
        "id": "q_316QR7skXq",
        "colab_type": "code",
        "colab": {}
      },
      "source": [
        "\n",
        "learning_rate = 4\n",
        "beta = .9\n",
        "#pick appropriate batch size for minibatch\n",
        "batch_size = 128\n",
        "batches = -(-m // batch_size)"
      ],
      "execution_count": 0,
      "outputs": []
    },
    {
      "cell_type": "code",
      "metadata": {
        "id": "lQhF2wK3s-bE",
        "colab_type": "code",
        "outputId": "a74f514c-dcc9-4e4f-d16a-6df137f66bf8",
        "colab": {
          "base_uri": "https://localhost:8080/",
          "height": 187
        }
      },
      "source": [
        "#a) The code should do mini batch gradient descent along \n",
        "#with appropriate learning rate\n",
        "#mini-batch gradient descent\n",
        "# train\n",
        "for i in range(9):\n",
        "\n",
        "    permutation = np.random.permutation(X_train.shape[1])\n",
        "    X_train_shuffled = X_train[:, permutation]\n",
        "    Y_train_shuffled = Y_train[:, permutation]\n",
        "\n",
        "    for j in range(batches):\n",
        "\n",
        "        begin = j * batch_size\n",
        "        end = min(begin + batch_size, X_train.shape[1] - 1)\n",
        "        X = X_train_shuffled[:, begin:end]\n",
        "        Y = Y_train_shuffled[:, begin:end]\n",
        "        m_batch = end - begin\n",
        "\n",
        "        cache = feed_forward(X, params)\n",
        "        grads = back_propagate(X, Y, params, cache)\n",
        "\n",
        "        #adding momentum\n",
        "        V_dW1 = (beta * V_dW1 + (1. - beta) * grads[\"dW1\"])\n",
        "        V_db1 = (beta * V_db1 + (1. - beta) * grads[\"db1\"])\n",
        "        V_dW2 = (beta * V_dW2 + (1. - beta) * grads[\"dW2\"])\n",
        "        V_db2 = (beta * V_db2 + (1. - beta) * grads[\"db2\"])\n",
        "\n",
        "        params[\"W1\"] = params[\"W1\"] - learning_rate * V_dW1\n",
        "        params[\"b1\"] = params[\"b1\"] - learning_rate * V_db1\n",
        "        params[\"W2\"] = params[\"W2\"] - learning_rate * V_dW2\n",
        "        params[\"b2\"] = params[\"b2\"] - learning_rate * V_db2\n",
        "\n",
        "    cache = feed_forward(X_train, params)\n",
        "    train_cost = compute_loss(Y_train, cache[\"A2\"])\n",
        "    cache = feed_forward(X_test, params)\n",
        "    test_cost = compute_loss(Y_test, cache[\"A2\"])\n",
        "    print(\"Epoch {}: training cost = {}, test cost = {}\".format(i+1 ,train_cost, test_cost))\n",
        "\n",
        "print(\"Done.\")"
      ],
      "execution_count": 20,
      "outputs": [
        {
          "output_type": "stream",
          "text": [
            "Epoch 1: training cost = 0.2405273247905295, test cost = 0.2537536189929961\n",
            "Epoch 2: training cost = 0.2141663551431868, test cost = 0.22546168395682117\n",
            "Epoch 3: training cost = 0.16574390211008252, test cost = 0.213444185405167\n",
            "Epoch 4: training cost = 0.17749469174128862, test cost = 0.23385219134945562\n",
            "Epoch 5: training cost = 0.16180151221545397, test cost = 0.24647660776441885\n",
            "Epoch 6: training cost = 0.1360829827131235, test cost = 0.2188108809917425\n",
            "Epoch 7: training cost = 0.11797512504229209, test cost = 0.20462041184430535\n",
            "Epoch 8: training cost = 0.113582518786939, test cost = 0.2089189622113701\n",
            "Epoch 9: training cost = 0.11168638994628212, test cost = 0.20439442658107873\n",
            "Done.\n"
          ],
          "name": "stdout"
        }
      ]
    },
    {
      "cell_type": "markdown",
      "metadata": {
        "id": "zsLwPReIu74j",
        "colab_type": "text"
      },
      "source": [
        "**Results**"
      ]
    },
    {
      "cell_type": "code",
      "metadata": {
        "id": "bjUjbpNPuy3V",
        "colab_type": "code",
        "outputId": "58dacf98-7b33-4da9-ecf6-9818febd30ef",
        "colab": {
          "base_uri": "https://localhost:8080/",
          "height": 306
        }
      },
      "source": [
        "cache = feed_forward(X_test, params)\n",
        "predictions = np.argmax(cache[\"A2\"], axis=0)\n",
        "labels = np.argmax(Y_test, axis=0)\n",
        "\n",
        "print(classification_report(predictions, labels))"
      ],
      "execution_count": 21,
      "outputs": [
        {
          "output_type": "stream",
          "text": [
            "              precision    recall  f1-score   support\n",
            "\n",
            "           0       0.96      0.99      0.97       954\n",
            "           1       0.98      0.99      0.98      1124\n",
            "           2       0.95      0.96      0.96      1027\n",
            "           3       0.96      0.91      0.93      1072\n",
            "           4       0.96      0.94      0.95      1000\n",
            "           5       0.91      0.97      0.94       832\n",
            "           6       0.97      0.95      0.96       978\n",
            "           7       0.96      0.97      0.97      1018\n",
            "           8       0.96      0.90      0.93      1041\n",
            "           9       0.92      0.97      0.95       954\n",
            "\n",
            "    accuracy                           0.96     10000\n",
            "   macro avg       0.95      0.96      0.95     10000\n",
            "weighted avg       0.96      0.96      0.96     10000\n",
            "\n"
          ],
          "name": "stdout"
        }
      ]
    },
    {
      "cell_type": "markdown",
      "metadata": {
        "id": "qNPLYOnVO283",
        "colab_type": "text"
      },
      "source": [
        "**confusion_matrix**"
      ]
    },
    {
      "cell_type": "code",
      "metadata": {
        "id": "wWl48PQCMBV9",
        "colab_type": "code",
        "colab": {
          "base_uri": "https://localhost:8080/",
          "height": 187
        },
        "outputId": "433ec53d-1d59-412a-cc44-6c961e6d51ea"
      },
      "source": [
        "print(confusion_matrix(predictions, labels))"
      ],
      "execution_count": 22,
      "outputs": [
        {
          "output_type": "stream",
          "text": [
            "[[ 941    0    2    0    1    2    4    1    0    3]\n",
            " [   1 1111    0    0    1    0    2    3    1    5]\n",
            " [   1    3  984   10    5    1    0   18    5    0]\n",
            " [   2    4    7  973    1   51    2    4    9   19]\n",
            " [   2    0    4    1  945    1    4    5    7   31]\n",
            " [   3    1    1    3    0  809    6    0    5    4]\n",
            " [  12    2    9    1    8   10  932    0    3    1]\n",
            " [   6    0    8    4    3    1    0  990    2    4]\n",
            " [  12   14   17   18    4   14    8    3  939   12]\n",
            " [   0    0    0    0   14    3    0    4    3  930]]\n"
          ],
          "name": "stdout"
        }
      ]
    },
    {
      "cell_type": "code",
      "metadata": {
        "id": "TmyQzbinViJ9",
        "colab_type": "code",
        "colab": {}
      },
      "source": [
        ""
      ],
      "execution_count": 0,
      "outputs": []
    },
    {
      "cell_type": "markdown",
      "metadata": {
        "id": "iyuZzyOWXflW",
        "colab_type": "text"
      },
      "source": [
        "**MNIST classifier using numpy and python, Keras and just using MLP.**"
      ]
    },
    {
      "cell_type": "code",
      "metadata": {
        "id": "Kj4eCrJkhrNB",
        "colab_type": "code",
        "colab": {}
      },
      "source": [
        "from keras.datasets import mnist\n",
        "from keras.optimizers import SGD\n",
        "# Standardize images across the dataset, mean=0, stdev=1\n",
        "from keras.preprocessing.image import ImageDataGenerator\n",
        "# Plot images\n",
        "from matplotlib import pyplot"
      ],
      "execution_count": 0,
      "outputs": []
    },
    {
      "cell_type": "code",
      "metadata": {
        "id": "jezhljicytuk",
        "colab_type": "code",
        "colab": {
          "base_uri": "https://localhost:8080/",
          "height": 268
        },
        "outputId": "8f49f33c-c0df-448f-d276-e8f5c63b57c7"
      },
      "source": [
        "\n",
        "# load data\n",
        "(X_train, y_train), (X_test, y_test) = mnist.load_data()\n",
        "# create a grid of 3x3 images\n",
        "for i in range(0, 9):\n",
        "\tpyplot.subplot(330 + 1 + i)\n",
        "\tpyplot.imshow(X_train[i], cmap=pyplot.get_cmap('gray'))\n",
        "# show the plot\n",
        "pyplot.show()"
      ],
      "execution_count": 24,
      "outputs": [
        {
          "output_type": "display_data",
          "data": {
            "image/png": "[encoded data removed]",
            "text/plain": [
              "<Figure size 432x288 with 9 Axes>"
            ]
          },
          "metadata": {
            "tags": []
          }
        }
      ]
    },
    {
      "cell_type": "markdown",
      "metadata": {
        "id": "F5WTqO4NSiCy",
        "colab_type": "text"
      },
      "source": [
        "**Image Augmentation using Keras**"
      ]
    },
    {
      "cell_type": "code",
      "metadata": {
        "id": "FynPLCGyMAr1",
        "colab_type": "code",
        "colab": {
          "base_uri": "https://localhost:8080/",
          "height": 268
        },
        "outputId": "bb858d10-a9a4-4e79-eed4-d3234d272627"
      },
      "source": [
        "\n",
        "# load data\n",
        "(X_train, y_train), (X_test, y_test) = mnist.load_data()\n",
        "# reshape to be [samples][width][height][channels]\n",
        "X_train = X_train.reshape((X_train.shape[0], 28, 28, 1))\n",
        "X_test = X_test.reshape((X_test.shape[0], 28, 28, 1))\n",
        "# convert from int to float\n",
        "X_train = X_train.astype('float32')\n",
        "X_test = X_test.astype('float32')\n",
        "# define data preparation\n",
        "datagen = ImageDataGenerator(featurewise_center=True, featurewise_std_normalization=True)\n",
        "# fit parameters from data\n",
        "datagen.fit(X_train)\n",
        "# configure batch size and retrieve one batch of images\n",
        "for X_batch, y_batch in datagen.flow(X_train, y_train, batch_size=9):\n",
        "\t# create a grid of 3x3 images\n",
        "\tfor i in range(0, 9):\n",
        "\t\tpyplot.subplot(330 + 1 + i)\n",
        "\t\tpyplot.imshow(X_batch[i].reshape(28, 28), cmap=pyplot.get_cmap('gray'))\n",
        "\t# show the plot\n",
        "\tpyplot.show()\n",
        "\tbreak"
      ],
      "execution_count": 25,
      "outputs": [
        {
          "output_type": "display_data",
          "data": {
            "image/png": "[encoded data removed]",
            "text/plain": [
              "<Figure size 432x288 with 9 Axes>"
            ]
          },
          "metadata": {
            "tags": []
          }
        }
      ]
    },
    {
      "cell_type": "code",
      "metadata": {
        "id": "h8Mu6f4AT_hK",
        "colab_type": "code",
        "colab": {}
      },
      "source": [
        ""
      ],
      "execution_count": 0,
      "outputs": []
    },
    {
      "cell_type": "code",
      "metadata": {
        "id": "X9uiKDrEEGAO",
        "colab_type": "code",
        "colab": {
          "base_uri": "https://localhost:8080/",
          "height": 322
        },
        "outputId": "11565fac-e536-4641-d0de-ac4da71e79d0"
      },
      "source": [
        "# define data preparation by using ZCA Whitening\n",
        "datagen = ImageDataGenerator(zca_whitening=True)\n",
        "# fit parameters from data\n",
        "datagen.fit(X_train)\n",
        "# configure batch size and retrieve one batch of images\n",
        "for X_batch, y_batch in datagen.flow(X_train, y_train, batch_size=9):\n",
        "\t# create a grid of 3x3 images\n",
        "\tfor i in range(0, 9):\n",
        "\t\tpyplot.subplot(330 + 1 + i)\n",
        "\t\tpyplot.imshow(X_batch[i].reshape(28, 28), cmap=pyplot.get_cmap('gray'))\n",
        "\t# show the plot\n",
        "\tpyplot.show()\n",
        "\tbreak"
      ],
      "execution_count": 26,
      "outputs": [
        {
          "output_type": "stream",
          "text": [
            "/usr/local/lib/python3.6/dist-packages/keras_preprocessing/image/image_data_generator.py:336: UserWarning: This ImageDataGenerator specifies `zca_whitening`, which overrides setting of `featurewise_center`.\n",
            "  warnings.warn('This ImageDataGenerator specifies '\n"
          ],
          "name": "stderr"
        },
        {
          "output_type": "display_data",
          "data": {
            "image/png": "[encoded data removed]",
            "text/plain": [
              "<Figure size 432x288 with 9 Axes>"
            ]
          },
          "metadata": {
            "tags": []
          }
        }
      ]
    },
    {
      "cell_type": "code",
      "metadata": {
        "id": "-xzijYBbEGC-",
        "colab_type": "code",
        "colab": {
          "base_uri": "https://localhost:8080/",
          "height": 268
        },
        "outputId": "4c87bd0d-640e-487b-cc78-fe86892fd737"
      },
      "source": [
        "#random rotation\n",
        "datagen = ImageDataGenerator(rotation_range=90)\n",
        "# fit parameters from data\n",
        "datagen.fit(X_train)\n",
        "# configure batch size and retrieve one batch of images\n",
        "for X_batch, y_batch in datagen.flow(X_train, y_train, batch_size=9):\n",
        "\t# create a grid of 3x3 images\n",
        "\tfor i in range(0, 9):\n",
        "\t\tpyplot.subplot(330 + 1 + i)\n",
        "\t\tpyplot.imshow(X_batch[i].reshape(28, 28), cmap=pyplot.get_cmap('gray'))\n",
        "\t# show the plot\n",
        "\tpyplot.show()\n",
        "\tbreak"
      ],
      "execution_count": 27,
      "outputs": [
        {
          "output_type": "display_data",
          "data": {
            "image/png": "[encoded data removed]",
            "text/plain": [
              "<Figure size 432x288 with 9 Axes>"
            ]
          },
          "metadata": {
            "tags": []
          }
        }
      ]
    },
    {
      "cell_type": "code",
      "metadata": {
        "id": "LaCk9v_MEGF8",
        "colab_type": "code",
        "colab": {
          "base_uri": "https://localhost:8080/",
          "height": 268
        },
        "outputId": "c1fc916c-8096-441f-d2aa-334708755157"
      },
      "source": [
        "# define data preparation by random shift\n",
        "shift = 0.2\n",
        "datagen = ImageDataGenerator(width_shift_range=shift, height_shift_range=shift)\n",
        "# fit parameters from data\n",
        "datagen.fit(X_train)\n",
        "# configure batch size and retrieve one batch of images\n",
        "for X_batch, y_batch in datagen.flow(X_train, y_train, batch_size=9):\n",
        "\t# create a grid of 3x3 images\n",
        "\tfor i in range(0, 9):\n",
        "\t\tpyplot.subplot(330 + 1 + i)\n",
        "\t\tpyplot.imshow(X_batch[i].reshape(28, 28), cmap=pyplot.get_cmap('gray'))\n",
        "\t# show the plot\n",
        "\tpyplot.show()\n",
        "\tbreak"
      ],
      "execution_count": 28,
      "outputs": [
        {
          "output_type": "display_data",
          "data": {
            "image/png": "[encoded data removed]",
            "text/plain": [
              "<Figure size 432x288 with 9 Axes>"
            ]
          },
          "metadata": {
            "tags": []
          }
        }
      ]
    },
    {
      "cell_type": "code",
      "metadata": {
        "id": "_XAMwCQFEGI5",
        "colab_type": "code",
        "colab": {
          "base_uri": "https://localhost:8080/",
          "height": 268
        },
        "outputId": "aab15c7d-ef71-44c5-ad4d-d04aa40b8187"
      },
      "source": [
        "# define data preparation by random horizontal and vertical flip\n",
        "datagen = ImageDataGenerator(horizontal_flip=True, vertical_flip=True)\n",
        "# fit parameters from data\n",
        "datagen.fit(X_train)\n",
        "# configure batch size and retrieve one batch of images\n",
        "for X_batch, y_batch in datagen.flow(X_train, y_train, batch_size=9):\n",
        "\t# create a grid of 3x3 images\n",
        "\tfor i in range(0, 9):\n",
        "\t\tpyplot.subplot(330 + 1 + i)\n",
        "\t\tpyplot.imshow(X_batch[i].reshape(28, 28), cmap=pyplot.get_cmap('gray'))\n",
        "\t# show the plot\n",
        "\tpyplot.show()\n",
        "\tbreak"
      ],
      "execution_count": 29,
      "outputs": [
        {
          "output_type": "display_data",
          "data": {
            "image/png": "[encoded data removed]",
            "text/plain": [
              "<Figure size 432x288 with 9 Axes>"
            ]
          },
          "metadata": {
            "tags": []
          }
        }
      ]
    },
    {
      "cell_type": "code",
      "metadata": {
        "id": "imIJphWKBy2j",
        "colab_type": "code",
        "colab": {}
      },
      "source": [
        "# flatten 28*28 images to a 784 vector for each image\n",
        "num_pixels = X_train.shape[1] * X_train.shape[2]\n",
        "X_train = X_train.reshape((X_train.shape[0], num_pixels)).astype('float32')\n",
        "X_test = X_test.reshape((X_test.shape[0], num_pixels)).astype('float32')"
      ],
      "execution_count": 0,
      "outputs": []
    },
    {
      "cell_type": "code",
      "metadata": {
        "id": "r6F9Vs3FfAHI",
        "colab_type": "code",
        "colab": {}
      },
      "source": [
        "# normalize inputs from 0-255 to 0-1\n",
        "X_train = X_train / 255\n",
        "X_test = X_test / 255"
      ],
      "execution_count": 0,
      "outputs": []
    },
    {
      "cell_type": "code",
      "metadata": {
        "id": "8TDBGEyUfAJy",
        "colab_type": "code",
        "colab": {}
      },
      "source": [
        "# one hot encode outputs\n",
        "y_train = np_utils.to_categorical(y_train)\n",
        "y_test = np_utils.to_categorical(y_test)\n",
        "num_classes = y_test.shape[1]"
      ],
      "execution_count": 0,
      "outputs": []
    },
    {
      "cell_type": "markdown",
      "metadata": {
        "id": "8AaZEBYMWf5w",
        "colab_type": "text"
      },
      "source": [
        "**Creating model with Multi-Layer Perceptrons (MLP) and dropout**\n",
        "\n",
        "\n"
      ]
    },
    {
      "cell_type": "markdown",
      "metadata": {
        "id": "YpMz9EhjmG1p",
        "colab_type": "text"
      },
      "source": [
        "**Configure the Learning Rate in Keras based on Stochastic Gradient Descent - Adaptive Learning Rate Gradient Descent**"
      ]
    },
    {
      "cell_type": "markdown",
      "metadata": {
        "id": "BSbNuOEY2NpM",
        "colab_type": "text"
      },
      "source": [
        "# **Effect of Adaptive Learning Rates**"
      ]
    },
    {
      "cell_type": "markdown",
      "metadata": {
        "id": "TUp9cHHGospW",
        "colab_type": "text"
      },
      "source": [
        "**g) The code should use appropriate learning rate (try out few to find out which one works) - you can use adaptive learning rates like different learning rates per epoch or per mini batch -**"
      ]
    },
    {
      "cell_type": "markdown",
      "metadata": {
        "id": "eLmjVD-K1DL0",
        "colab_type": "text"
      },
      "source": [
        "Running the example creates a single figure that contains four line plots for the different evaluated optimization algorithms. \n",
        "\n",
        "**Classification accuracy on the training dataset is marked in blue, whereas accuracy on the test dataset is marked in orange.**"
      ]
    },
    {
      "cell_type": "code",
      "metadata": {
        "id": "8BBN3Yf7Fyea",
        "colab_type": "code",
        "colab": {
          "base_uri": "https://localhost:8080/",
          "height": 1000
        },
        "outputId": "4c902c01-b310-4d44-ff15-0607df113e3f"
      },
      "source": [
        "import numpy as np\n",
        "import matplotlib.pyplot as plt\n",
        "# define create_model \n",
        "\n",
        "  # create model\n",
        "model = Sequential()\n",
        "model.add(Dense(num_pixels, input_dim=num_pixels, kernel_initializer='normal', activation='relu'))\n",
        "model.add(Dense(num_pixels, input_dim=num_pixels, kernel_initializer='normal', activation='relu'))\n",
        "model.add(Dense(num_pixels, input_dim=num_pixels, kernel_initializer='normal', activation='relu'))\n",
        "model.add(Dense(num_pixels, input_dim=num_pixels, kernel_initializer='normal', activation='relu'))\n",
        "\n",
        "model.add(Dropout(0.2))\n",
        "model.add(Dense(num_classes, kernel_initializer='normal', activation='softmax'))\n",
        "\n",
        "#X_train = X_train.astype(np.float)\n",
        "optimizers = ['sgd', 'rmsprop', 'adagrad', 'adam']\n",
        "\n",
        "#X_train = list([list(x) for x in X_train])\n",
        "\n",
        "\n",
        "for opt in optimizers:\n",
        "  # determine the plot number\n",
        "  #plot_no = 220 + (i+1)\n",
        "  #pyplot.subplot(plot_no)\n",
        "\n",
        "\n",
        "  print('\\nAdaptive learning rate methods= '+opt)\n",
        "  # Compile model\n",
        "  model.compile(loss='categorical_crossentropy', optimizer=opt, metrics=['accuracy'])\n",
        "  # Fit the model\n",
        "  history = model.fit(X_train, y_train, validation_data=(X_test, y_test), epochs=10, batch_size=200, verbose=2)\n",
        "\n",
        "  # Final evaluation of the model\n",
        "  scores = model.evaluate(X_test, y_test, verbose=0)\n",
        "  print(\"\\nBaseline Error: %.2f%%\\n\" % (100-scores[1]*100))\n",
        "\n",
        "  # plot learning curves\n",
        "  #pyplot.plot(history.history['acc'], label='train')\n",
        "  #pyplot.plot(history.history['val_acc'], label='test')\n",
        "  #pyplot.title('\\nAdaptive learning rate methods= '+opt, pad=-80)\n",
        "\n",
        "  \n",
        "  # show learning curves\n",
        "  #pyplot.show()\n",
        "  #print(\"Blue= Classification accuracy\")\n",
        "  #print(\"Orange= Accuracy on the test dataset\")\n",
        "  \n",
        "  print(\"\\n Confusion Matrix: \")\n",
        "\n",
        "  y_pred = model.predict(X_test)\n",
        "  y_test = y_test.reshape(10000,10)\n",
        "  rounded_predictions = model.predict_classes(X_test, batch_size=128, verbose=0)\n",
        "  rounded_labels=np.argmax(y_test, axis=1)\n",
        "  cm = confusion_matrix(rounded_labels, rounded_predictions)\n",
        "  print(cm)\n",
        "  print(\"\\n\"+ \"*\"*100 + \"\\n\")\n",
        "\n",
        "\n",
        "\n"
      ],
      "execution_count": 34,
      "outputs": [
        {
          "output_type": "stream",
          "text": [
            "\n",
            "Adaptive learning rate methods= sgd\n",
            "Train on 60000 samples, validate on 10000 samples\n",
            "Epoch 1/10\n",
            " - 2s - loss: 0.9011 - acc: 0.7587 - val_loss: 0.3866 - val_acc: 0.8959\n",
            "Epoch 2/10\n",
            " - 2s - loss: 0.3712 - acc: 0.8943 - val_loss: 0.2888 - val_acc: 0.9180\n",
            "Epoch 3/10\n",
            " - 2s - loss: 0.2941 - acc: 0.9151 - val_loss: 0.2482 - val_acc: 0.9286\n",
            "Epoch 4/10\n",
            " - 2s - loss: 0.2551 - acc: 0.9262 - val_loss: 0.2207 - val_acc: 0.9359\n",
            "Epoch 5/10\n",
            " - 2s - loss: 0.2263 - acc: 0.9355 - val_loss: 0.2020 - val_acc: 0.9403\n",
            "Epoch 6/10\n",
            " - 2s - loss: 0.2068 - acc: 0.9400 - val_loss: 0.1859 - val_acc: 0.9437\n",
            "Epoch 7/10\n",
            " - 2s - loss: 0.1895 - acc: 0.9451 - val_loss: 0.1739 - val_acc: 0.9482\n",
            "Epoch 8/10\n",
            " - 2s - loss: 0.1766 - acc: 0.9491 - val_loss: 0.1613 - val_acc: 0.9519\n",
            "Epoch 9/10\n",
            " - 2s - loss: 0.1639 - acc: 0.9522 - val_loss: 0.1538 - val_acc: 0.9528\n",
            "Epoch 10/10\n",
            " - 2s - loss: 0.1529 - acc: 0.9560 - val_loss: 0.1453 - val_acc: 0.9561\n",
            "\n",
            "Baseline Error: 4.39%\n",
            "\n",
            "\n",
            " Confusion Matrix: \n",
            "[[ 965    0    1    2    1    4    3    1    1    2]\n",
            " [   0 1121    2    2    0    1    3    1    5    0]\n",
            " [   6    4  977   10    6    1    5   13    8    2]\n",
            " [   1    0    5  974    0   12    0    7    7    4]\n",
            " [   2    1    3    0  943    0    6    1    3   23]\n",
            " [   7    1    1   22    2  838    8    3    5    5]\n",
            " [   7    3    5    0   10   10  918    1    4    0]\n",
            " [   2    9   14    7    2    1    0  973    2   18]\n",
            " [   6    2    3   20    5   10    6    8  910    4]\n",
            " [  10    6    1    9   20    2    1   14    4  942]]\n",
            "\n",
            "****************************************************************************************************\n",
            "\n",
            "\n",
            "Adaptive learning rate methods= rmsprop\n",
            "Train on 60000 samples, validate on 10000 samples\n",
            "Epoch 1/10\n",
            " - 2s - loss: 0.5661 - acc: 0.9071 - val_loss: 0.1068 - val_acc: 0.9674\n",
            "Epoch 2/10\n",
            " - 2s - loss: 0.0969 - acc: 0.9717 - val_loss: 0.1370 - val_acc: 0.9601\n",
            "Epoch 3/10\n",
            " - 2s - loss: 0.0690 - acc: 0.9811 - val_loss: 0.0963 - val_acc: 0.9771\n",
            "Epoch 4/10\n",
            " - 2s - loss: 0.0572 - acc: 0.9842 - val_loss: 0.0875 - val_acc: 0.9757\n",
            "Epoch 5/10\n",
            " - 2s - loss: 0.0517 - acc: 0.9873 - val_loss: 0.1345 - val_acc: 0.9728\n",
            "Epoch 6/10\n",
            " - 2s - loss: 0.0469 - acc: 0.9878 - val_loss: 0.1243 - val_acc: 0.9792\n",
            "Epoch 7/10\n",
            " - 2s - loss: 0.0456 - acc: 0.9892 - val_loss: 0.1106 - val_acc: 0.9789\n",
            "Epoch 8/10\n",
            " - 2s - loss: 0.0407 - acc: 0.9903 - val_loss: 0.1356 - val_acc: 0.9801\n",
            "Epoch 9/10\n",
            " - 2s - loss: 0.0411 - acc: 0.9906 - val_loss: 0.1151 - val_acc: 0.9806\n",
            "Epoch 10/10\n",
            " - 2s - loss: 0.0421 - acc: 0.9914 - val_loss: 0.1675 - val_acc: 0.9736\n",
            "\n",
            "Baseline Error: 2.64%\n",
            "\n",
            "\n",
            " Confusion Matrix: \n",
            "[[ 978    1    0    0    0    0    0    1    0    0]\n",
            " [   5 1103    3    6    2    1    0    8    5    2]\n",
            " [   9    0 1008    4    3    0    1    5    2    0]\n",
            " [   2    0    3  995    0    3    0    2    3    2]\n",
            " [   1    0    2    0  967    0    1    1    2    8]\n",
            " [   5    0    0   12    1  865    3    1    1    4]\n",
            " [  48    2    0    1    8    3  896    0    0    0]\n",
            " [   3    0    5    1    1    0    0 1013    2    3]\n",
            " [  20    0    3    5    2    5    0    3  930    6]\n",
            " [   7    0    0    4   11    2    0    2    2  981]]\n",
            "\n",
            "****************************************************************************************************\n",
            "\n",
            "\n",
            "Adaptive learning rate methods= adagrad\n",
            "Train on 60000 samples, validate on 10000 samples\n",
            "Epoch 1/10\n",
            " - 2s - loss: 1.3078 - acc: 0.9127 - val_loss: 0.1759 - val_acc: 0.9775\n",
            "Epoch 2/10\n",
            " - 2s - loss: 0.0435 - acc: 0.9919 - val_loss: 0.0999 - val_acc: 0.9827\n",
            "Epoch 3/10\n",
            " - 2s - loss: 0.0182 - acc: 0.9959 - val_loss: 0.0933 - val_acc: 0.9853\n",
            "Epoch 4/10\n",
            " - 2s - loss: 0.0115 - acc: 0.9977 - val_loss: 0.0990 - val_acc: 0.9843\n",
            "Epoch 5/10\n",
            " - 2s - loss: 0.0074 - acc: 0.9985 - val_loss: 0.1038 - val_acc: 0.9853\n",
            "Epoch 6/10\n",
            " - 2s - loss: 0.0068 - acc: 0.9989 - val_loss: 0.1031 - val_acc: 0.9846\n",
            "Epoch 7/10\n",
            " - 2s - loss: 0.0056 - acc: 0.9990 - val_loss: 0.1047 - val_acc: 0.9849\n",
            "Epoch 8/10\n",
            " - 2s - loss: 0.0038 - acc: 0.9993 - val_loss: 0.1080 - val_acc: 0.9845\n",
            "Epoch 9/10\n",
            " - 2s - loss: 0.0033 - acc: 0.9995 - val_loss: 0.1115 - val_acc: 0.9847\n",
            "Epoch 10/10\n",
            " - 2s - loss: 0.0030 - acc: 0.9996 - val_loss: 0.1134 - val_acc: 0.9847\n",
            "\n",
            "Baseline Error: 1.53%\n",
            "\n",
            "\n",
            " Confusion Matrix: \n",
            "[[ 967    1    0    1    1    1    3    0    4    2]\n",
            " [   0 1126    3    0    0    0    2    0    4    0]\n",
            " [   2    0 1015    1    1    0    2    5    6    0]\n",
            " [   0    0    2  997    0    4    0    2    3    2]\n",
            " [   1    0    1    0  966    0    5    1    0    8]\n",
            " [   2    0    0    4    1  879    2    0    3    1]\n",
            " [   2    2    0    1    2    1  950    0    0    0]\n",
            " [   2    0    6    0    0    0    0 1009    4    7]\n",
            " [   3    0    4    8    2    2    0    2  950    3]\n",
            " [   1    2    0    6    8    3    0    1    0  988]]\n",
            "\n",
            "****************************************************************************************************\n",
            "\n",
            "\n",
            "Adaptive learning rate methods= adam\n",
            "Train on 60000 samples, validate on 10000 samples\n",
            "Epoch 1/10\n",
            " - 3s - loss: 0.0516 - acc: 0.9892 - val_loss: 0.1144 - val_acc: 0.9764\n",
            "Epoch 2/10\n",
            " - 2s - loss: 0.0286 - acc: 0.9920 - val_loss: 0.0820 - val_acc: 0.9818\n",
            "Epoch 3/10\n",
            " - 2s - loss: 0.0234 - acc: 0.9939 - val_loss: 0.0959 - val_acc: 0.9812\n",
            "Epoch 4/10\n",
            " - 2s - loss: 0.0207 - acc: 0.9942 - val_loss: 0.1116 - val_acc: 0.9768\n",
            "Epoch 5/10\n",
            " - 2s - loss: 0.0198 - acc: 0.9947 - val_loss: 0.0987 - val_acc: 0.9785\n",
            "Epoch 6/10\n",
            " - 2s - loss: 0.0144 - acc: 0.9959 - val_loss: 0.1192 - val_acc: 0.9803\n",
            "Epoch 7/10\n",
            " - 2s - loss: 0.0244 - acc: 0.9934 - val_loss: 0.1151 - val_acc: 0.9786\n",
            "Epoch 8/10\n",
            " - 2s - loss: 0.0147 - acc: 0.9959 - val_loss: 0.1327 - val_acc: 0.9743\n",
            "Epoch 9/10\n",
            " - 2s - loss: 0.0178 - acc: 0.9956 - val_loss: 0.0794 - val_acc: 0.9826\n",
            "Epoch 10/10\n",
            " - 2s - loss: 0.0116 - acc: 0.9967 - val_loss: 0.0789 - val_acc: 0.9842\n",
            "\n",
            "Baseline Error: 1.58%\n",
            "\n",
            "\n",
            " Confusion Matrix: \n",
            "[[ 971    1    0    1    0    0    5    1    1    0]\n",
            " [   0 1129    1    0    0    0    1    0    4    0]\n",
            " [   0    1 1025    0    1    0    0    2    3    0]\n",
            " [   0    0    6  997    0    2    0    3    2    0]\n",
            " [   1    1    3    0  962    0    3    0    0   12]\n",
            " [   2    0    0   10    2  871    3    0    3    1]\n",
            " [   1    2    0    1    2    3  947    0    2    0]\n",
            " [   3    5    8    0    0    0    0 1002    5    5]\n",
            " [   0    1    3    4    1    4    4    1  954    2]\n",
            " [   0    3    0    7    8    2    1    0    4  984]]\n",
            "\n",
            "****************************************************************************************************\n",
            "\n"
          ],
          "name": "stdout"
        }
      ]
    }
  ]
}