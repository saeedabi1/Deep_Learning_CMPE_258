{
  "nbformat": 4,
  "nbformat_minor": 0,
  "metadata": {
    "kernelspec": {
      "display_name": "Python 3",
      "language": "python",
      "name": "python3"
    },
    "language_info": {
      "codemirror_mode": {
        "name": "ipython",
        "version": 3
      },
      "file_extension": ".py",
      "mimetype": "text/x-python",
      "name": "python",
      "nbconvert_exporter": "python",
      "pygments_lexer": "ipython3",
      "version": "3.7.3"
    },
    "colab": {
      "name": "assignment 1_a_Linear Regression problem_lesson_2.ipynb",
      "provenance": [],
      "collapsed_sections": [],
      "include_colab_link": true
    }
  },
  "cells": [
    {
      "cell_type": "markdown",
      "metadata": {
        "id": "view-in-github",
        "colab_type": "text"
      },
      "source": [
        "<a href=\"https://colab.research.google.com/github/saeedabi1/Deep_Learning_CMPE_258/blob/master/assignment_1_a_Linear_Regression_problem_lesson_2.ipynb\" target=\"_parent\"><img src=\"https://colab.research.google.com/assets/colab-badge.svg\" alt=\"Open In Colab\"/></a>"
      ]
    },
    {
      "cell_type": "markdown",
      "metadata": {
        "id": "5Hjz9_Oksw4q",
        "colab_type": "text"
      },
      "source": [
        "Deep Learning - Mirsaeid Abolghasemi - Lesson 2 - Linear Regression problem"
      ]
    },
    {
      "cell_type": "code",
      "metadata": {
        "id": "Jsi3vFMFsw4t",
        "colab_type": "code",
        "colab": {}
      },
      "source": [
        "%matplotlib inline\n",
        "from fastai.basics import *"
      ],
      "execution_count": 0,
      "outputs": []
    },
    {
      "cell_type": "code",
      "metadata": {
        "id": "fGy5hGSwsw4w",
        "colab_type": "code",
        "outputId": "99bff81f-fa5f-41ed-99e9-831bacd31db2",
        "colab": {
          "base_uri": "https://localhost:8080/",
          "height": 357
        }
      },
      "source": [
        "n = 200\n",
        "x = torch.ones(n,2) \n",
        "x[:,0].uniform_(-1.,1)\n",
        "x[:20]"
      ],
      "execution_count": 25,
      "outputs": [
        {
          "output_type": "execute_result",
          "data": {
            "text/plain": [
              "tensor([[-0.6442,  1.0000],\n",
              "        [-0.5739,  1.0000],\n",
              "        [ 0.0783,  1.0000],\n",
              "        [-0.3127,  1.0000],\n",
              "        [ 0.6938,  1.0000],\n",
              "        [-0.9925,  1.0000],\n",
              "        [-0.2663,  1.0000],\n",
              "        [-0.5735,  1.0000],\n",
              "        [ 0.0683,  1.0000],\n",
              "        [-0.5137,  1.0000],\n",
              "        [-0.9839,  1.0000],\n",
              "        [ 0.4425,  1.0000],\n",
              "        [-0.5895,  1.0000],\n",
              "        [-0.7051,  1.0000],\n",
              "        [ 0.7956,  1.0000],\n",
              "        [ 0.1506,  1.0000],\n",
              "        [-0.1893,  1.0000],\n",
              "        [ 0.8031,  1.0000],\n",
              "        [-0.5930,  1.0000],\n",
              "        [ 0.0912,  1.0000]])"
            ]
          },
          "metadata": {
            "tags": []
          },
          "execution_count": 25
        }
      ]
    },
    {
      "cell_type": "code",
      "metadata": {
        "id": "g9kaNv6ksw41",
        "colab_type": "code",
        "outputId": "7bb0a29f-fea0-4a0b-b88b-f29282cf73f5",
        "colab": {
          "base_uri": "https://localhost:8080/",
          "height": 34
        }
      },
      "source": [
        "a = tensor(3.,2); a"
      ],
      "execution_count": 26,
      "outputs": [
        {
          "output_type": "execute_result",
          "data": {
            "text/plain": [
              "tensor([3., 2.])"
            ]
          },
          "metadata": {
            "tags": []
          },
          "execution_count": 26
        }
      ]
    },
    {
      "cell_type": "code",
      "metadata": {
        "id": "hztG4Gk2sw44",
        "colab_type": "code",
        "colab": {}
      },
      "source": [
        "y = x@a + torch.rand(n)"
      ],
      "execution_count": 0,
      "outputs": []
    },
    {
      "cell_type": "code",
      "metadata": {
        "id": "oNHWKtKUsw47",
        "colab_type": "code",
        "outputId": "56a3d6a3-1939-462f-9630-b7ea7d1d9ea6",
        "colab": {
          "base_uri": "https://localhost:8080/",
          "height": 266
        }
      },
      "source": [
        "plt.scatter(x[:,0], y);"
      ],
      "execution_count": 28,
      "outputs": [
        {
          "output_type": "display_data",
          "data": {
            "image/png": "[encoded data removed]",
            "text/plain": [
              "<Figure size 432x288 with 1 Axes>"
            ]
          },
          "metadata": {
            "tags": []
          }
        }
      ]
    },
    {
      "cell_type": "code",
      "metadata": {
        "id": "X9ytopkisw4-",
        "colab_type": "code",
        "colab": {}
      },
      "source": [
        "def mse(y_hat, y): return ((y_hat-y)**2).mean()"
      ],
      "execution_count": 0,
      "outputs": []
    },
    {
      "cell_type": "code",
      "metadata": {
        "id": "GHHSchkAsw5B",
        "colab_type": "code",
        "colab": {}
      },
      "source": [
        "a = tensor(-1.,1)"
      ],
      "execution_count": 0,
      "outputs": []
    },
    {
      "cell_type": "code",
      "metadata": {
        "id": "yvNbmZh0sw5E",
        "colab_type": "code",
        "outputId": "cebda1db-bc9c-4c3f-efe8-94b569004367",
        "colab": {
          "base_uri": "https://localhost:8080/",
          "height": 34
        }
      },
      "source": [
        "y_hat = x@a\n",
        "mse(y_hat, y)"
      ],
      "execution_count": 31,
      "outputs": [
        {
          "output_type": "execute_result",
          "data": {
            "text/plain": [
              "tensor(7.0977)"
            ]
          },
          "metadata": {
            "tags": []
          },
          "execution_count": 31
        }
      ]
    },
    {
      "cell_type": "code",
      "metadata": {
        "id": "8kfk1ocnsw5H",
        "colab_type": "code",
        "outputId": "9718c1ca-a82e-4240-85f2-4c9fa5638654",
        "colab": {
          "base_uri": "https://localhost:8080/",
          "height": 266
        }
      },
      "source": [
        "plt.scatter(x[:,0],y)\n",
        "plt.scatter(x[:,0],y_hat);"
      ],
      "execution_count": 32,
      "outputs": [
        {
          "output_type": "display_data",
          "data": {
            "image/png": "[encoded data removed]",
            "text/plain": [
              "<Figure size 432x288 with 1 Axes>"
            ]
          },
          "metadata": {
            "tags": []
          }
        }
      ]
    },
    {
      "cell_type": "code",
      "metadata": {
        "id": "F3dTaL3Jsw5L",
        "colab_type": "code",
        "outputId": "caefaee1-78ff-42ef-bff7-da6142c0fbe5",
        "colab": {
          "base_uri": "https://localhost:8080/",
          "height": 51
        }
      },
      "source": [
        "a = nn.Parameter(a); a"
      ],
      "execution_count": 33,
      "outputs": [
        {
          "output_type": "execute_result",
          "data": {
            "text/plain": [
              "Parameter containing:\n",
              "tensor([-1.,  1.], requires_grad=True)"
            ]
          },
          "metadata": {
            "tags": []
          },
          "execution_count": 33
        }
      ]
    },
    {
      "cell_type": "code",
      "metadata": {
        "id": "UCH02HLmsw5O",
        "colab_type": "code",
        "colab": {}
      },
      "source": [
        "def update():\n",
        "    y_hat = x@a\n",
        "    loss = mse(y, y_hat)\n",
        "    if t % 10 == 0: print(loss)\n",
        "    loss.backward()\n",
        "    with torch.no_grad():\n",
        "        a.sub_(lr * a.grad)\n",
        "        a.grad.zero_()"
      ],
      "execution_count": 0,
      "outputs": []
    },
    {
      "cell_type": "code",
      "metadata": {
        "id": "Cj6F-pHcsw5T",
        "colab_type": "code",
        "outputId": "fb312eb2-793f-4226-c9e2-0570e4351a8c",
        "colab": {
          "base_uri": "https://localhost:8080/",
          "height": 187
        }
      },
      "source": [
        "lr = 1e-1\n",
        "for t in range(100): update()"
      ],
      "execution_count": 35,
      "outputs": [
        {
          "output_type": "stream",
          "text": [
            "tensor(7.0977, grad_fn=<MeanBackward0>)\n",
            "tensor(1.5392, grad_fn=<MeanBackward0>)\n",
            "tensor(0.4972, grad_fn=<MeanBackward0>)\n",
            "tensor(0.1989, grad_fn=<MeanBackward0>)\n",
            "tensor(0.1117, grad_fn=<MeanBackward0>)\n",
            "tensor(0.0862, grad_fn=<MeanBackward0>)\n",
            "tensor(0.0787, grad_fn=<MeanBackward0>)\n",
            "tensor(0.0765, grad_fn=<MeanBackward0>)\n",
            "tensor(0.0759, grad_fn=<MeanBackward0>)\n",
            "tensor(0.0757, grad_fn=<MeanBackward0>)\n"
          ],
          "name": "stdout"
        }
      ]
    },
    {
      "cell_type": "code",
      "metadata": {
        "id": "nZXtnP8dsw5W",
        "colab_type": "code",
        "colab": {}
      },
      "source": [
        "#will show an error:RuntimeError: Can't call numpy() on Variable that requires grad. Use var.detach().numpy() instead.\n",
        "\n",
        "plt.scatter(x[:,0],y)\n",
        "plt.scatter(x[:,0],x@a);\n"
      ],
      "execution_count": 0,
      "outputs": []
    },
    {
      "cell_type": "code",
      "metadata": {
        "id": "y59PFhTHsw5Y",
        "colab_type": "code",
        "colab": {}
      },
      "source": [
        "#will show an error:RuntimeError: Can't call numpy() on Variable that requires grad. Use var.detach().numpy() instead.\n",
        "a = nn.Parameter(tensor(-1.,1))\n",
        "\n",
        "fig = plt.figure()\n",
        "plt.scatter(x[:,0], y, c='orange')\n",
        "line, = plt.plot(x[:,0], x@a)\n",
        "plt.close()\n",
        "\n",
        "def animate(i):\n",
        "    update()\n",
        "    line.set_ydata(x@a)\n",
        "    return line,\n",
        "\n",
        "animation.FuncAnimation(fig, animate, np.arange(0, 100), interval=20)"
      ],
      "execution_count": 0,
      "outputs": []
    }
  ]
}